{
  "nbformat": 4,
  "nbformat_minor": 0,
  "metadata": {
    "colab": {
      "name": "Introduction to Neural Networks and Deep Learning_R7_INN_Project.ipynb ",
      "provenance": [],
      "collapsed_sections": []
    },
    "kernelspec": {
      "name": "python3",
      "display_name": "Python 3"
    }
  },
  "cells": [
    {
      "cell_type": "code",
      "metadata": {
        "id": "biCLGxpHWmdb",
        "outputId": "8536aca9-35ca-4a3d-ae91-ada36afa4ae7",
        "colab": {
          "base_uri": "https://localhost:8080/"
        }
      },
      "source": [
        "from google.colab import drive\n",
        "drive.mount('/content/drive')"
      ],
      "execution_count": null,
      "outputs": [
        {
          "output_type": "stream",
          "text": [
            "Drive already mounted at /content/drive; to attempt to forcibly remount, call drive.mount(\"/content/drive\", force_remount=True).\n"
          ],
          "name": "stdout"
        }
      ]
    },
    {
      "cell_type": "markdown",
      "metadata": {
        "id": "lfI1avMVFuPh"
      },
      "source": [
        "### Read & Load Data :"
      ]
    },
    {
      "cell_type": "code",
      "metadata": {
        "id": "bD2WiCIxDzXp"
      },
      "source": [
        "import h5py\n",
        "import matplotlib.pyplot as plt\n",
        "import numpy as np\n",
        "import seaborn as sns\n",
        "import tensorflow as tf"
      ],
      "execution_count": 2,
      "outputs": []
    },
    {
      "cell_type": "code",
      "metadata": {
        "id": "97-9qP-3D6e-"
      },
      "source": [
        "h5f=h5py.File('/content/drive/My Drive/SVHN_single_grey1.h5','r')"
      ],
      "execution_count": 6,
      "outputs": []
    },
    {
      "cell_type": "code",
      "metadata": {
        "id": "DJ-FRBKRf4Lq",
        "outputId": "37d8fdad-e814-415e-e97b-44f7ba1b81f5",
        "colab": {
          "base_uri": "https://localhost:8080/"
        }
      },
      "source": [
        "h5f.keys()"
      ],
      "execution_count": null,
      "outputs": [
        {
          "output_type": "execute_result",
          "data": {
            "text/plain": [
              "<KeysViewHDF5 ['X_test', 'X_train', 'X_val', 'y_test', 'y_train', 'y_val']>"
            ]
          },
          "metadata": {
            "tags": []
          },
          "execution_count": 3
        }
      ]
    },
    {
      "cell_type": "markdown",
      "metadata": {
        "id": "Kr4Cs3WPuEOi"
      },
      "source": [
        "### Extract train and test split data :"
      ]
    },
    {
      "cell_type": "code",
      "metadata": {
        "id": "Hdo1GKjMf-by"
      },
      "source": [
        "trainX=h5f['X_train'][:]\n",
        "testX=h5f['X_test'][:]\n",
        "trainY=h5f['y_train'][:]\n",
        "testY=h5f['y_test'][:]\n",
        "h5f.close()"
      ],
      "execution_count": 7,
      "outputs": []
    },
    {
      "cell_type": "markdown",
      "metadata": {
        "id": "UlNT4XVOse5J"
      },
      "source": [
        "### Explore Dataset :"
      ]
    },
    {
      "cell_type": "code",
      "metadata": {
        "id": "FXTTMLDw-YgU",
        "outputId": "5602b324-14e2-45c1-dc9b-68480988be16",
        "colab": {
          "base_uri": "https://localhost:8080/"
        }
      },
      "source": [
        "# Printing the shape of training, testing\n",
        "print(\"train shape of X =>\",trainX.shape)\n",
        "print(\"test shape of y =>\" ,testX.shape)\n",
        "print(\"train shape of y =>\" ,trainY.shape)\n",
        "print(\"test shape of y =>\" ,testY.shape)"
      ],
      "execution_count": null,
      "outputs": [
        {
          "output_type": "stream",
          "text": [
            "train shape of X => (42000, 32, 32)\n",
            "test shape of y => (18000, 32, 32)\n",
            "train shape of y => (42000,)\n",
            "test shape of y => (18000,)\n"
          ],
          "name": "stdout"
        }
      ]
    },
    {
      "cell_type": "code",
      "metadata": {
        "id": "ZgVgv6vbtjIb",
        "outputId": "720de2f2-cb62-43a1-a428-340d58726712",
        "colab": {
          "base_uri": "https://localhost:8080/"
        }
      },
      "source": [
        "# Printing the data type of training, testing\n",
        "print(\"train datatype of X =>\",trainX.dtype)\n",
        "print(\"test datatype of y =>\" ,testX.dtype)\n",
        "print(\"train datatype of y =>\" ,trainY.dtype)\n",
        "print(\"test datatype of y =>\" ,testY.dtype)"
      ],
      "execution_count": null,
      "outputs": [
        {
          "output_type": "stream",
          "text": [
            "train datatype of X => float32\n",
            "test datatype of y => float32\n",
            "train datatype of y => uint8\n",
            "test datatype of y => uint8\n"
          ],
          "name": "stdout"
        }
      ]
    },
    {
      "cell_type": "code",
      "metadata": {
        "id": "_aLg2kB1P8yS",
        "outputId": "b0c7e2e4-ee62-42ef-ec7e-ed0747a0fe1a",
        "colab": {
          "base_uri": "https://localhost:8080/"
        }
      },
      "source": [
        "trainX[0]"
      ],
      "execution_count": null,
      "outputs": [
        {
          "output_type": "execute_result",
          "data": {
            "text/plain": [
              "array([[ 33.0704,  30.2601,  26.852 , ...,  71.4471,  58.2204,  42.9939],\n",
              "       [ 25.2283,  25.5533,  29.9765, ..., 113.0209, 103.3639,  84.2949],\n",
              "       [ 26.2775,  22.6137,  40.4763, ..., 113.3028, 121.775 , 115.4228],\n",
              "       ...,\n",
              "       [ 28.5502,  36.212 ,  45.0801, ...,  24.1359,  25.0927,  26.0603],\n",
              "       [ 38.4352,  26.4733,  23.2717, ...,  28.1094,  29.4683,  30.0661],\n",
              "       [ 50.2984,  26.0773,  24.0389, ...,  49.6682,  50.853 ,  53.0377]],\n",
              "      dtype=float32)"
            ]
          },
          "metadata": {
            "tags": []
          },
          "execution_count": 7
        }
      ]
    },
    {
      "cell_type": "code",
      "metadata": {
        "id": "upkbf3BlKTlI",
        "outputId": "ad584403-8a9e-4a90-c317-65382a847a1e",
        "colab": {
          "base_uri": "https://localhost:8080/",
          "height": 95
        }
      },
      "source": [
        "# visualizing the first 10 images in the dataset and their labels\n",
        "plt.figure(figsize=(10, 1))\n",
        "for i in range(10):\n",
        "    plt.subplot(1, 10, i+1)\n",
        "    plt.imshow(trainX[i],cmap='gray')\n",
        "    plt.axis('off')\n",
        "plt.show()\n",
        "print('label for each of the above image: %s' % (trainY[0:10]))"
      ],
      "execution_count": null,
      "outputs": [
        {
          "output_type": "display_data",
          "data": {
            "image/png": "[encoded data removed]",
            "text/plain": [
              "<Figure size 720x72 with 10 Axes>"
            ]
          },
          "metadata": {
            "tags": [],
            "needs_background": "light"
          }
        },
        {
          "output_type": "stream",
          "text": [
            "label for each of the above image: [2 6 7 4 4 0 3 0 7 3]\n"
          ],
          "name": "stdout"
        }
      ]
    },
    {
      "cell_type": "code",
      "metadata": {
        "id": "6Y53XM_r94f2",
        "outputId": "9a250b67-57c6-4e41-df4d-ab73294c90b9",
        "colab": {
          "base_uri": "https://localhost:8080/"
        }
      },
      "source": [
        "np.unique(trainY)"
      ],
      "execution_count": null,
      "outputs": [
        {
          "output_type": "execute_result",
          "data": {
            "text/plain": [
              "array([0, 1, 2, 3, 4, 5, 6, 7, 8, 9], dtype=uint8)"
            ]
          },
          "metadata": {
            "tags": []
          },
          "execution_count": 20
        }
      ]
    },
    {
      "cell_type": "markdown",
      "metadata": {
        "id": "PnN3XRXh961G"
      },
      "source": [
        "as we can see there are 10 unique value in label"
      ]
    },
    {
      "cell_type": "code",
      "metadata": {
        "id": "XNenneHXYm13",
        "outputId": "76f3e665-e44a-4d4c-b908-3e0a05d05e04",
        "colab": {
          "base_uri": "https://localhost:8080/",
          "height": 334
        }
      },
      "source": [
        "#visualizing y-label data distribution in dataset\n",
        "plt.hist(trainY,histtype='bar')"
      ],
      "execution_count": null,
      "outputs": [
        {
          "output_type": "execute_result",
          "data": {
            "text/plain": [
              "(array([4186., 4172., 4197., 4281., 4188., 4232., 4168., 4192., 4188.,\n",
              "        4196.]),\n",
              " array([0. , 0.9, 1.8, 2.7, 3.6, 4.5, 5.4, 6.3, 7.2, 8.1, 9. ]),\n",
              " <a list of 10 Patch objects>)"
            ]
          },
          "metadata": {
            "tags": []
          },
          "execution_count": 14
        },
        {
          "output_type": "display_data",
          "data": {
            "image/png": "[encoded data removed]",
            "text/plain": [
              "<Figure size 432x288 with 1 Axes>"
            ]
          },
          "metadata": {
            "tags": [],
            "needs_background": "light"
          }
        }
      ]
    },
    {
      "cell_type": "markdown",
      "metadata": {
        "id": "3uCEjiKWcRqI"
      },
      "source": [
        "Above histogram shows that all y labels are distrubuted nearly equal and there is not data imbalance in dataset "
      ]
    },
    {
      "cell_type": "markdown",
      "metadata": {
        "id": "1XywjbWp81HG"
      },
      "source": [
        "### Preprocessing Data"
      ]
    },
    {
      "cell_type": "code",
      "metadata": {
        "id": "ETUGv1NO85uX"
      },
      "source": [
        "# encoding output label\n",
        "trainY = tf.keras.utils.to_categorical(trainY, num_classes=10)\n",
        "testY = tf.keras.utils.to_categorical(testY, num_classes=10) "
      ],
      "execution_count": 8,
      "outputs": []
    },
    {
      "cell_type": "code",
      "metadata": {
        "id": "HrHootTA4vo8"
      },
      "source": [
        "# Normalize the data from 0-255 to 0-1 by dividing the inputs by 255. \n",
        "trainX=trainX/255\n",
        "testX=testX/255"
      ],
      "execution_count": 9,
      "outputs": []
    },
    {
      "cell_type": "markdown",
      "metadata": {
        "id": "pW-19t0pd4Rb"
      },
      "source": [
        "### Implementing Deep Neural Network :"
      ]
    },
    {
      "cell_type": "code",
      "metadata": {
        "id": "35SeC5y6q-lM"
      },
      "source": [
        "model_matrix=[]"
      ],
      "execution_count": 43,
      "outputs": []
    },
    {
      "cell_type": "markdown",
      "metadata": {
        "id": "OKBW5nS4XTHn"
      },
      "source": [
        "##### DNN model training with sgd Optimizer"
      ]
    },
    {
      "cell_type": "code",
      "metadata": {
        "id": "lXSJ1Om-eS_t"
      },
      "source": [
        "#Initialize Sequential model\n",
        "model = tf.keras.models.Sequential()"
      ],
      "execution_count": 11,
      "outputs": []
    },
    {
      "cell_type": "code",
      "metadata": {
        "id": "LZWj5oHIcXGs"
      },
      "source": [
        "#Reshape data from 2D to 1D -> 32x32 to 1024\n",
        "model.add(tf.keras.layers.Reshape((1024,),input_shape=(32,32,)))\n",
        "#model.add(tf.keras.layers.BatchNormalization())"
      ],
      "execution_count": 12,
      "outputs": []
    },
    {
      "cell_type": "code",
      "metadata": {
        "id": "2iDMqBsahoKt"
      },
      "source": [
        "#ist hidden layer\n",
        "model.add(tf.keras.layers.Dense(500))\n",
        "model.add(tf.keras.layers.Activation('relu'))\n",
        "#model.add(tf.keras.layers.BatchNormalization())"
      ],
      "execution_count": 13,
      "outputs": []
    },
    {
      "cell_type": "code",
      "metadata": {
        "id": "OONQs_wXjWFs"
      },
      "source": [
        "#2nd hidden layer\n",
        "model.add(tf.keras.layers.Dense(250))\n",
        "model.add(tf.keras.layers.Activation('relu'))\n",
        "#model.add(tf.keras.layers.BatchNormalization())"
      ],
      "execution_count": 14,
      "outputs": []
    },
    {
      "cell_type": "code",
      "metadata": {
        "id": "XbhwD1ZCjZ16"
      },
      "source": [
        "#3rd hidden layer\n",
        "model.add(tf.keras.layers.Dense(120))\n",
        "model.add(tf.keras.layers.Activation('relu'))\n",
        "#model.add(tf.keras.layers.BatchNormalization())"
      ],
      "execution_count": 15,
      "outputs": []
    },
    {
      "cell_type": "code",
      "metadata": {
        "id": "_87Dhj7QjifQ"
      },
      "source": [
        "#4th hidden layer\n",
        "model.add(tf.keras.layers.Dense(60))\n",
        "model.add(tf.keras.layers.Activation('relu'))\n",
        "#model.add(tf.keras.layers.BatchNormalization())"
      ],
      "execution_count": 16,
      "outputs": []
    },
    {
      "cell_type": "code",
      "metadata": {
        "id": "yqUjIL7bjo9l"
      },
      "source": [
        "#5th hidden layer\n",
        "model.add(tf.keras.layers.Dense(30))\n",
        "model.add(tf.keras.layers.Activation('relu'))\n",
        "#model.add(tf.keras.layers.BatchNormalization())"
      ],
      "execution_count": 17,
      "outputs": []
    },
    {
      "cell_type": "code",
      "metadata": {
        "id": "FBK3yMC9jrat"
      },
      "source": [
        "#output hidden layer\n",
        "model.add(tf.keras.layers.Dense(10))\n",
        "model.add(tf.keras.layers.Activation('softmax'))"
      ],
      "execution_count": 18,
      "outputs": []
    },
    {
      "cell_type": "code",
      "metadata": {
        "id": "OcV4L-_HkACl"
      },
      "source": [
        "#compile model\n",
        "model.compile(optimizer='sgd', loss='categorical_crossentropy', metrics=['accuracy'])"
      ],
      "execution_count": 19,
      "outputs": []
    },
    {
      "cell_type": "code",
      "metadata": {
        "id": "i3rNqR8YkMyk",
        "outputId": "1b581ab7-3b8e-4795-c118-5a172b047940",
        "colab": {
          "base_uri": "https://localhost:8080/"
        }
      },
      "source": [
        "# fit and test model\n",
        "model.fit(trainX, trainY, \n",
        "          #validation_data=(testX, testY),\n",
        "          epochs=50,batch_size=32)"
      ],
      "execution_count": 20,
      "outputs": [
        {
          "output_type": "stream",
          "text": [
            "Epoch 1/50\n",
            "1313/1313 [==============================] - 6s 5ms/step - loss: 2.2880 - accuracy: 0.1402\n",
            "Epoch 2/50\n",
            "1313/1313 [==============================] - 6s 5ms/step - loss: 2.1395 - accuracy: 0.2470\n",
            "Epoch 3/50\n",
            "1313/1313 [==============================] - 6s 5ms/step - loss: 1.7077 - accuracy: 0.4217\n",
            "Epoch 4/50\n",
            "1313/1313 [==============================] - 6s 5ms/step - loss: 1.4114 - accuracy: 0.5344\n",
            "Epoch 5/50\n",
            "1313/1313 [==============================] - 6s 5ms/step - loss: 1.2435 - accuracy: 0.5989\n",
            "Epoch 6/50\n",
            "1313/1313 [==============================] - 6s 5ms/step - loss: 1.1307 - accuracy: 0.6396\n",
            "Epoch 7/50\n",
            "1313/1313 [==============================] - 6s 5ms/step - loss: 1.0496 - accuracy: 0.6666\n",
            "Epoch 8/50\n",
            "1313/1313 [==============================] - 6s 5ms/step - loss: 0.9755 - accuracy: 0.6944\n",
            "Epoch 9/50\n",
            "1313/1313 [==============================] - 6s 5ms/step - loss: 0.9193 - accuracy: 0.7109\n",
            "Epoch 10/50\n",
            "1313/1313 [==============================] - 6s 5ms/step - loss: 0.8689 - accuracy: 0.7281\n",
            "Epoch 11/50\n",
            "1313/1313 [==============================] - 6s 5ms/step - loss: 0.8249 - accuracy: 0.7415\n",
            "Epoch 12/50\n",
            "1313/1313 [==============================] - 6s 5ms/step - loss: 0.7871 - accuracy: 0.7522\n",
            "Epoch 13/50\n",
            "1313/1313 [==============================] - 6s 5ms/step - loss: 0.7514 - accuracy: 0.7640\n",
            "Epoch 14/50\n",
            "1313/1313 [==============================] - 6s 5ms/step - loss: 0.7212 - accuracy: 0.7737\n",
            "Epoch 15/50\n",
            "1313/1313 [==============================] - 6s 5ms/step - loss: 0.6942 - accuracy: 0.7824\n",
            "Epoch 16/50\n",
            "1313/1313 [==============================] - 6s 5ms/step - loss: 0.6732 - accuracy: 0.7897\n",
            "Epoch 17/50\n",
            "1313/1313 [==============================] - 7s 5ms/step - loss: 0.6493 - accuracy: 0.7966\n",
            "Epoch 18/50\n",
            "1313/1313 [==============================] - 6s 5ms/step - loss: 0.6281 - accuracy: 0.8034\n",
            "Epoch 19/50\n",
            "1313/1313 [==============================] - 6s 5ms/step - loss: 0.6101 - accuracy: 0.8107\n",
            "Epoch 20/50\n",
            "1313/1313 [==============================] - 6s 5ms/step - loss: 0.5967 - accuracy: 0.8140\n",
            "Epoch 21/50\n",
            "1313/1313 [==============================] - 6s 5ms/step - loss: 0.5767 - accuracy: 0.8202\n",
            "Epoch 22/50\n",
            "1313/1313 [==============================] - 6s 5ms/step - loss: 0.5653 - accuracy: 0.8215\n",
            "Epoch 23/50\n",
            "1313/1313 [==============================] - 6s 5ms/step - loss: 0.5476 - accuracy: 0.8300\n",
            "Epoch 24/50\n",
            "1313/1313 [==============================] - 6s 5ms/step - loss: 0.5383 - accuracy: 0.8310\n",
            "Epoch 25/50\n",
            "1313/1313 [==============================] - 6s 5ms/step - loss: 0.5223 - accuracy: 0.8365\n",
            "Epoch 26/50\n",
            "1313/1313 [==============================] - 7s 5ms/step - loss: 0.5122 - accuracy: 0.8382\n",
            "Epoch 27/50\n",
            "1313/1313 [==============================] - 7s 5ms/step - loss: 0.4993 - accuracy: 0.8437\n",
            "Epoch 28/50\n",
            "1313/1313 [==============================] - 7s 5ms/step - loss: 0.4884 - accuracy: 0.8459\n",
            "Epoch 29/50\n",
            "1313/1313 [==============================] - 6s 5ms/step - loss: 0.4785 - accuracy: 0.8492\n",
            "Epoch 30/50\n",
            "1313/1313 [==============================] - 6s 5ms/step - loss: 0.4665 - accuracy: 0.8530\n",
            "Epoch 31/50\n",
            "1313/1313 [==============================] - 6s 5ms/step - loss: 0.4594 - accuracy: 0.8548\n",
            "Epoch 32/50\n",
            "1313/1313 [==============================] - 6s 5ms/step - loss: 0.4451 - accuracy: 0.8595\n",
            "Epoch 33/50\n",
            "1313/1313 [==============================] - 6s 5ms/step - loss: 0.4378 - accuracy: 0.8608\n",
            "Epoch 34/50\n",
            "1313/1313 [==============================] - 8s 6ms/step - loss: 0.4308 - accuracy: 0.8625\n",
            "Epoch 35/50\n",
            "1313/1313 [==============================] - 6s 5ms/step - loss: 0.4252 - accuracy: 0.8648\n",
            "Epoch 36/50\n",
            "1313/1313 [==============================] - 6s 5ms/step - loss: 0.4124 - accuracy: 0.8691\n",
            "Epoch 37/50\n",
            "1313/1313 [==============================] - 6s 5ms/step - loss: 0.4046 - accuracy: 0.8708\n",
            "Epoch 38/50\n",
            "1313/1313 [==============================] - 6s 5ms/step - loss: 0.3993 - accuracy: 0.8748\n",
            "Epoch 39/50\n",
            "1313/1313 [==============================] - 6s 5ms/step - loss: 0.3915 - accuracy: 0.8761\n",
            "Epoch 40/50\n",
            "1313/1313 [==============================] - 6s 5ms/step - loss: 0.3822 - accuracy: 0.8794\n",
            "Epoch 41/50\n",
            "1313/1313 [==============================] - 6s 5ms/step - loss: 0.3764 - accuracy: 0.8800\n",
            "Epoch 42/50\n",
            "1313/1313 [==============================] - 6s 5ms/step - loss: 0.3659 - accuracy: 0.8830\n",
            "Epoch 43/50\n",
            "1313/1313 [==============================] - 7s 5ms/step - loss: 0.3629 - accuracy: 0.8832\n",
            "Epoch 44/50\n",
            "1313/1313 [==============================] - 6s 5ms/step - loss: 0.3535 - accuracy: 0.8874\n",
            "Epoch 45/50\n",
            "1313/1313 [==============================] - 7s 5ms/step - loss: 0.3451 - accuracy: 0.8898\n",
            "Epoch 46/50\n",
            "1313/1313 [==============================] - 6s 5ms/step - loss: 0.3372 - accuracy: 0.8929\n",
            "Epoch 47/50\n",
            "1313/1313 [==============================] - 6s 5ms/step - loss: 0.3368 - accuracy: 0.8923\n",
            "Epoch 48/50\n",
            "1313/1313 [==============================] - 6s 5ms/step - loss: 0.3308 - accuracy: 0.8940\n",
            "Epoch 49/50\n",
            "1313/1313 [==============================] - 7s 5ms/step - loss: 0.3205 - accuracy: 0.8965\n",
            "Epoch 50/50\n",
            "1313/1313 [==============================] - 7s 5ms/step - loss: 0.3174 - accuracy: 0.8971\n"
          ],
          "name": "stdout"
        },
        {
          "output_type": "execute_result",
          "data": {
            "text/plain": [
              "<tensorflow.python.keras.callbacks.History at 0x7f0348585c88>"
            ]
          },
          "metadata": {
            "tags": []
          },
          "execution_count": 20
        }
      ]
    },
    {
      "cell_type": "code",
      "metadata": {
        "id": "CXK5QS10pItV",
        "outputId": "da68403c-4c55-43ce-9359-b37ddc0655db",
        "colab": {
          "base_uri": "https://localhost:8080/"
        }
      },
      "source": [
        "loss,accuracy=model.evaluate(testX,testY)\n",
        "print (\"accuracy => \",accuracy, \"loss =>\",loss)"
      ],
      "execution_count": 21,
      "outputs": [
        {
          "output_type": "stream",
          "text": [
            "563/563 [==============================] - 1s 3ms/step - loss: 0.6953 - accuracy: 0.8066\n",
            "accuracy =>  0.8065555691719055 loss => 0.695298969745636\n"
          ],
          "name": "stdout"
        }
      ]
    },
    {
      "cell_type": "code",
      "metadata": {
        "id": "qU18fMTTrZ30"
      },
      "source": [
        "# add model detail\n",
        "model_matrix.append(['Simple SGD DN',accuracy])"
      ],
      "execution_count": 44,
      "outputs": []
    },
    {
      "cell_type": "markdown",
      "metadata": {
        "id": "dV-V55dZnkNi"
      },
      "source": [
        "**as we can see model accuracy start with very low but after that keep improving.We can conclude that model training is not fast here, it took 20 epochs to reach 80% testmaccuracy.**\n",
        "\n",
        "we have achieved 80% accuracy with 50 epochs on test set data using SGD optimizer."
      ]
    },
    {
      "cell_type": "markdown",
      "metadata": {
        "id": "jJsuzcM8ottO"
      },
      "source": [
        "##### Using Batch Normalization with same SGD optimizer :"
      ]
    },
    {
      "cell_type": "code",
      "metadata": {
        "id": "W5WO9djVpDqV"
      },
      "source": [
        "#Initialize Sequential model\n",
        "model1 = tf.keras.models.Sequential()"
      ],
      "execution_count": 28,
      "outputs": []
    },
    {
      "cell_type": "code",
      "metadata": {
        "id": "4PzfAIx6sS58"
      },
      "source": [
        "#Reshape data from 2D to 1D -> 32x32 to 1024\n",
        "model1.add(tf.keras.layers.Reshape((1024,),input_shape=(32,32,)))\n",
        "model1.add(tf.keras.layers.BatchNormalization())\n",
        "#ist hidden layer\n",
        "model1.add(tf.keras.layers.Dense(500))\n",
        "model1.add(tf.keras.layers.BatchNormalization())\n",
        "model1.add(tf.keras.layers.Activation('relu'))\n",
        "\n",
        "#2nd hidden layer\n",
        "model1.add(tf.keras.layers.Dense(250))\n",
        "model1.add(tf.keras.layers.BatchNormalization())\n",
        "model1.add(tf.keras.layers.Activation('relu'))\n",
        "\n",
        "#3rd hidden layer\n",
        "model1.add(tf.keras.layers.Dense(120))\n",
        "model1.add(tf.keras.layers.BatchNormalization())\n",
        "model1.add(tf.keras.layers.Activation('relu'))\n",
        "\n",
        "\n",
        "#4th hidden layer\n",
        "model1.add(tf.keras.layers.Dense(60))\n",
        "model1.add(tf.keras.layers.BatchNormalization())\n",
        "model1.add(tf.keras.layers.Activation('relu'))\n",
        "\n",
        "#5th hidden layer\n",
        "model1.add(tf.keras.layers.Dense(30))\n",
        "model1.add(tf.keras.layers.BatchNormalization())\n",
        "model1.add(tf.keras.layers.Activation('relu'))\n",
        "\n",
        "#output hidden layer\n",
        "model1.add(tf.keras.layers.Dense(10))\n",
        "model1.add(tf.keras.layers.Activation('softmax'))\n",
        "\n",
        "#compile model\n",
        "model1.compile(optimizer='sgd', loss='categorical_crossentropy', metrics=['accuracy'])"
      ],
      "execution_count": 29,
      "outputs": []
    },
    {
      "cell_type": "code",
      "metadata": {
        "id": "AtqYkL6isefO",
        "outputId": "c2505831-d520-4667-cf65-930826564717",
        "colab": {
          "base_uri": "https://localhost:8080/"
        }
      },
      "source": [
        "# fit and test model\n",
        "model1.fit(trainX, trainY,\n",
        "          #validation_data=(testX, testY),\n",
        "          epochs=50,batch_size=32)"
      ],
      "execution_count": 30,
      "outputs": [
        {
          "output_type": "stream",
          "text": [
            "Epoch 1/50\n",
            "1313/1313 [==============================] - 14s 11ms/step - loss: 1.7709 - accuracy: 0.4011\n",
            "Epoch 2/50\n",
            "1313/1313 [==============================] - 13s 10ms/step - loss: 1.2158 - accuracy: 0.6091\n",
            "Epoch 3/50\n",
            "1313/1313 [==============================] - 13s 10ms/step - loss: 1.0468 - accuracy: 0.6651\n",
            "Epoch 4/50\n",
            "1313/1313 [==============================] - 13s 10ms/step - loss: 0.9377 - accuracy: 0.7043\n",
            "Epoch 5/50\n",
            "1313/1313 [==============================] - 14s 10ms/step - loss: 0.8680 - accuracy: 0.7231\n",
            "Epoch 6/50\n",
            "1313/1313 [==============================] - 13s 10ms/step - loss: 0.8128 - accuracy: 0.7409\n",
            "Epoch 7/50\n",
            "1313/1313 [==============================] - 13s 10ms/step - loss: 0.7617 - accuracy: 0.7585\n",
            "Epoch 8/50\n",
            "1313/1313 [==============================] - 14s 10ms/step - loss: 0.7352 - accuracy: 0.7677\n",
            "Epoch 9/50\n",
            "1313/1313 [==============================] - 14s 10ms/step - loss: 0.6977 - accuracy: 0.7790\n",
            "Epoch 10/50\n",
            "1313/1313 [==============================] - 13s 10ms/step - loss: 0.6751 - accuracy: 0.7839\n",
            "Epoch 11/50\n",
            "1313/1313 [==============================] - 14s 11ms/step - loss: 0.6502 - accuracy: 0.7938\n",
            "Epoch 12/50\n",
            "1313/1313 [==============================] - 14s 11ms/step - loss: 0.6243 - accuracy: 0.8014\n",
            "Epoch 13/50\n",
            "1313/1313 [==============================] - 15s 11ms/step - loss: 0.6112 - accuracy: 0.8068\n",
            "Epoch 14/50\n",
            "1313/1313 [==============================] - 14s 11ms/step - loss: 0.5901 - accuracy: 0.8113\n",
            "Epoch 15/50\n",
            "1313/1313 [==============================] - 14s 11ms/step - loss: 0.5762 - accuracy: 0.8158\n",
            "Epoch 16/50\n",
            "1313/1313 [==============================] - 14s 11ms/step - loss: 0.5611 - accuracy: 0.8220\n",
            "Epoch 17/50\n",
            "1313/1313 [==============================] - 14s 10ms/step - loss: 0.5443 - accuracy: 0.8280\n",
            "Epoch 18/50\n",
            "1313/1313 [==============================] - 14s 11ms/step - loss: 0.5365 - accuracy: 0.8286\n",
            "Epoch 19/50\n",
            "1313/1313 [==============================] - 14s 10ms/step - loss: 0.5161 - accuracy: 0.8351\n",
            "Epoch 20/50\n",
            "1313/1313 [==============================] - 14s 10ms/step - loss: 0.5070 - accuracy: 0.8383\n",
            "Epoch 21/50\n",
            "1313/1313 [==============================] - 14s 10ms/step - loss: 0.4996 - accuracy: 0.8389\n",
            "Epoch 22/50\n",
            "1313/1313 [==============================] - 13s 10ms/step - loss: 0.4853 - accuracy: 0.8443\n",
            "Epoch 23/50\n",
            "1313/1313 [==============================] - 14s 11ms/step - loss: 0.4804 - accuracy: 0.8435\n",
            "Epoch 24/50\n",
            "1313/1313 [==============================] - 14s 10ms/step - loss: 0.4776 - accuracy: 0.8465\n",
            "Epoch 25/50\n",
            "1313/1313 [==============================] - 13s 10ms/step - loss: 0.4526 - accuracy: 0.8536\n",
            "Epoch 26/50\n",
            "1313/1313 [==============================] - 13s 10ms/step - loss: 0.4561 - accuracy: 0.8527\n",
            "Epoch 27/50\n",
            "1313/1313 [==============================] - 13s 10ms/step - loss: 0.4465 - accuracy: 0.8575\n",
            "Epoch 28/50\n",
            "1313/1313 [==============================] - 13s 10ms/step - loss: 0.4352 - accuracy: 0.8608\n",
            "Epoch 29/50\n",
            "1313/1313 [==============================] - 13s 10ms/step - loss: 0.4210 - accuracy: 0.8660\n",
            "Epoch 30/50\n",
            "1313/1313 [==============================] - 13s 10ms/step - loss: 0.4229 - accuracy: 0.8651\n",
            "Epoch 31/50\n",
            "1313/1313 [==============================] - 13s 10ms/step - loss: 0.4154 - accuracy: 0.8675\n",
            "Epoch 32/50\n",
            "1313/1313 [==============================] - 13s 10ms/step - loss: 0.4008 - accuracy: 0.8699\n",
            "Epoch 33/50\n",
            "1313/1313 [==============================] - 13s 10ms/step - loss: 0.4016 - accuracy: 0.8702\n",
            "Epoch 34/50\n",
            "1313/1313 [==============================] - 12s 9ms/step - loss: 0.4003 - accuracy: 0.8716\n",
            "Epoch 35/50\n",
            "1313/1313 [==============================] - 14s 10ms/step - loss: 0.3909 - accuracy: 0.8742\n",
            "Epoch 36/50\n",
            "1313/1313 [==============================] - 15s 11ms/step - loss: 0.3802 - accuracy: 0.8761\n",
            "Epoch 37/50\n",
            "1313/1313 [==============================] - 14s 10ms/step - loss: 0.3841 - accuracy: 0.8760\n",
            "Epoch 38/50\n",
            "1313/1313 [==============================] - 14s 11ms/step - loss: 0.3686 - accuracy: 0.8829\n",
            "Epoch 39/50\n",
            "1313/1313 [==============================] - 14s 10ms/step - loss: 0.3701 - accuracy: 0.8818\n",
            "Epoch 40/50\n",
            "1313/1313 [==============================] - 14s 11ms/step - loss: 0.3612 - accuracy: 0.8845\n",
            "Epoch 41/50\n",
            "1313/1313 [==============================] - 14s 10ms/step - loss: 0.3611 - accuracy: 0.8823\n",
            "Epoch 42/50\n",
            "1313/1313 [==============================] - 14s 10ms/step - loss: 0.3523 - accuracy: 0.8858\n",
            "Epoch 43/50\n",
            "1313/1313 [==============================] - 13s 10ms/step - loss: 0.3552 - accuracy: 0.8844\n",
            "Epoch 44/50\n",
            "1313/1313 [==============================] - 13s 10ms/step - loss: 0.3471 - accuracy: 0.8859\n",
            "Epoch 45/50\n",
            "1313/1313 [==============================] - 14s 10ms/step - loss: 0.3380 - accuracy: 0.8900\n",
            "Epoch 46/50\n",
            "1313/1313 [==============================] - 14s 11ms/step - loss: 0.3418 - accuracy: 0.8891\n",
            "Epoch 47/50\n",
            "1313/1313 [==============================] - 13s 10ms/step - loss: 0.3275 - accuracy: 0.8940\n",
            "Epoch 48/50\n",
            "1313/1313 [==============================] - 14s 10ms/step - loss: 0.3297 - accuracy: 0.8919\n",
            "Epoch 49/50\n",
            "1313/1313 [==============================] - 14s 10ms/step - loss: 0.3267 - accuracy: 0.8951\n",
            "Epoch 50/50\n",
            "1313/1313 [==============================] - 14s 10ms/step - loss: 0.3248 - accuracy: 0.8935\n"
          ],
          "name": "stdout"
        },
        {
          "output_type": "execute_result",
          "data": {
            "text/plain": [
              "<tensorflow.python.keras.callbacks.History at 0x7f0344948550>"
            ]
          },
          "metadata": {
            "tags": []
          },
          "execution_count": 30
        }
      ]
    },
    {
      "cell_type": "code",
      "metadata": {
        "id": "JuEu-STWsizG",
        "outputId": "c4e79806-e29c-4cea-de98-ead41f54465e",
        "colab": {
          "base_uri": "https://localhost:8080/"
        }
      },
      "source": [
        "# test model\n",
        "loss1,accuracy1=model1.evaluate(testX,testY)\n",
        "print (\"accuracy => \",accuracy1, \"loss =>\",loss1)"
      ],
      "execution_count": 31,
      "outputs": [
        {
          "output_type": "stream",
          "text": [
            "563/563 [==============================] - 2s 3ms/step - loss: 0.5261 - accuracy: 0.8523\n",
            "accuracy =>  0.8523333072662354 loss => 0.5260925889015198\n"
          ],
          "name": "stdout"
        }
      ]
    },
    {
      "cell_type": "code",
      "metadata": {
        "id": "EnvVR9zJtjqc"
      },
      "source": [
        "# add model matrix\n",
        "model_matrix.append(['SGD DN With Bacth Normalization',accuracy1])"
      ],
      "execution_count": 45,
      "outputs": []
    },
    {
      "cell_type": "markdown",
      "metadata": {
        "id": "O9ascaRdxaZ_"
      },
      "source": [
        "**as we can see ,model took 13 epoch to reach 80% accuracy after using batch normalization and we acheieved accuracy 85% on validation set.As we also can see model does not overfit.**"
      ]
    },
    {
      "cell_type": "markdown",
      "metadata": {
        "id": "mxdoAJIxyK08"
      },
      "source": [
        "##### SGD with learning rate 0.0001"
      ]
    },
    {
      "cell_type": "code",
      "metadata": {
        "id": "QWa_oGicyJhN"
      },
      "source": [
        "#Initialize Sequential model\n",
        "model2 = tf.keras.models.Sequential()"
      ],
      "execution_count": 32,
      "outputs": []
    },
    {
      "cell_type": "code",
      "metadata": {
        "id": "y6DAvlZ0yyes"
      },
      "source": [
        "#Reshape data from 2D to 1D -> 32x32 to 1024\n",
        "model2.add(tf.keras.layers.Reshape((1024,),input_shape=(32,32,)))\n",
        "model2.add(tf.keras.layers.BatchNormalization())\n",
        "#ist hidden layer\n",
        "model2.add(tf.keras.layers.Dense(500))\n",
        "model2.add(tf.keras.layers.BatchNormalization())\n",
        "model2.add(tf.keras.layers.Activation('relu'))\n",
        "\n",
        "#2nd hidden layer\n",
        "model2.add(tf.keras.layers.Dense(250))\n",
        "model2.add(tf.keras.layers.BatchNormalization())\n",
        "model2.add(tf.keras.layers.Activation('relu'))\n",
        "\n",
        "#3rd hidden layer\n",
        "model2.add(tf.keras.layers.Dense(120))\n",
        "model2.add(tf.keras.layers.BatchNormalization())\n",
        "model2.add(tf.keras.layers.Activation('relu'))\n",
        "\n",
        "\n",
        "#4th hidden layer\n",
        "model2.add(tf.keras.layers.Dense(60))\n",
        "model2.add(tf.keras.layers.BatchNormalization())\n",
        "model2.add(tf.keras.layers.Activation('relu'))\n",
        "\n",
        "#5th hidden layer\n",
        "model2.add(tf.keras.layers.Dense(30))\n",
        "model2.add(tf.keras.layers.BatchNormalization())\n",
        "model2.add(tf.keras.layers.Activation('relu'))\n",
        "\n",
        "#output hidden layer\n",
        "model2.add(tf.keras.layers.Dense(10))\n",
        "model2.add(tf.keras.layers.Activation('softmax'))\n",
        "\n",
        "#compile model\n",
        "sgd = tf.keras.optimizers.SGD(learning_rate = 0.0001)\n",
        "model2.compile(optimizer=sgd, loss='categorical_crossentropy', metrics=['accuracy'])"
      ],
      "execution_count": 33,
      "outputs": []
    },
    {
      "cell_type": "code",
      "metadata": {
        "id": "VZ3pnwje1AX1",
        "outputId": "f2cab939-e377-474e-931e-39f2db16b720",
        "colab": {
          "base_uri": "https://localhost:8080/"
        }
      },
      "source": [
        "# fit and test model\n",
        "model2.fit(trainX, trainY,\n",
        "          #validation_data=(testX, testY),\n",
        "          epochs=50,batch_size=32)"
      ],
      "execution_count": 34,
      "outputs": [
        {
          "output_type": "stream",
          "text": [
            "Epoch 1/50\n",
            "1313/1313 [==============================] - 13s 10ms/step - loss: 2.5369 - accuracy: 0.0967\n",
            "Epoch 2/50\n",
            "1313/1313 [==============================] - 14s 11ms/step - loss: 2.4611 - accuracy: 0.1075\n",
            "Epoch 3/50\n",
            "1313/1313 [==============================] - 14s 10ms/step - loss: 2.4049 - accuracy: 0.1223\n",
            "Epoch 4/50\n",
            "1313/1313 [==============================] - 13s 10ms/step - loss: 2.3566 - accuracy: 0.1389\n",
            "Epoch 5/50\n",
            "1313/1313 [==============================] - 13s 10ms/step - loss: 2.3182 - accuracy: 0.1509\n",
            "Epoch 6/50\n",
            "1313/1313 [==============================] - 13s 10ms/step - loss: 2.2798 - accuracy: 0.1682\n",
            "Epoch 7/50\n",
            "1313/1313 [==============================] - 13s 10ms/step - loss: 2.2454 - accuracy: 0.1817\n",
            "Epoch 8/50\n",
            "1313/1313 [==============================] - 13s 10ms/step - loss: 2.2154 - accuracy: 0.1939\n",
            "Epoch 9/50\n",
            "1313/1313 [==============================] - 13s 10ms/step - loss: 2.1834 - accuracy: 0.2083\n",
            "Epoch 10/50\n",
            "1313/1313 [==============================] - 13s 10ms/step - loss: 2.1544 - accuracy: 0.2217\n",
            "Epoch 11/50\n",
            "1313/1313 [==============================] - 12s 9ms/step - loss: 2.1320 - accuracy: 0.2322\n",
            "Epoch 12/50\n",
            "1313/1313 [==============================] - 13s 10ms/step - loss: 2.1054 - accuracy: 0.2490\n",
            "Epoch 13/50\n",
            "1313/1313 [==============================] - 13s 10ms/step - loss: 2.0757 - accuracy: 0.2652\n",
            "Epoch 14/50\n",
            "1313/1313 [==============================] - 13s 10ms/step - loss: 2.0554 - accuracy: 0.2749\n",
            "Epoch 15/50\n",
            "1313/1313 [==============================] - 12s 9ms/step - loss: 2.0322 - accuracy: 0.2913\n",
            "Epoch 16/50\n",
            "1313/1313 [==============================] - 12s 9ms/step - loss: 2.0116 - accuracy: 0.3004\n",
            "Epoch 17/50\n",
            "1313/1313 [==============================] - 12s 9ms/step - loss: 1.9892 - accuracy: 0.3154\n",
            "Epoch 18/50\n",
            "1313/1313 [==============================] - 12s 9ms/step - loss: 1.9707 - accuracy: 0.3233\n",
            "Epoch 19/50\n",
            "1313/1313 [==============================] - 12s 9ms/step - loss: 1.9511 - accuracy: 0.3350\n",
            "Epoch 20/50\n",
            "1313/1313 [==============================] - 12s 9ms/step - loss: 1.9328 - accuracy: 0.3434\n",
            "Epoch 21/50\n",
            "1313/1313 [==============================] - 12s 9ms/step - loss: 1.9106 - accuracy: 0.3558\n",
            "Epoch 22/50\n",
            "1313/1313 [==============================] - 13s 10ms/step - loss: 1.8971 - accuracy: 0.3638\n",
            "Epoch 23/50\n",
            "1313/1313 [==============================] - 14s 10ms/step - loss: 1.8764 - accuracy: 0.3722\n",
            "Epoch 24/50\n",
            "1313/1313 [==============================] - 13s 10ms/step - loss: 1.8620 - accuracy: 0.3793\n",
            "Epoch 25/50\n",
            "1313/1313 [==============================] - 13s 10ms/step - loss: 1.8411 - accuracy: 0.3910\n",
            "Epoch 26/50\n",
            "1313/1313 [==============================] - 14s 10ms/step - loss: 1.8264 - accuracy: 0.3975\n",
            "Epoch 27/50\n",
            "1313/1313 [==============================] - 14s 10ms/step - loss: 1.8116 - accuracy: 0.4066\n",
            "Epoch 28/50\n",
            "1313/1313 [==============================] - 13s 10ms/step - loss: 1.7927 - accuracy: 0.4149\n",
            "Epoch 29/50\n",
            "1313/1313 [==============================] - 13s 10ms/step - loss: 1.7823 - accuracy: 0.4185\n",
            "Epoch 30/50\n",
            "1313/1313 [==============================] - 13s 10ms/step - loss: 1.7634 - accuracy: 0.4288\n",
            "Epoch 31/50\n",
            "1313/1313 [==============================] - 13s 10ms/step - loss: 1.7486 - accuracy: 0.4352\n",
            "Epoch 32/50\n",
            "1313/1313 [==============================] - 13s 10ms/step - loss: 1.7376 - accuracy: 0.4400\n",
            "Epoch 33/50\n",
            "1313/1313 [==============================] - 13s 10ms/step - loss: 1.7221 - accuracy: 0.4480\n",
            "Epoch 34/50\n",
            "1313/1313 [==============================] - 12s 10ms/step - loss: 1.7082 - accuracy: 0.4575\n",
            "Epoch 35/50\n",
            "1313/1313 [==============================] - 12s 9ms/step - loss: 1.6932 - accuracy: 0.4620\n",
            "Epoch 36/50\n",
            "1313/1313 [==============================] - 12s 9ms/step - loss: 1.6757 - accuracy: 0.4680\n",
            "Epoch 37/50\n",
            "1313/1313 [==============================] - 12s 9ms/step - loss: 1.6669 - accuracy: 0.4733\n",
            "Epoch 38/50\n",
            "1313/1313 [==============================] - 13s 10ms/step - loss: 1.6533 - accuracy: 0.4800\n",
            "Epoch 39/50\n",
            "1313/1313 [==============================] - 12s 9ms/step - loss: 1.6424 - accuracy: 0.4797\n",
            "Epoch 40/50\n",
            "1313/1313 [==============================] - 12s 9ms/step - loss: 1.6253 - accuracy: 0.4895\n",
            "Epoch 41/50\n",
            "1313/1313 [==============================] - 12s 9ms/step - loss: 1.6171 - accuracy: 0.4941\n",
            "Epoch 42/50\n",
            "1313/1313 [==============================] - 12s 9ms/step - loss: 1.6090 - accuracy: 0.4949\n",
            "Epoch 43/50\n",
            "1313/1313 [==============================] - 12s 9ms/step - loss: 1.5906 - accuracy: 0.5057\n",
            "Epoch 44/50\n",
            "1313/1313 [==============================] - 12s 9ms/step - loss: 1.5746 - accuracy: 0.5115\n",
            "Epoch 45/50\n",
            "1313/1313 [==============================] - 16s 12ms/step - loss: 1.5640 - accuracy: 0.5154\n",
            "Epoch 46/50\n",
            "1313/1313 [==============================] - 11s 9ms/step - loss: 1.5536 - accuracy: 0.5190\n",
            "Epoch 47/50\n",
            "1313/1313 [==============================] - 13s 10ms/step - loss: 1.5414 - accuracy: 0.5256\n",
            "Epoch 48/50\n",
            "1313/1313 [==============================] - 12s 9ms/step - loss: 1.5305 - accuracy: 0.5257\n",
            "Epoch 49/50\n",
            "1313/1313 [==============================] - 12s 9ms/step - loss: 1.5235 - accuracy: 0.5300\n",
            "Epoch 50/50\n",
            "1313/1313 [==============================] - 12s 9ms/step - loss: 1.5105 - accuracy: 0.5348\n"
          ],
          "name": "stdout"
        },
        {
          "output_type": "execute_result",
          "data": {
            "text/plain": [
              "<tensorflow.python.keras.callbacks.History at 0x7f03434b3c50>"
            ]
          },
          "metadata": {
            "tags": []
          },
          "execution_count": 34
        }
      ]
    },
    {
      "cell_type": "markdown",
      "metadata": {
        "id": "9i_ZIGsI3pSp"
      },
      "source": [
        "model is taking very small step to learn and train itself when we lower down learning rate from 0.01 to 0.0001"
      ]
    },
    {
      "cell_type": "code",
      "metadata": {
        "id": "qQriWKoY5HWO",
        "outputId": "3b68d461-5094-49bd-fa34-e3b30c73aa18",
        "colab": {
          "base_uri": "https://localhost:8080/"
        }
      },
      "source": [
        "# training model with another 50 epochs\n",
        "model2.fit(trainX, trainY,\n",
        "           initial_epoch=50,\n",
        "          #validation_data=(testX, testY),\n",
        "          epochs=100,batch_size=32)"
      ],
      "execution_count": 35,
      "outputs": [
        {
          "output_type": "stream",
          "text": [
            "Epoch 51/100\n",
            "1313/1313 [==============================] - 12s 9ms/step - loss: 1.4983 - accuracy: 0.5381\n",
            "Epoch 52/100\n",
            "1313/1313 [==============================] - 12s 9ms/step - loss: 1.4840 - accuracy: 0.5439\n",
            "Epoch 53/100\n",
            "1313/1313 [==============================] - 12s 9ms/step - loss: 1.4771 - accuracy: 0.5446\n",
            "Epoch 54/100\n",
            "1313/1313 [==============================] - 12s 9ms/step - loss: 1.4654 - accuracy: 0.5502\n",
            "Epoch 55/100\n",
            "1313/1313 [==============================] - 12s 9ms/step - loss: 1.4555 - accuracy: 0.5560\n",
            "Epoch 56/100\n",
            "1313/1313 [==============================] - 11s 8ms/step - loss: 1.4447 - accuracy: 0.5587\n",
            "Epoch 57/100\n",
            "1313/1313 [==============================] - 11s 8ms/step - loss: 1.4356 - accuracy: 0.5627\n",
            "Epoch 58/100\n",
            "1313/1313 [==============================] - 11s 8ms/step - loss: 1.4285 - accuracy: 0.5622\n",
            "Epoch 59/100\n",
            "1313/1313 [==============================] - 11s 9ms/step - loss: 1.4190 - accuracy: 0.5661\n",
            "Epoch 60/100\n",
            "1313/1313 [==============================] - 11s 9ms/step - loss: 1.4060 - accuracy: 0.5698\n",
            "Epoch 61/100\n",
            "1313/1313 [==============================] - 11s 9ms/step - loss: 1.3972 - accuracy: 0.5748\n",
            "Epoch 62/100\n",
            "1313/1313 [==============================] - 11s 9ms/step - loss: 1.3890 - accuracy: 0.5763\n",
            "Epoch 63/100\n",
            "1313/1313 [==============================] - 11s 9ms/step - loss: 1.3816 - accuracy: 0.5794\n",
            "Epoch 64/100\n",
            "1313/1313 [==============================] - 12s 9ms/step - loss: 1.3719 - accuracy: 0.5807\n",
            "Epoch 65/100\n",
            "1313/1313 [==============================] - 12s 9ms/step - loss: 1.3654 - accuracy: 0.5815\n",
            "Epoch 66/100\n",
            "1313/1313 [==============================] - 11s 9ms/step - loss: 1.3563 - accuracy: 0.5876\n",
            "Epoch 67/100\n",
            "1313/1313 [==============================] - 11s 9ms/step - loss: 1.3467 - accuracy: 0.5906\n",
            "Epoch 68/100\n",
            "1313/1313 [==============================] - 12s 9ms/step - loss: 1.3391 - accuracy: 0.5936\n",
            "Epoch 69/100\n",
            "1313/1313 [==============================] - 12s 9ms/step - loss: 1.3297 - accuracy: 0.5965\n",
            "Epoch 70/100\n",
            "1313/1313 [==============================] - 12s 9ms/step - loss: 1.3217 - accuracy: 0.5991\n",
            "Epoch 71/100\n",
            "1313/1313 [==============================] - 11s 9ms/step - loss: 1.3178 - accuracy: 0.5993\n",
            "Epoch 72/100\n",
            "1313/1313 [==============================] - 11s 9ms/step - loss: 1.3043 - accuracy: 0.6025\n",
            "Epoch 73/100\n",
            "1313/1313 [==============================] - 11s 9ms/step - loss: 1.3008 - accuracy: 0.6035\n",
            "Epoch 74/100\n",
            "1313/1313 [==============================] - 11s 9ms/step - loss: 1.2872 - accuracy: 0.6092\n",
            "Epoch 75/100\n",
            "1313/1313 [==============================] - 12s 9ms/step - loss: 1.2787 - accuracy: 0.6131\n",
            "Epoch 76/100\n",
            "1313/1313 [==============================] - 11s 9ms/step - loss: 1.2782 - accuracy: 0.6126\n",
            "Epoch 77/100\n",
            "1313/1313 [==============================] - 11s 9ms/step - loss: 1.2667 - accuracy: 0.6159\n",
            "Epoch 78/100\n",
            "1313/1313 [==============================] - 11s 9ms/step - loss: 1.2603 - accuracy: 0.6165\n",
            "Epoch 79/100\n",
            "1313/1313 [==============================] - 12s 9ms/step - loss: 1.2537 - accuracy: 0.6185\n",
            "Epoch 80/100\n",
            "1313/1313 [==============================] - 12s 9ms/step - loss: 1.2460 - accuracy: 0.6192\n",
            "Epoch 81/100\n",
            "1313/1313 [==============================] - 11s 9ms/step - loss: 1.2393 - accuracy: 0.6221\n",
            "Epoch 82/100\n",
            "1313/1313 [==============================] - 12s 9ms/step - loss: 1.2305 - accuracy: 0.6252\n",
            "Epoch 83/100\n",
            "1313/1313 [==============================] - 11s 9ms/step - loss: 1.2209 - accuracy: 0.6277\n",
            "Epoch 84/100\n",
            "1313/1313 [==============================] - 11s 9ms/step - loss: 1.2210 - accuracy: 0.6276\n",
            "Epoch 85/100\n",
            "1313/1313 [==============================] - 11s 9ms/step - loss: 1.2155 - accuracy: 0.6289\n",
            "Epoch 86/100\n",
            "1313/1313 [==============================] - 12s 9ms/step - loss: 1.2046 - accuracy: 0.6359\n",
            "Epoch 87/100\n",
            "1313/1313 [==============================] - 11s 9ms/step - loss: 1.2019 - accuracy: 0.6343\n",
            "Epoch 88/100\n",
            "1313/1313 [==============================] - 11s 9ms/step - loss: 1.1938 - accuracy: 0.6361\n",
            "Epoch 89/100\n",
            "1313/1313 [==============================] - 11s 9ms/step - loss: 1.1918 - accuracy: 0.6378\n",
            "Epoch 90/100\n",
            "1313/1313 [==============================] - 11s 8ms/step - loss: 1.1837 - accuracy: 0.6403\n",
            "Epoch 91/100\n",
            "1313/1313 [==============================] - 12s 9ms/step - loss: 1.1785 - accuracy: 0.6394\n",
            "Epoch 92/100\n",
            "1313/1313 [==============================] - 11s 9ms/step - loss: 1.1674 - accuracy: 0.6456\n",
            "Epoch 93/100\n",
            "1313/1313 [==============================] - 12s 9ms/step - loss: 1.1620 - accuracy: 0.6446\n",
            "Epoch 94/100\n",
            "1313/1313 [==============================] - 12s 9ms/step - loss: 1.1534 - accuracy: 0.6484\n",
            "Epoch 95/100\n",
            "1313/1313 [==============================] - 12s 9ms/step - loss: 1.1553 - accuracy: 0.6473\n",
            "Epoch 96/100\n",
            "1313/1313 [==============================] - 12s 9ms/step - loss: 1.1436 - accuracy: 0.6499\n",
            "Epoch 97/100\n",
            "1313/1313 [==============================] - 12s 9ms/step - loss: 1.1406 - accuracy: 0.6482\n",
            "Epoch 98/100\n",
            "1313/1313 [==============================] - 11s 9ms/step - loss: 1.1364 - accuracy: 0.6518\n",
            "Epoch 99/100\n",
            "1313/1313 [==============================] - 11s 9ms/step - loss: 1.1299 - accuracy: 0.6544\n",
            "Epoch 100/100\n",
            "1313/1313 [==============================] - 12s 9ms/step - loss: 1.1212 - accuracy: 0.6584\n"
          ],
          "name": "stdout"
        },
        {
          "output_type": "execute_result",
          "data": {
            "text/plain": [
              "<tensorflow.python.keras.callbacks.History at 0x7f0342a9c6d8>"
            ]
          },
          "metadata": {
            "tags": []
          },
          "execution_count": 35
        }
      ]
    },
    {
      "cell_type": "markdown",
      "metadata": {
        "id": "VGtEzFjE9EtQ"
      },
      "source": [
        "As we can see model still imporoving itself by taking small learning rate.We can conclude here, small learning rate is making model slow here."
      ]
    },
    {
      "cell_type": "markdown",
      "metadata": {
        "id": "36qA8izSAVGG"
      },
      "source": [
        "##### SGD with decay learning rate"
      ]
    },
    {
      "cell_type": "code",
      "metadata": {
        "id": "3O1pGwR1ATrq"
      },
      "source": [
        "#Initialize Sequential model\n",
        "model3 = tf.keras.models.Sequential()"
      ],
      "execution_count": 37,
      "outputs": []
    },
    {
      "cell_type": "code",
      "metadata": {
        "id": "hgx8yjJMA8yu"
      },
      "source": [
        "#Reshape data from 2D to 1D -> 32x32 to 1024\n",
        "model3.add(tf.keras.layers.Reshape((1024,),input_shape=(32,32,)))\n",
        "model3.add(tf.keras.layers.BatchNormalization())\n",
        "#ist hidden layer\n",
        "model3.add(tf.keras.layers.Dense(500))\n",
        "model3.add(tf.keras.layers.BatchNormalization())\n",
        "model3.add(tf.keras.layers.Activation('relu'))\n",
        "\n",
        "#2nd hidden layer\n",
        "model3.add(tf.keras.layers.Dense(250))\n",
        "model3.add(tf.keras.layers.BatchNormalization())\n",
        "model3.add(tf.keras.layers.Activation('relu'))\n",
        "\n",
        "#3rd hidden layer\n",
        "model3.add(tf.keras.layers.Dense(120))\n",
        "model3.add(tf.keras.layers.BatchNormalization())\n",
        "model3.add(tf.keras.layers.Activation('relu'))\n",
        "\n",
        "\n",
        "#4th hidden layer\n",
        "model3.add(tf.keras.layers.Dense(60))\n",
        "model3.add(tf.keras.layers.BatchNormalization())\n",
        "model3.add(tf.keras.layers.Activation('relu'))\n",
        "\n",
        "#5th hidden layer\n",
        "model3.add(tf.keras.layers.Dense(30))\n",
        "model3.add(tf.keras.layers.BatchNormalization())\n",
        "model3.add(tf.keras.layers.Activation('relu'))\n",
        "\n",
        "#output hidden layer\n",
        "model3.add(tf.keras.layers.Dense(10))\n",
        "model3.add(tf.keras.layers.Activation('softmax'))\n",
        "\n",
        "#compile model\n",
        "sgd = tf.keras.optimizers.SGD(learning_rate = 0.01,momentum=0.9)\n",
        "model3.compile(optimizer=sgd, loss='categorical_crossentropy', metrics=['accuracy'])"
      ],
      "execution_count": 38,
      "outputs": []
    },
    {
      "cell_type": "code",
      "metadata": {
        "id": "SPSaYowjBAmx",
        "outputId": "fdcd15c9-617c-4670-b9b9-6c3de216f1c2",
        "colab": {
          "base_uri": "https://localhost:8080/"
        }
      },
      "source": [
        "# fit and test model\n",
        "model3.fit(trainX, trainY,\n",
        "          #validation_data=(testX, testY),\n",
        "          epochs=50,batch_size=32)"
      ],
      "execution_count": 39,
      "outputs": [
        {
          "output_type": "stream",
          "text": [
            "Epoch 1/50\n",
            "1313/1313 [==============================] - 12s 9ms/step - loss: 1.4941 - accuracy: 0.4944\n",
            "Epoch 2/50\n",
            "1313/1313 [==============================] - 12s 9ms/step - loss: 1.0742 - accuracy: 0.6551\n",
            "Epoch 3/50\n",
            "1313/1313 [==============================] - 12s 9ms/step - loss: 0.9225 - accuracy: 0.7060\n",
            "Epoch 4/50\n",
            "1313/1313 [==============================] - 12s 9ms/step - loss: 0.8287 - accuracy: 0.7384\n",
            "Epoch 5/50\n",
            "1313/1313 [==============================] - 12s 9ms/step - loss: 0.7779 - accuracy: 0.7524\n",
            "Epoch 6/50\n",
            "1313/1313 [==============================] - 12s 9ms/step - loss: 0.7256 - accuracy: 0.7723\n",
            "Epoch 7/50\n",
            "1313/1313 [==============================] - 12s 9ms/step - loss: 0.6829 - accuracy: 0.7833\n",
            "Epoch 8/50\n",
            "1313/1313 [==============================] - 12s 9ms/step - loss: 0.6554 - accuracy: 0.7922\n",
            "Epoch 9/50\n",
            "1313/1313 [==============================] - 12s 9ms/step - loss: 0.6169 - accuracy: 0.8026\n",
            "Epoch 10/50\n",
            "1313/1313 [==============================] - 12s 9ms/step - loss: 0.5964 - accuracy: 0.8108\n",
            "Epoch 11/50\n",
            "1313/1313 [==============================] - 12s 9ms/step - loss: 0.5741 - accuracy: 0.8157\n",
            "Epoch 12/50\n",
            "1313/1313 [==============================] - 12s 9ms/step - loss: 0.5588 - accuracy: 0.8196\n",
            "Epoch 13/50\n",
            "1313/1313 [==============================] - 13s 10ms/step - loss: 0.5401 - accuracy: 0.8280\n",
            "Epoch 14/50\n",
            "1313/1313 [==============================] - 12s 9ms/step - loss: 0.5208 - accuracy: 0.8362\n",
            "Epoch 15/50\n",
            "1313/1313 [==============================] - 12s 9ms/step - loss: 0.5090 - accuracy: 0.8382\n",
            "Epoch 16/50\n",
            "1313/1313 [==============================] - 12s 9ms/step - loss: 0.4970 - accuracy: 0.8406\n",
            "Epoch 17/50\n",
            "1313/1313 [==============================] - 12s 9ms/step - loss: 0.4814 - accuracy: 0.8451\n",
            "Epoch 18/50\n",
            "1313/1313 [==============================] - 12s 9ms/step - loss: 0.4713 - accuracy: 0.8489\n",
            "Epoch 19/50\n",
            "1313/1313 [==============================] - 12s 9ms/step - loss: 0.4582 - accuracy: 0.8508\n",
            "Epoch 20/50\n",
            "1313/1313 [==============================] - 12s 9ms/step - loss: 0.4470 - accuracy: 0.8564\n",
            "Epoch 21/50\n",
            "1313/1313 [==============================] - 12s 9ms/step - loss: 0.4397 - accuracy: 0.8585\n",
            "Epoch 22/50\n",
            "1313/1313 [==============================] - 12s 9ms/step - loss: 0.4311 - accuracy: 0.8620\n",
            "Epoch 23/50\n",
            "1313/1313 [==============================] - 12s 9ms/step - loss: 0.4276 - accuracy: 0.8617\n",
            "Epoch 24/50\n",
            "1313/1313 [==============================] - 12s 9ms/step - loss: 0.4179 - accuracy: 0.8664\n",
            "Epoch 25/50\n",
            "1313/1313 [==============================] - 13s 10ms/step - loss: 0.4056 - accuracy: 0.8689\n",
            "Epoch 26/50\n",
            "1313/1313 [==============================] - 12s 9ms/step - loss: 0.3999 - accuracy: 0.8703\n",
            "Epoch 27/50\n",
            "1313/1313 [==============================] - 12s 9ms/step - loss: 0.3927 - accuracy: 0.8749\n",
            "Epoch 28/50\n",
            "1313/1313 [==============================] - 12s 9ms/step - loss: 0.3835 - accuracy: 0.8751\n",
            "Epoch 29/50\n",
            "1313/1313 [==============================] - 12s 9ms/step - loss: 0.3795 - accuracy: 0.8776\n",
            "Epoch 30/50\n",
            "1313/1313 [==============================] - 12s 9ms/step - loss: 0.3748 - accuracy: 0.8771\n",
            "Epoch 31/50\n",
            "1313/1313 [==============================] - 12s 9ms/step - loss: 0.3671 - accuracy: 0.8799\n",
            "Epoch 32/50\n",
            "1313/1313 [==============================] - 12s 9ms/step - loss: 0.3595 - accuracy: 0.8829\n",
            "Epoch 33/50\n",
            "1313/1313 [==============================] - 12s 9ms/step - loss: 0.3556 - accuracy: 0.8837\n",
            "Epoch 34/50\n",
            "1313/1313 [==============================] - 13s 10ms/step - loss: 0.3494 - accuracy: 0.8863\n",
            "Epoch 35/50\n",
            "1313/1313 [==============================] - 12s 9ms/step - loss: 0.3455 - accuracy: 0.8879\n",
            "Epoch 36/50\n",
            "1313/1313 [==============================] - 12s 9ms/step - loss: 0.3443 - accuracy: 0.8866\n",
            "Epoch 37/50\n",
            "1313/1313 [==============================] - 12s 9ms/step - loss: 0.3389 - accuracy: 0.8901\n",
            "Epoch 38/50\n",
            "1313/1313 [==============================] - 12s 9ms/step - loss: 0.3244 - accuracy: 0.8955\n",
            "Epoch 39/50\n",
            "1313/1313 [==============================] - 12s 9ms/step - loss: 0.3319 - accuracy: 0.8919\n",
            "Epoch 40/50\n",
            "1313/1313 [==============================] - 12s 9ms/step - loss: 0.3316 - accuracy: 0.8921\n",
            "Epoch 41/50\n",
            "1313/1313 [==============================] - 12s 9ms/step - loss: 0.3182 - accuracy: 0.8952\n",
            "Epoch 42/50\n",
            "1313/1313 [==============================] - 12s 9ms/step - loss: 0.3097 - accuracy: 0.8978\n",
            "Epoch 43/50\n",
            "1313/1313 [==============================] - 12s 9ms/step - loss: 0.3074 - accuracy: 0.8990\n",
            "Epoch 44/50\n",
            "1313/1313 [==============================] - 12s 9ms/step - loss: 0.3096 - accuracy: 0.8992\n",
            "Epoch 45/50\n",
            "1313/1313 [==============================] - 12s 9ms/step - loss: 0.3030 - accuracy: 0.9025\n",
            "Epoch 46/50\n",
            "1313/1313 [==============================] - 12s 9ms/step - loss: 0.3024 - accuracy: 0.9003\n",
            "Epoch 47/50\n",
            "1313/1313 [==============================] - 12s 9ms/step - loss: 0.2940 - accuracy: 0.9037\n",
            "Epoch 48/50\n",
            "1313/1313 [==============================] - 12s 9ms/step - loss: 0.2990 - accuracy: 0.9021\n",
            "Epoch 49/50\n",
            "1313/1313 [==============================] - 12s 9ms/step - loss: 0.2917 - accuracy: 0.9050\n",
            "Epoch 50/50\n",
            "1313/1313 [==============================] - 12s 9ms/step - loss: 0.2868 - accuracy: 0.9060\n"
          ],
          "name": "stdout"
        },
        {
          "output_type": "execute_result",
          "data": {
            "text/plain": [
              "<tensorflow.python.keras.callbacks.History at 0x7f0342994c18>"
            ]
          },
          "metadata": {
            "tags": []
          },
          "execution_count": 39
        }
      ]
    },
    {
      "cell_type": "code",
      "metadata": {
        "id": "bb52ho3mEULr",
        "outputId": "548c5a30-ab75-4e98-bbf2-86ed22056f49",
        "colab": {
          "base_uri": "https://localhost:8080/"
        }
      },
      "source": [
        "# test model\n",
        "loss3,accuracy3=model3.evaluate(testX,testY)\n",
        "print (\"accuracy => \",accuracy3, \"loss =>\",loss3)"
      ],
      "execution_count": 40,
      "outputs": [
        {
          "output_type": "stream",
          "text": [
            "563/563 [==============================] - 2s 3ms/step - loss: 0.4958 - accuracy: 0.8673\n",
            "accuracy =>  0.8673333525657654 loss => 0.4958219528198242\n"
          ],
          "name": "stdout"
        }
      ]
    },
    {
      "cell_type": "code",
      "metadata": {
        "id": "yX99dIctF7fE"
      },
      "source": [
        "# add model matrix\n",
        "model_matrix.append(['SGD DN with momemtum',accuracy3])"
      ],
      "execution_count": 46,
      "outputs": []
    },
    {
      "cell_type": "markdown",
      "metadata": {
        "id": "wjqDpAO0Ek2R"
      },
      "source": [
        "**Accuracy did not improved much but Now accuracy is 86%**"
      ]
    },
    {
      "cell_type": "markdown",
      "metadata": {
        "id": "DmBXbOaDGTfD"
      },
      "source": [
        "##### using ADAM optimizer with momentum"
      ]
    },
    {
      "cell_type": "code",
      "metadata": {
        "id": "orxL3F0JGScZ"
      },
      "source": [
        "#Initialize Sequential model\n",
        "model4 = tf.keras.models.Sequential()"
      ],
      "execution_count": 51,
      "outputs": []
    },
    {
      "cell_type": "code",
      "metadata": {
        "id": "CallHjhyIWZc"
      },
      "source": [
        "#Reshape data from 2D to 1D -> 32x32 to 1024\n",
        "model4.add(tf.keras.layers.Reshape((1024,),input_shape=(32,32,)))\n",
        "model4.add(tf.keras.layers.BatchNormalization())\n",
        "#ist hidden layer\n",
        "model4.add(tf.keras.layers.Dense(500))\n",
        "model4.add(tf.keras.layers.BatchNormalization())\n",
        "model4.add(tf.keras.layers.Activation('relu'))\n",
        "\n",
        "#2nd hidden layer\n",
        "model4.add(tf.keras.layers.Dense(250))\n",
        "model4.add(tf.keras.layers.BatchNormalization())\n",
        "model4.add(tf.keras.layers.Activation('relu'))\n",
        "\n",
        "#3rd hidden layer\n",
        "model4.add(tf.keras.layers.Dense(120))\n",
        "model4.add(tf.keras.layers.BatchNormalization())\n",
        "model4.add(tf.keras.layers.Activation('relu'))\n",
        "\n",
        "\n",
        "#4th hidden layer\n",
        "model4.add(tf.keras.layers.Dense(60))\n",
        "model4.add(tf.keras.layers.BatchNormalization())\n",
        "model4.add(tf.keras.layers.Activation('relu'))\n",
        "\n",
        "#5th hidden layer\n",
        "model4.add(tf.keras.layers.Dense(30))\n",
        "model4.add(tf.keras.layers.BatchNormalization())\n",
        "model4.add(tf.keras.layers.Activation('relu'))\n",
        "\n",
        "#output hidden layer\n",
        "model4.add(tf.keras.layers.Dense(10))\n",
        "model4.add(tf.keras.layers.Activation('softmax'))\n",
        "\n",
        "#compile model\n",
        "#adam = tf.keras.optimizers.Adam(learning_rate = 0.1)\n",
        "model4.compile(optimizer='adam', loss='categorical_crossentropy', metrics=['accuracy'])"
      ],
      "execution_count": 52,
      "outputs": []
    },
    {
      "cell_type": "code",
      "metadata": {
        "id": "fGQu-BAPIi2a",
        "outputId": "c73ff8bc-7db1-48b5-db88-edb6793ae979",
        "colab": {
          "base_uri": "https://localhost:8080/"
        }
      },
      "source": [
        "# fit and test model\n",
        "model4.fit(trainX, trainY,\n",
        "          #validation_data=(testX, testY),\n",
        "          epochs=50,batch_size=32)"
      ],
      "execution_count": 53,
      "outputs": [
        {
          "output_type": "stream",
          "text": [
            "Epoch 1/50\n",
            "1313/1313 [==============================] - 14s 11ms/step - loss: 1.5163 - accuracy: 0.4894\n",
            "Epoch 2/50\n",
            "1313/1313 [==============================] - 13s 10ms/step - loss: 1.0561 - accuracy: 0.6646\n",
            "Epoch 3/50\n",
            "1313/1313 [==============================] - 14s 10ms/step - loss: 0.9121 - accuracy: 0.7087\n",
            "Epoch 4/50\n",
            "1313/1313 [==============================] - 15s 11ms/step - loss: 0.8262 - accuracy: 0.7386\n",
            "Epoch 5/50\n",
            "1313/1313 [==============================] - 13s 10ms/step - loss: 0.7590 - accuracy: 0.7588\n",
            "Epoch 6/50\n",
            "1313/1313 [==============================] - 13s 10ms/step - loss: 0.7115 - accuracy: 0.7766\n",
            "Epoch 7/50\n",
            "1313/1313 [==============================] - 13s 10ms/step - loss: 0.6713 - accuracy: 0.7864\n",
            "Epoch 8/50\n",
            "1313/1313 [==============================] - 17s 13ms/step - loss: 0.6444 - accuracy: 0.7967\n",
            "Epoch 9/50\n",
            "1313/1313 [==============================] - 13s 10ms/step - loss: 0.6149 - accuracy: 0.8039\n",
            "Epoch 10/50\n",
            "1313/1313 [==============================] - 13s 10ms/step - loss: 0.5936 - accuracy: 0.8099\n",
            "Epoch 11/50\n",
            "1313/1313 [==============================] - 13s 10ms/step - loss: 0.5696 - accuracy: 0.8181\n",
            "Epoch 12/50\n",
            "1313/1313 [==============================] - 13s 10ms/step - loss: 0.5508 - accuracy: 0.8240\n",
            "Epoch 13/50\n",
            "1313/1313 [==============================] - 13s 10ms/step - loss: 0.5301 - accuracy: 0.8313\n",
            "Epoch 14/50\n",
            "1313/1313 [==============================] - 13s 10ms/step - loss: 0.5199 - accuracy: 0.8343\n",
            "Epoch 15/50\n",
            "1313/1313 [==============================] - 13s 10ms/step - loss: 0.4977 - accuracy: 0.8419\n",
            "Epoch 16/50\n",
            "1313/1313 [==============================] - 13s 10ms/step - loss: 0.4907 - accuracy: 0.8435\n",
            "Epoch 17/50\n",
            "1313/1313 [==============================] - 13s 10ms/step - loss: 0.4756 - accuracy: 0.8466\n",
            "Epoch 18/50\n",
            "1313/1313 [==============================] - 13s 10ms/step - loss: 0.4701 - accuracy: 0.8490\n",
            "Epoch 19/50\n",
            "1313/1313 [==============================] - 13s 10ms/step - loss: 0.4545 - accuracy: 0.8534\n",
            "Epoch 20/50\n",
            "1313/1313 [==============================] - 13s 10ms/step - loss: 0.4458 - accuracy: 0.8569\n",
            "Epoch 21/50\n",
            "1313/1313 [==============================] - 13s 10ms/step - loss: 0.4319 - accuracy: 0.8616\n",
            "Epoch 22/50\n",
            "1313/1313 [==============================] - 13s 10ms/step - loss: 0.4305 - accuracy: 0.8617\n",
            "Epoch 23/50\n",
            "1313/1313 [==============================] - 13s 10ms/step - loss: 0.4159 - accuracy: 0.8668\n",
            "Epoch 24/50\n",
            "1313/1313 [==============================] - 13s 10ms/step - loss: 0.4135 - accuracy: 0.8669\n",
            "Epoch 25/50\n",
            "1313/1313 [==============================] - 13s 10ms/step - loss: 0.4050 - accuracy: 0.8693\n",
            "Epoch 26/50\n",
            "1313/1313 [==============================] - 13s 10ms/step - loss: 0.4011 - accuracy: 0.8698\n",
            "Epoch 27/50\n",
            "1313/1313 [==============================] - 13s 10ms/step - loss: 0.3898 - accuracy: 0.8745\n",
            "Epoch 28/50\n",
            "1313/1313 [==============================] - 13s 10ms/step - loss: 0.3872 - accuracy: 0.8745\n",
            "Epoch 29/50\n",
            "1313/1313 [==============================] - 13s 10ms/step - loss: 0.3835 - accuracy: 0.8749\n",
            "Epoch 30/50\n",
            "1313/1313 [==============================] - 13s 10ms/step - loss: 0.3729 - accuracy: 0.8788\n",
            "Epoch 31/50\n",
            "1313/1313 [==============================] - 13s 10ms/step - loss: 0.3662 - accuracy: 0.8796\n",
            "Epoch 32/50\n",
            "1313/1313 [==============================] - 13s 10ms/step - loss: 0.3606 - accuracy: 0.8843\n",
            "Epoch 33/50\n",
            "1313/1313 [==============================] - 13s 10ms/step - loss: 0.3489 - accuracy: 0.8870\n",
            "Epoch 34/50\n",
            "1313/1313 [==============================] - 12s 9ms/step - loss: 0.3515 - accuracy: 0.8849\n",
            "Epoch 35/50\n",
            "1313/1313 [==============================] - 13s 10ms/step - loss: 0.3440 - accuracy: 0.8880\n",
            "Epoch 36/50\n",
            "1313/1313 [==============================] - 13s 10ms/step - loss: 0.3443 - accuracy: 0.8872\n",
            "Epoch 37/50\n",
            "1313/1313 [==============================] - 13s 10ms/step - loss: 0.3322 - accuracy: 0.8901\n",
            "Epoch 38/50\n",
            "1313/1313 [==============================] - 13s 10ms/step - loss: 0.3303 - accuracy: 0.8924\n",
            "Epoch 39/50\n",
            "1313/1313 [==============================] - 13s 10ms/step - loss: 0.3218 - accuracy: 0.8933\n",
            "Epoch 40/50\n",
            "1313/1313 [==============================] - 13s 10ms/step - loss: 0.3257 - accuracy: 0.8928\n",
            "Epoch 41/50\n",
            "1313/1313 [==============================] - 13s 10ms/step - loss: 0.3171 - accuracy: 0.8968\n",
            "Epoch 42/50\n",
            "1313/1313 [==============================] - 13s 10ms/step - loss: 0.3137 - accuracy: 0.8963\n",
            "Epoch 43/50\n",
            "1313/1313 [==============================] - 13s 10ms/step - loss: 0.3114 - accuracy: 0.8971\n",
            "Epoch 44/50\n",
            "1313/1313 [==============================] - 13s 10ms/step - loss: 0.3074 - accuracy: 0.9008\n",
            "Epoch 45/50\n",
            "1313/1313 [==============================] - 13s 10ms/step - loss: 0.3010 - accuracy: 0.9002\n",
            "Epoch 46/50\n",
            "1313/1313 [==============================] - 13s 10ms/step - loss: 0.2998 - accuracy: 0.9004\n",
            "Epoch 47/50\n",
            "1313/1313 [==============================] - 13s 10ms/step - loss: 0.2921 - accuracy: 0.9036\n",
            "Epoch 48/50\n",
            "1313/1313 [==============================] - 14s 11ms/step - loss: 0.2933 - accuracy: 0.9041\n",
            "Epoch 49/50\n",
            "1313/1313 [==============================] - 13s 10ms/step - loss: 0.2910 - accuracy: 0.9045\n",
            "Epoch 50/50\n",
            "1313/1313 [==============================] - 13s 10ms/step - loss: 0.2892 - accuracy: 0.9034\n"
          ],
          "name": "stdout"
        },
        {
          "output_type": "execute_result",
          "data": {
            "text/plain": [
              "<tensorflow.python.keras.callbacks.History at 0x7f0340887f60>"
            ]
          },
          "metadata": {
            "tags": []
          },
          "execution_count": 53
        }
      ]
    },
    {
      "cell_type": "code",
      "metadata": {
        "id": "BcCbhHLPIouq",
        "outputId": "6da04436-633b-4b98-ef85-019d6c60b962",
        "colab": {
          "base_uri": "https://localhost:8080/"
        }
      },
      "source": [
        "# test model\n",
        "loss4,accuracy4=model4.evaluate(testX,testY)\n",
        "print (\"accuracy => \",accuracy4, \"loss =>\",loss4)"
      ],
      "execution_count": 54,
      "outputs": [
        {
          "output_type": "stream",
          "text": [
            "563/563 [==============================] - 3s 5ms/step - loss: 0.4721 - accuracy: 0.8740\n",
            "accuracy =>  0.8740000128746033 loss => 0.4721032381057739\n"
          ],
          "name": "stdout"
        }
      ]
    },
    {
      "cell_type": "code",
      "metadata": {
        "id": "9eK0gho-Itev"
      },
      "source": [
        "# add model matrix\n",
        "model_matrix.append(['Adam DN',accuracy4])"
      ],
      "execution_count": 55,
      "outputs": []
    },
    {
      "cell_type": "markdown",
      "metadata": {
        "id": "AtP4zA2AOdC3"
      },
      "source": [
        "**Accuracy Slighly improved after using Adam optimizer.It reached at 87%.**"
      ]
    },
    {
      "cell_type": "markdown",
      "metadata": {
        "id": "1CL7l3K0OyTM"
      },
      "source": [
        "##### Adam optimizer with Dropout 0.2 :"
      ]
    },
    {
      "cell_type": "code",
      "metadata": {
        "id": "WVvyOWSNRKcm"
      },
      "source": [
        "#Initialize Sequential model\n",
        "model5 = tf.keras.models.Sequential()"
      ],
      "execution_count": 56,
      "outputs": []
    },
    {
      "cell_type": "code",
      "metadata": {
        "id": "QXVYxyHdRPVy"
      },
      "source": [
        "#Reshape data from 2D to 1D -> 32x32 to 1024\n",
        "model5.add(tf.keras.layers.Reshape((1024,),input_shape=(32,32,)))\n",
        "model5.add(tf.keras.layers.BatchNormalization())\n",
        "#ist hidden layer\n",
        "model5.add(tf.keras.layers.Dense(500))\n",
        "model5.add(tf.keras.layers.BatchNormalization())\n",
        "model5.add(tf.keras.layers.Activation('relu'))\n",
        "model5.add(tf.keras.layers.Dropout(0.20))\n",
        "#2nd hidden layer\n",
        "model5.add(tf.keras.layers.Dense(250))\n",
        "model5.add(tf.keras.layers.BatchNormalization())\n",
        "model5.add(tf.keras.layers.Activation('relu'))\n",
        "model5.add(tf.keras.layers.Dropout(0.20))\n",
        "\n",
        "#3rd hidden layer\n",
        "model5.add(tf.keras.layers.Dense(120))\n",
        "model5.add(tf.keras.layers.BatchNormalization())\n",
        "model5.add(tf.keras.layers.Activation('relu'))\n",
        "model5.add(tf.keras.layers.Dropout(0.20))\n",
        "\n",
        "#4th hidden layer\n",
        "model5.add(tf.keras.layers.Dense(60))\n",
        "model5.add(tf.keras.layers.BatchNormalization())\n",
        "model5.add(tf.keras.layers.Activation('relu'))\n",
        "\n",
        "#5th hidden layer\n",
        "model5.add(tf.keras.layers.Dense(30))\n",
        "model5.add(tf.keras.layers.BatchNormalization())\n",
        "model5.add(tf.keras.layers.Activation('relu'))\n",
        "\n",
        "#output hidden layer\n",
        "model5.add(tf.keras.layers.Dense(10))\n",
        "model5.add(tf.keras.layers.Activation('softmax'))\n",
        "\n",
        "#compile model\n",
        "#adam = tf.keras.optimizers.Adam(learning_rate = 0.1)\n",
        "model5.compile(optimizer='adam', loss='categorical_crossentropy', metrics=['accuracy'])"
      ],
      "execution_count": 57,
      "outputs": []
    },
    {
      "cell_type": "code",
      "metadata": {
        "id": "WdGjBhUMSZuj",
        "outputId": "81638f9f-edae-4013-ad78-ac2df3b9c20b",
        "colab": {
          "base_uri": "https://localhost:8080/"
        }
      },
      "source": [
        "# fit and test model\n",
        "model5.fit(trainX, trainY,\n",
        "          #validation_data=(testX, testY),\n",
        "          epochs=50,batch_size=32)"
      ],
      "execution_count": 58,
      "outputs": [
        {
          "output_type": "stream",
          "text": [
            "Epoch 1/50\n",
            "1313/1313 [==============================] - 14s 10ms/step - loss: 1.8224 - accuracy: 0.3633\n",
            "Epoch 2/50\n",
            "1313/1313 [==============================] - 14s 10ms/step - loss: 1.2770 - accuracy: 0.5885\n",
            "Epoch 3/50\n",
            "1313/1313 [==============================] - 14s 11ms/step - loss: 1.1197 - accuracy: 0.6421\n",
            "Epoch 4/50\n",
            "1313/1313 [==============================] - 14s 10ms/step - loss: 1.0232 - accuracy: 0.6767\n",
            "Epoch 5/50\n",
            "1313/1313 [==============================] - 14s 10ms/step - loss: 0.9592 - accuracy: 0.6979\n",
            "Epoch 6/50\n",
            "1313/1313 [==============================] - 14s 11ms/step - loss: 0.9053 - accuracy: 0.7139\n",
            "Epoch 7/50\n",
            "1313/1313 [==============================] - 14s 10ms/step - loss: 0.8720 - accuracy: 0.7223\n",
            "Epoch 8/50\n",
            "1313/1313 [==============================] - 13s 10ms/step - loss: 0.8354 - accuracy: 0.7356\n",
            "Epoch 9/50\n",
            "1313/1313 [==============================] - 13s 10ms/step - loss: 0.8067 - accuracy: 0.7458\n",
            "Epoch 10/50\n",
            "1313/1313 [==============================] - 14s 10ms/step - loss: 0.7824 - accuracy: 0.7533\n",
            "Epoch 11/50\n",
            "1313/1313 [==============================] - 14s 10ms/step - loss: 0.7523 - accuracy: 0.7641\n",
            "Epoch 12/50\n",
            "1313/1313 [==============================] - 14s 10ms/step - loss: 0.7358 - accuracy: 0.7681\n",
            "Epoch 13/50\n",
            "1313/1313 [==============================] - 13s 10ms/step - loss: 0.7223 - accuracy: 0.7750\n",
            "Epoch 14/50\n",
            "1313/1313 [==============================] - 14s 11ms/step - loss: 0.7083 - accuracy: 0.7763\n",
            "Epoch 15/50\n",
            "1313/1313 [==============================] - 14s 11ms/step - loss: 0.6976 - accuracy: 0.7801\n",
            "Epoch 16/50\n",
            "1313/1313 [==============================] - 14s 10ms/step - loss: 0.6800 - accuracy: 0.7856\n",
            "Epoch 17/50\n",
            "1313/1313 [==============================] - 14s 10ms/step - loss: 0.6732 - accuracy: 0.7870\n",
            "Epoch 18/50\n",
            "1313/1313 [==============================] - 14s 11ms/step - loss: 0.6614 - accuracy: 0.7918\n",
            "Epoch 19/50\n",
            "1313/1313 [==============================] - 14s 10ms/step - loss: 0.6468 - accuracy: 0.7986\n",
            "Epoch 20/50\n",
            "1313/1313 [==============================] - 14s 11ms/step - loss: 0.6488 - accuracy: 0.7956\n",
            "Epoch 21/50\n",
            "1313/1313 [==============================] - 14s 11ms/step - loss: 0.6353 - accuracy: 0.8002\n",
            "Epoch 22/50\n",
            "1313/1313 [==============================] - 13s 10ms/step - loss: 0.6241 - accuracy: 0.8038\n",
            "Epoch 23/50\n",
            "1313/1313 [==============================] - 14s 10ms/step - loss: 0.6230 - accuracy: 0.8030\n",
            "Epoch 24/50\n",
            "1313/1313 [==============================] - 14s 10ms/step - loss: 0.6121 - accuracy: 0.8065\n",
            "Epoch 25/50\n",
            "1313/1313 [==============================] - 13s 10ms/step - loss: 0.6038 - accuracy: 0.8087\n",
            "Epoch 26/50\n",
            "1313/1313 [==============================] - 14s 10ms/step - loss: 0.6011 - accuracy: 0.8089\n",
            "Epoch 27/50\n",
            "1313/1313 [==============================] - 14s 10ms/step - loss: 0.5930 - accuracy: 0.8130\n",
            "Epoch 28/50\n",
            "1313/1313 [==============================] - 14s 11ms/step - loss: 0.5857 - accuracy: 0.8145\n",
            "Epoch 29/50\n",
            "1313/1313 [==============================] - 14s 11ms/step - loss: 0.5811 - accuracy: 0.8165\n",
            "Epoch 30/50\n",
            "1313/1313 [==============================] - 14s 11ms/step - loss: 0.5837 - accuracy: 0.8164\n",
            "Epoch 31/50\n",
            "1313/1313 [==============================] - 14s 10ms/step - loss: 0.5742 - accuracy: 0.8184\n",
            "Epoch 32/50\n",
            "1313/1313 [==============================] - 14s 10ms/step - loss: 0.5628 - accuracy: 0.8207\n",
            "Epoch 33/50\n",
            "1313/1313 [==============================] - 14s 10ms/step - loss: 0.5624 - accuracy: 0.8209\n",
            "Epoch 34/50\n",
            "1313/1313 [==============================] - 13s 10ms/step - loss: 0.5597 - accuracy: 0.8212\n",
            "Epoch 35/50\n",
            "1313/1313 [==============================] - 13s 10ms/step - loss: 0.5558 - accuracy: 0.8238\n",
            "Epoch 36/50\n",
            "1313/1313 [==============================] - 13s 10ms/step - loss: 0.5535 - accuracy: 0.8256\n",
            "Epoch 37/50\n",
            "1313/1313 [==============================] - 14s 11ms/step - loss: 0.5528 - accuracy: 0.8240\n",
            "Epoch 38/50\n",
            "1313/1313 [==============================] - 14s 10ms/step - loss: 0.5383 - accuracy: 0.8306\n",
            "Epoch 39/50\n",
            "1313/1313 [==============================] - 14s 10ms/step - loss: 0.5435 - accuracy: 0.8263\n",
            "Epoch 40/50\n",
            "1313/1313 [==============================] - 13s 10ms/step - loss: 0.5366 - accuracy: 0.8307\n",
            "Epoch 41/50\n",
            "1313/1313 [==============================] - 14s 10ms/step - loss: 0.5388 - accuracy: 0.8266\n",
            "Epoch 42/50\n",
            "1313/1313 [==============================] - 14s 10ms/step - loss: 0.5288 - accuracy: 0.8334\n",
            "Epoch 43/50\n",
            "1313/1313 [==============================] - 17s 13ms/step - loss: 0.5273 - accuracy: 0.8324\n",
            "Epoch 44/50\n",
            "1313/1313 [==============================] - 15s 11ms/step - loss: 0.5219 - accuracy: 0.8344\n",
            "Epoch 45/50\n",
            "1313/1313 [==============================] - 16s 12ms/step - loss: 0.5176 - accuracy: 0.8345\n",
            "Epoch 46/50\n",
            "1313/1313 [==============================] - 15s 11ms/step - loss: 0.5219 - accuracy: 0.8353\n",
            "Epoch 47/50\n",
            "1313/1313 [==============================] - 15s 12ms/step - loss: 0.5172 - accuracy: 0.8362\n",
            "Epoch 48/50\n",
            "1313/1313 [==============================] - 15s 12ms/step - loss: 0.5015 - accuracy: 0.8413\n",
            "Epoch 49/50\n",
            "1313/1313 [==============================] - 16s 12ms/step - loss: 0.5057 - accuracy: 0.8391\n",
            "Epoch 50/50\n",
            "1313/1313 [==============================] - 15s 12ms/step - loss: 0.4983 - accuracy: 0.8430\n"
          ],
          "name": "stdout"
        },
        {
          "output_type": "execute_result",
          "data": {
            "text/plain": [
              "<tensorflow.python.keras.callbacks.History at 0x7f033f407cc0>"
            ]
          },
          "metadata": {
            "tags": []
          },
          "execution_count": 58
        }
      ]
    },
    {
      "cell_type": "code",
      "metadata": {
        "id": "7_A0pHQwRU7C",
        "outputId": "30f97e21-70f2-4495-e8f5-dca7a2772364",
        "colab": {
          "base_uri": "https://localhost:8080/"
        }
      },
      "source": [
        "# test model\n",
        "loss5,accuracy5=model5.evaluate(testX,testY)\n",
        "print (\"accuracy => \",accuracy5, \"loss =>\",loss5)"
      ],
      "execution_count": 60,
      "outputs": [
        {
          "output_type": "stream",
          "text": [
            "563/563 [==============================] - 2s 3ms/step - loss: 0.4006 - accuracy: 0.8814\n",
            "accuracy =>  0.8814444541931152 loss => 0.4006446599960327\n"
          ],
          "name": "stdout"
        }
      ]
    },
    {
      "cell_type": "code",
      "metadata": {
        "id": "4njt3wxqSY1-"
      },
      "source": [
        "# add model matrix\n",
        "model_matrix.append(['Adam DN Dropout',accuracy5])"
      ],
      "execution_count": 61,
      "outputs": []
    },
    {
      "cell_type": "markdown",
      "metadata": {
        "id": "rgD4DPGxZnHx"
      },
      "source": [
        "**Dropout making model more generalize and improving accuracy**"
      ]
    },
    {
      "cell_type": "markdown",
      "metadata": {
        "id": "G7hmEBCpGEwm"
      },
      "source": [
        "##### Try with leaky Relu Activation Function :"
      ]
    },
    {
      "cell_type": "code",
      "metadata": {
        "id": "DXqBZcGkOQZl"
      },
      "source": [
        "#Initialize Sequential model\n",
        "model6 = tf.keras.models.Sequential()"
      ],
      "execution_count": 68,
      "outputs": []
    },
    {
      "cell_type": "code",
      "metadata": {
        "id": "mIbfmjZqN_Jo"
      },
      "source": [
        "#Reshape data from 2D to 1D -> 32x32 to 1024\n",
        "model6.add(tf.keras.layers.Reshape((1024,),input_shape=(32,32,)))\n",
        "model6.add(tf.keras.layers.BatchNormalization())\n",
        "#ist hidden layer\n",
        "model6.add(tf.keras.layers.Dense(500))\n",
        "model6.add(tf.keras.layers.BatchNormalization())\n",
        "actlayer = tf.keras.layers.LeakyReLU()\n",
        "model6.add(tf.keras.layers.Activation(actlayer))\n",
        "#model6.add(tf.keras.layers.Dropout(0.20))\n",
        "#2nd hidden layer\n",
        "model6.add(tf.keras.layers.Dense(250))\n",
        "model6.add(tf.keras.layers.BatchNormalization())\n",
        "actlayer = tf.keras.layers.LeakyReLU()\n",
        "model6.add(tf.keras.layers.Activation(actlayer))\n",
        "#model6.add(tf.keras.layers.Dropout(0.20))\n",
        "\n",
        "#3rd hidden layer\n",
        "model6.add(tf.keras.layers.Dense(120))\n",
        "model6.add(tf.keras.layers.BatchNormalization())\n",
        "actlayer = tf.keras.layers.LeakyReLU()\n",
        "model6.add(tf.keras.layers.Activation(actlayer))\n",
        "#model6.add(tf.keras.layers.Dropout(0.20))\n",
        "\n",
        "#4th hidden layer\n",
        "model6.add(tf.keras.layers.Dense(60))\n",
        "model6.add(tf.keras.layers.BatchNormalization())\n",
        "model6.add(tf.keras.layers.Activation('relu'))\n",
        "\n",
        "#5th hidden layer\n",
        "model6.add(tf.keras.layers.Dense(30))\n",
        "model6.add(tf.keras.layers.BatchNormalization())\n",
        "model6.add(tf.keras.layers.Activation('relu'))\n",
        "\n",
        "#output hidden layer\n",
        "model6.add(tf.keras.layers.Dense(10))\n",
        "model6.add(tf.keras.layers.Activation('softmax'))\n",
        "\n",
        "#compile model\n",
        "#adam = tf.keras.optimizers.Adam(learning_rate = 0.1)\n",
        "model6.compile(optimizer='adam', loss='categorical_crossentropy', metrics=['accuracy'])"
      ],
      "execution_count": 69,
      "outputs": []
    },
    {
      "cell_type": "code",
      "metadata": {
        "id": "sL4Dh-jGQvdV",
        "outputId": "05b72923-2ae6-4da1-8379-72ca4c6ff034",
        "colab": {
          "base_uri": "https://localhost:8080/"
        }
      },
      "source": [
        "# fit and test model\n",
        "model6.fit(trainX, trainY,\n",
        "          #validation_data=(testX, testY),\n",
        "          epochs=50,batch_size=32)"
      ],
      "execution_count": 70,
      "outputs": [
        {
          "output_type": "stream",
          "text": [
            "Epoch 1/50\n",
            "1313/1313 [==============================] - 14s 10ms/step - loss: 1.4645 - accuracy: 0.5196\n",
            "Epoch 2/50\n",
            "1313/1313 [==============================] - 13s 10ms/step - loss: 1.0923 - accuracy: 0.6530\n",
            "Epoch 3/50\n",
            "1313/1313 [==============================] - 13s 10ms/step - loss: 0.9626 - accuracy: 0.6939\n",
            "Epoch 4/50\n",
            "1313/1313 [==============================] - 13s 10ms/step - loss: 0.8797 - accuracy: 0.7215\n",
            "Epoch 5/50\n",
            "1313/1313 [==============================] - 14s 11ms/step - loss: 0.8321 - accuracy: 0.7392\n",
            "Epoch 6/50\n",
            "1313/1313 [==============================] - 15s 11ms/step - loss: 0.7911 - accuracy: 0.7515\n",
            "Epoch 7/50\n",
            "1313/1313 [==============================] - 15s 11ms/step - loss: 0.7488 - accuracy: 0.7630\n",
            "Epoch 8/50\n",
            "1313/1313 [==============================] - 14s 11ms/step - loss: 0.7204 - accuracy: 0.7749\n",
            "Epoch 9/50\n",
            "1313/1313 [==============================] - 14s 11ms/step - loss: 0.6985 - accuracy: 0.7789\n",
            "Epoch 10/50\n",
            "1313/1313 [==============================] - 13s 10ms/step - loss: 0.6741 - accuracy: 0.7877\n",
            "Epoch 11/50\n",
            "1313/1313 [==============================] - 13s 10ms/step - loss: 0.6549 - accuracy: 0.7925\n",
            "Epoch 12/50\n",
            "1313/1313 [==============================] - 13s 10ms/step - loss: 0.6435 - accuracy: 0.7980\n",
            "Epoch 13/50\n",
            "1313/1313 [==============================] - 13s 10ms/step - loss: 0.6266 - accuracy: 0.8007\n",
            "Epoch 14/50\n",
            "1313/1313 [==============================] - 13s 10ms/step - loss: 0.6073 - accuracy: 0.8105\n",
            "Epoch 15/50\n",
            "1313/1313 [==============================] - 12s 9ms/step - loss: 0.5962 - accuracy: 0.8113\n",
            "Epoch 16/50\n",
            "1313/1313 [==============================] - 14s 11ms/step - loss: 0.5917 - accuracy: 0.8134\n",
            "Epoch 17/50\n",
            "1313/1313 [==============================] - 15s 11ms/step - loss: 0.5776 - accuracy: 0.8160\n",
            "Epoch 18/50\n",
            "1313/1313 [==============================] - 15s 11ms/step - loss: 0.5616 - accuracy: 0.8219\n",
            "Epoch 19/50\n",
            "1313/1313 [==============================] - 15s 11ms/step - loss: 0.5573 - accuracy: 0.8216\n",
            "Epoch 20/50\n",
            "1313/1313 [==============================] - 14s 11ms/step - loss: 0.5502 - accuracy: 0.8245\n",
            "Epoch 21/50\n",
            "1313/1313 [==============================] - 13s 10ms/step - loss: 0.5375 - accuracy: 0.8291\n",
            "Epoch 22/50\n",
            "1313/1313 [==============================] - 13s 10ms/step - loss: 0.5292 - accuracy: 0.8319\n",
            "Epoch 23/50\n",
            "1313/1313 [==============================] - 14s 11ms/step - loss: 0.5226 - accuracy: 0.8345\n",
            "Epoch 24/50\n",
            "1313/1313 [==============================] - 13s 10ms/step - loss: 0.5175 - accuracy: 0.8354\n",
            "Epoch 25/50\n",
            "1313/1313 [==============================] - 13s 10ms/step - loss: 0.5056 - accuracy: 0.8385\n",
            "Epoch 26/50\n",
            "1313/1313 [==============================] - 13s 10ms/step - loss: 0.5073 - accuracy: 0.8370\n",
            "Epoch 27/50\n",
            "1313/1313 [==============================] - 13s 10ms/step - loss: 0.4923 - accuracy: 0.8428\n",
            "Epoch 28/50\n",
            "1313/1313 [==============================] - 13s 10ms/step - loss: 0.4915 - accuracy: 0.8438\n",
            "Epoch 29/50\n",
            "1313/1313 [==============================] - 13s 10ms/step - loss: 0.4843 - accuracy: 0.8451\n",
            "Epoch 30/50\n",
            "1313/1313 [==============================] - 13s 10ms/step - loss: 0.4798 - accuracy: 0.8471\n",
            "Epoch 31/50\n",
            "1313/1313 [==============================] - 13s 10ms/step - loss: 0.4718 - accuracy: 0.8478\n",
            "Epoch 32/50\n",
            "1313/1313 [==============================] - 13s 10ms/step - loss: 0.4636 - accuracy: 0.8507\n",
            "Epoch 33/50\n",
            "1313/1313 [==============================] - 13s 10ms/step - loss: 0.4643 - accuracy: 0.8521\n",
            "Epoch 34/50\n",
            "1313/1313 [==============================] - 13s 10ms/step - loss: 0.4587 - accuracy: 0.8530\n",
            "Epoch 35/50\n",
            "1313/1313 [==============================] - 13s 10ms/step - loss: 0.4538 - accuracy: 0.8538\n",
            "Epoch 36/50\n",
            "1313/1313 [==============================] - 13s 10ms/step - loss: 0.4540 - accuracy: 0.8555\n",
            "Epoch 37/50\n",
            "1313/1313 [==============================] - 14s 11ms/step - loss: 0.4431 - accuracy: 0.8574\n",
            "Epoch 38/50\n",
            "1313/1313 [==============================] - 13s 10ms/step - loss: 0.4423 - accuracy: 0.8590\n",
            "Epoch 39/50\n",
            "1313/1313 [==============================] - 14s 10ms/step - loss: 0.4286 - accuracy: 0.8634\n",
            "Epoch 40/50\n",
            "1313/1313 [==============================] - 14s 11ms/step - loss: 0.4292 - accuracy: 0.8616\n",
            "Epoch 41/50\n",
            "1313/1313 [==============================] - 15s 12ms/step - loss: 0.4340 - accuracy: 0.8607\n",
            "Epoch 42/50\n",
            "1313/1313 [==============================] - 19s 14ms/step - loss: 0.4272 - accuracy: 0.8639\n",
            "Epoch 43/50\n",
            "1313/1313 [==============================] - 16s 12ms/step - loss: 0.4220 - accuracy: 0.8646\n",
            "Epoch 44/50\n",
            "1313/1313 [==============================] - 15s 12ms/step - loss: 0.4142 - accuracy: 0.8660\n",
            "Epoch 45/50\n",
            "1313/1313 [==============================] - 17s 13ms/step - loss: 0.4150 - accuracy: 0.8647\n",
            "Epoch 46/50\n",
            "1313/1313 [==============================] - 16s 12ms/step - loss: 0.4101 - accuracy: 0.8682\n",
            "Epoch 47/50\n",
            "1313/1313 [==============================] - 15s 12ms/step - loss: 0.4061 - accuracy: 0.8679\n",
            "Epoch 48/50\n",
            "1313/1313 [==============================] - 15s 11ms/step - loss: 0.4025 - accuracy: 0.8699\n",
            "Epoch 49/50\n",
            "1313/1313 [==============================] - 16s 12ms/step - loss: 0.4030 - accuracy: 0.8700\n",
            "Epoch 50/50\n",
            "1313/1313 [==============================] - 16s 12ms/step - loss: 0.4034 - accuracy: 0.8685\n"
          ],
          "name": "stdout"
        },
        {
          "output_type": "execute_result",
          "data": {
            "text/plain": [
              "<tensorflow.python.keras.callbacks.History at 0x7f03349aff28>"
            ]
          },
          "metadata": {
            "tags": []
          },
          "execution_count": 70
        }
      ]
    },
    {
      "cell_type": "code",
      "metadata": {
        "id": "zOjlhhYiaJYI",
        "outputId": "fb0c379e-a9c2-4baa-880a-e5d2d16a37e3",
        "colab": {
          "base_uri": "https://localhost:8080/"
        }
      },
      "source": [
        "# test model\n",
        "loss6,accuracy6=model6.evaluate(testX,testY)\n",
        "print (\"accuracy => \",accuracy6, \"loss =>\",loss6)"
      ],
      "execution_count": 71,
      "outputs": [
        {
          "output_type": "stream",
          "text": [
            "563/563 [==============================] - 2s 3ms/step - loss: 0.4527 - accuracy: 0.8687\n",
            "accuracy =>  0.8686666488647461 loss => 0.4527226686477661\n"
          ],
          "name": "stdout"
        }
      ]
    },
    {
      "cell_type": "code",
      "metadata": {
        "id": "YSocqh6EY6TT"
      },
      "source": [
        "model_matrix.append([\"leaky relu DNN\",accuracy6])"
      ],
      "execution_count": 72,
      "outputs": []
    },
    {
      "cell_type": "markdown",
      "metadata": {
        "id": "feRa4bRAXvts"
      },
      "source": [
        "###Comparing DNN models accuracy"
      ]
    },
    {
      "cell_type": "code",
      "metadata": {
        "id": "NryUUUOpXtuw",
        "outputId": "89d83596-8e93-4b24-c9ae-815f285d6bcd",
        "colab": {
          "base_uri": "https://localhost:8080/"
        }
      },
      "source": [
        "#pring matrix\n",
        "model_matrix"
      ],
      "execution_count": 73,
      "outputs": [
        {
          "output_type": "execute_result",
          "data": {
            "text/plain": [
              "[['Simple SGD DN', 0.8065555691719055],\n",
              " ['SGD DN With Bacth Normalization', 0.8523333072662354],\n",
              " ['SGD DN with momemtum', 0.8673333525657654],\n",
              " ['Adam DN', 0.8740000128746033],\n",
              " ['Adam DN Dropout', 0.8814444541931152],\n",
              " ['leaky relu DNN', 0.8686666488647461]]"
            ]
          },
          "metadata": {
            "tags": []
          },
          "execution_count": 73
        }
      ]
    },
    {
      "cell_type": "markdown",
      "metadata": {
        "id": "AleOuycqc_1s"
      },
      "source": [
        "###Conclusion"
      ]
    },
    {
      "cell_type": "markdown",
      "metadata": {
        "id": "idAwe025k6pz"
      },
      "source": [
        "1. As we can see in matrix , best accuracy has been achieved using Adam Optimizer.\n",
        "2. low learning rate 0.0001 is making model is very slow to learn.\n",
        "3. Batch normalization tend to normalize hidden layer weights to close mean 0 and variance 1. So wights value tend to keep in range . So it makes model to learn fast. As we can see without batch normalization , model are very slow to learn. "
      ]
    },
    {
      "cell_type": "markdown",
      "metadata": {
        "id": "6dR6a5xYcmux"
      },
      "source": [
        "### Predict the Result :"
      ]
    },
    {
      "cell_type": "markdown",
      "metadata": {
        "id": "SJtEYW60kYAr"
      },
      "source": [
        "##### Image-1"
      ]
    },
    {
      "cell_type": "code",
      "metadata": {
        "id": "dTRTrG1TcvlN",
        "outputId": "2d9e625a-4357-458d-ad4c-be857a3d28ec",
        "colab": {
          "base_uri": "https://localhost:8080/"
        }
      },
      "source": [
        "#Predicting the digits\n",
        "model5.predict_classes(testX[10].reshape(1,1024))"
      ],
      "execution_count": 79,
      "outputs": [
        {
          "output_type": "execute_result",
          "data": {
            "text/plain": [
              "array([8])"
            ]
          },
          "metadata": {
            "tags": []
          },
          "execution_count": 79
        }
      ]
    },
    {
      "cell_type": "code",
      "metadata": {
        "id": "bA4Aed6YkFE2",
        "outputId": "59a5cd11-1ef6-4c42-9f53-cc490bdd9a29",
        "colab": {
          "base_uri": "https://localhost:8080/",
          "height": 283
        }
      },
      "source": [
        "#Showing the image\n",
        "plt.imshow(testX[10],cmap='gray')"
      ],
      "execution_count": 81,
      "outputs": [
        {
          "output_type": "execute_result",
          "data": {
            "text/plain": [
              "<matplotlib.image.AxesImage at 0x7f033d3ae940>"
            ]
          },
          "metadata": {
            "tags": []
          },
          "execution_count": 81
        },
        {
          "output_type": "display_data",
          "data": {
            "image/png": "[encoded data removed]",
            "text/plain": [
              "<Figure size 432x288 with 1 Axes>"
            ]
          },
          "metadata": {
            "tags": [],
            "needs_background": "light"
          }
        }
      ]
    },
    {
      "cell_type": "markdown",
      "metadata": {
        "id": "nWsIWn-4ke9O"
      },
      "source": [
        "Image-2"
      ]
    },
    {
      "cell_type": "code",
      "metadata": {
        "id": "aAz9Y-RXkhT9",
        "outputId": "218a6e1f-9d22-494c-9bc0-78340e43f82f",
        "colab": {
          "base_uri": "https://localhost:8080/"
        }
      },
      "source": [
        "#Predicting the digits\n",
        "model5.predict_classes(testX[14].reshape(1,1024))"
      ],
      "execution_count": 82,
      "outputs": [
        {
          "output_type": "execute_result",
          "data": {
            "text/plain": [
              "array([3])"
            ]
          },
          "metadata": {
            "tags": []
          },
          "execution_count": 82
        }
      ]
    },
    {
      "cell_type": "code",
      "metadata": {
        "id": "IOvPrWA0kmTn",
        "outputId": "1703e3d3-4ce8-407a-9d9a-6548f63916f6",
        "colab": {
          "base_uri": "https://localhost:8080/",
          "height": 283
        }
      },
      "source": [
        "#Showing the image\n",
        "plt.imshow(testX[14],cmap='gray')"
      ],
      "execution_count": 83,
      "outputs": [
        {
          "output_type": "execute_result",
          "data": {
            "text/plain": [
              "<matplotlib.image.AxesImage at 0x7f033cf032b0>"
            ]
          },
          "metadata": {
            "tags": []
          },
          "execution_count": 83
        },
        {
          "output_type": "display_data",
          "data": {
            "image/png": "[encoded data removed]",
            "text/plain": [
              "<Figure size 432x288 with 1 Axes>"
            ]
          },
          "metadata": {
            "tags": [],
            "needs_background": "light"
          }
        }
      ]
    }
  ]
}