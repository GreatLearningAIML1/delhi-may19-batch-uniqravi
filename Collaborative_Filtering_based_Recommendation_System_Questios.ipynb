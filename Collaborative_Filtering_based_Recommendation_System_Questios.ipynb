{
  "nbformat": 4,
  "nbformat_minor": 0,
  "metadata": {
    "kernelspec": {
      "display_name": "Python 3",
      "language": "python",
      "name": "python3"
    },
    "language_info": {
      "codemirror_mode": {
        "name": "ipython",
        "version": 3
      },
      "file_extension": ".py",
      "mimetype": "text/x-python",
      "name": "python",
      "nbconvert_exporter": "python",
      "pygments_lexer": "ipython3",
      "version": "3.6.4"
    },
    "colab": {
      "name": "Collaborative Filtering based Recommendation System_Questios.ipynb",
      "provenance": [],
      "collapsed_sections": [
        "drCSgKmQ46aA",
        "Nn7QQUmM46aX"
      ]
    }
  },
  "cells": [
    {
      "cell_type": "markdown",
      "metadata": {
        "id": "UF1dRr7i46U0",
        "colab_type": "text"
      },
      "source": [
        "**About Book Crossing Dataset**<br>\n",
        "\n",
        "This dataset has been compiled by Cai-Nicolas Ziegler in 2004, and it comprises of three tables for users, books and ratings. Explicit ratings are expressed on a scale from 1-10 (higher values denoting higher appreciation) and implicit rating is expressed by 0."
      ]
    },
    {
      "cell_type": "markdown",
      "metadata": {
        "id": "rtwOl6Ez46U7",
        "colab_type": "text"
      },
      "source": [
        "Reference: http://www2.informatik.uni-freiburg.de/~cziegler/BX/ "
      ]
    },
    {
      "cell_type": "markdown",
      "metadata": {
        "id": "eVBX-3Ac46VE",
        "colab_type": "text"
      },
      "source": [
        "**Objective**\n",
        "\n",
        "This project entails building a Book Recommender System for users based on user-based and item-based collaborative filtering approaches."
      ]
    },
    {
      "cell_type": "code",
      "metadata": {
        "id": "qKjmPWz0sgMo",
        "colab_type": "code",
        "colab": {}
      },
      "source": [
        "! pip install surprise"
      ],
      "execution_count": 0,
      "outputs": []
    },
    {
      "cell_type": "code",
      "metadata": {
        "id": "Nio9jx-EIebS",
        "colab_type": "code",
        "colab": {
          "base_uri": "https://localhost:8080/",
          "height": 35
        },
        "outputId": "69590f8b-b084-4654-807f-e23d51e10daa"
      },
      "source": [
        "import pandas as pd\n",
        "import numpy as np\n",
        "from google.colab import drive\n",
        "drive.mount('/content/drive')"
      ],
      "execution_count": 65,
      "outputs": [
        {
          "output_type": "stream",
          "text": [
            "Drive already mounted at /content/drive; to attempt to forcibly remount, call drive.mount(\"/content/drive\", force_remount=True).\n"
          ],
          "name": "stdout"
        }
      ]
    },
    {
      "cell_type": "markdown",
      "metadata": {
        "id": "RwFEDD6l46VJ",
        "colab_type": "text"
      },
      "source": [
        "#### Execute the below cell to load the datasets"
      ]
    },
    {
      "cell_type": "code",
      "metadata": {
        "id": "zBXLWQ60Iy4W",
        "colab_type": "code",
        "colab": {}
      },
      "source": [
        "books = pd.read_csv(\"/content/drive/My Drive/AI_ML_CLass/Assignments/external/books.csv\", sep=\";\", error_bad_lines=False, encoding=\"latin-1\")\n",
        "books.columns = ['ISBN', 'bookTitle', 'bookAuthor', 'yearOfPublication', 'publisher', 'imageUrlS', 'imageUrlM', 'imageUrlL']"
      ],
      "execution_count": 0,
      "outputs": []
    },
    {
      "cell_type": "code",
      "metadata": {
        "scrolled": true,
        "id": "c2U66Agz46VO",
        "colab_type": "code",
        "colab": {}
      },
      "source": [
        "users = pd.read_csv('/content/drive/My Drive/AI_ML_CLass/Assignments/external/users.csv', sep=';', error_bad_lines=False, encoding=\"latin-1\")\n",
        "users.columns = ['userID', 'Location', 'Age']"
      ],
      "execution_count": 0,
      "outputs": []
    },
    {
      "cell_type": "code",
      "metadata": {
        "id": "0Cm3_j8HJvW8",
        "colab_type": "code",
        "colab": {}
      },
      "source": [
        "ratings = pd.read_csv('/content/drive/My Drive/AI_ML_CLass/Assignments/external/ratings.csv', sep=';', error_bad_lines=False, encoding=\"latin-1\")\n",
        "ratings.columns = ['userID', 'ISBN', 'bookRating']"
      ],
      "execution_count": 0,
      "outputs": []
    },
    {
      "cell_type": "markdown",
      "metadata": {
        "id": "vIphCBO546Vp",
        "colab_type": "text"
      },
      "source": [
        "### Check no.of records and features given in each dataset"
      ]
    },
    {
      "cell_type": "code",
      "metadata": {
        "id": "DdHm0wHu46Vv",
        "colab_type": "code",
        "colab": {
          "base_uri": "https://localhost:8080/",
          "height": 35
        },
        "outputId": "097ac769-c0a5-4580-ebaf-3f5704401c9e"
      },
      "source": [
        "books.shape"
      ],
      "execution_count": 10,
      "outputs": [
        {
          "output_type": "execute_result",
          "data": {
            "text/plain": [
              "(271360, 8)"
            ]
          },
          "metadata": {
            "tags": []
          },
          "execution_count": 10
        }
      ]
    },
    {
      "cell_type": "code",
      "metadata": {
        "id": "Qq9Vzu-i46V7",
        "colab_type": "code",
        "colab": {
          "base_uri": "https://localhost:8080/",
          "height": 35
        },
        "outputId": "905f04b7-5e99-400f-cc4b-3cd6a4ee70aa"
      },
      "source": [
        "users.shape"
      ],
      "execution_count": 11,
      "outputs": [
        {
          "output_type": "execute_result",
          "data": {
            "text/plain": [
              "(278858, 3)"
            ]
          },
          "metadata": {
            "tags": []
          },
          "execution_count": 11
        }
      ]
    },
    {
      "cell_type": "code",
      "metadata": {
        "id": "3EcGaQM946WG",
        "colab_type": "code",
        "colab": {
          "base_uri": "https://localhost:8080/",
          "height": 35
        },
        "outputId": "518461b5-08d3-4506-e10a-0e7d05acf720"
      },
      "source": [
        "ratings.shape"
      ],
      "execution_count": 12,
      "outputs": [
        {
          "output_type": "execute_result",
          "data": {
            "text/plain": [
              "(1149780, 3)"
            ]
          },
          "metadata": {
            "tags": []
          },
          "execution_count": 12
        }
      ]
    },
    {
      "cell_type": "markdown",
      "metadata": {
        "id": "0LM4lUtF46WN",
        "colab_type": "text"
      },
      "source": [
        "## Exploring books dataset"
      ]
    },
    {
      "cell_type": "code",
      "metadata": {
        "scrolled": false,
        "id": "-6Bal_iC46WR",
        "colab_type": "code",
        "colab": {
          "base_uri": "https://localhost:8080/",
          "height": 328
        },
        "outputId": "5899b40b-aac0-4d82-c183-35cbff8db89e"
      },
      "source": [
        "books.head()"
      ],
      "execution_count": 13,
      "outputs": [
        {
          "output_type": "execute_result",
          "data": {
            "text/html": [
              "<div>\n",
              "<style scoped>\n",
              "    .dataframe tbody tr th:only-of-type {\n",
              "        vertical-align: middle;\n",
              "    }\n",
              "\n",
              "    .dataframe tbody tr th {\n",
              "        vertical-align: top;\n",
              "    }\n",
              "\n",
              "    .dataframe thead th {\n",
              "        text-align: right;\n",
              "    }\n",
              "</style>\n",
              "<table border=\"1\" class=\"dataframe\">\n",
              "  <thead>\n",
              "    <tr style=\"text-align: right;\">\n",
              "      <th></th>\n",
              "      <th>ISBN</th>\n",
              "      <th>bookTitle</th>\n",
              "      <th>bookAuthor</th>\n",
              "      <th>yearOfPublication</th>\n",
              "      <th>publisher</th>\n",
              "      <th>imageUrlS</th>\n",
              "      <th>imageUrlM</th>\n",
              "      <th>imageUrlL</th>\n",
              "    </tr>\n",
              "  </thead>\n",
              "  <tbody>\n",
              "    <tr>\n",
              "      <th>0</th>\n",
              "      <td>0195153448</td>\n",
              "      <td>Classical Mythology</td>\n",
              "      <td>Mark P. O. Morford</td>\n",
              "      <td>2002</td>\n",
              "      <td>Oxford University Press</td>\n",
              "      <td>http://images.amazon.com/images/P/0195153448.0...</td>\n",
              "      <td>http://images.amazon.com/images/P/0195153448.0...</td>\n",
              "      <td>http://images.amazon.com/images/P/0195153448.0...</td>\n",
              "    </tr>\n",
              "    <tr>\n",
              "      <th>1</th>\n",
              "      <td>0002005018</td>\n",
              "      <td>Clara Callan</td>\n",
              "      <td>Richard Bruce Wright</td>\n",
              "      <td>2001</td>\n",
              "      <td>HarperFlamingo Canada</td>\n",
              "      <td>http://images.amazon.com/images/P/0002005018.0...</td>\n",
              "      <td>http://images.amazon.com/images/P/0002005018.0...</td>\n",
              "      <td>http://images.amazon.com/images/P/0002005018.0...</td>\n",
              "    </tr>\n",
              "    <tr>\n",
              "      <th>2</th>\n",
              "      <td>0060973129</td>\n",
              "      <td>Decision in Normandy</td>\n",
              "      <td>Carlo D'Este</td>\n",
              "      <td>1991</td>\n",
              "      <td>HarperPerennial</td>\n",
              "      <td>http://images.amazon.com/images/P/0060973129.0...</td>\n",
              "      <td>http://images.amazon.com/images/P/0060973129.0...</td>\n",
              "      <td>http://images.amazon.com/images/P/0060973129.0...</td>\n",
              "    </tr>\n",
              "    <tr>\n",
              "      <th>3</th>\n",
              "      <td>0374157065</td>\n",
              "      <td>Flu: The Story of the Great Influenza Pandemic...</td>\n",
              "      <td>Gina Bari Kolata</td>\n",
              "      <td>1999</td>\n",
              "      <td>Farrar Straus Giroux</td>\n",
              "      <td>http://images.amazon.com/images/P/0374157065.0...</td>\n",
              "      <td>http://images.amazon.com/images/P/0374157065.0...</td>\n",
              "      <td>http://images.amazon.com/images/P/0374157065.0...</td>\n",
              "    </tr>\n",
              "    <tr>\n",
              "      <th>4</th>\n",
              "      <td>0393045218</td>\n",
              "      <td>The Mummies of Urumchi</td>\n",
              "      <td>E. J. W. Barber</td>\n",
              "      <td>1999</td>\n",
              "      <td>W. W. Norton &amp;amp; Company</td>\n",
              "      <td>http://images.amazon.com/images/P/0393045218.0...</td>\n",
              "      <td>http://images.amazon.com/images/P/0393045218.0...</td>\n",
              "      <td>http://images.amazon.com/images/P/0393045218.0...</td>\n",
              "    </tr>\n",
              "  </tbody>\n",
              "</table>\n",
              "</div>"
            ],
            "text/plain": [
              "         ISBN  ...                                          imageUrlL\n",
              "0  0195153448  ...  http://images.amazon.com/images/P/0195153448.0...\n",
              "1  0002005018  ...  http://images.amazon.com/images/P/0002005018.0...\n",
              "2  0060973129  ...  http://images.amazon.com/images/P/0060973129.0...\n",
              "3  0374157065  ...  http://images.amazon.com/images/P/0374157065.0...\n",
              "4  0393045218  ...  http://images.amazon.com/images/P/0393045218.0...\n",
              "\n",
              "[5 rows x 8 columns]"
            ]
          },
          "metadata": {
            "tags": []
          },
          "execution_count": 13
        }
      ]
    },
    {
      "cell_type": "markdown",
      "metadata": {
        "id": "zk-WHeZr46Wc",
        "colab_type": "text"
      },
      "source": [
        "### Drop last three columns containing image URLs which will not be required for analysis"
      ]
    },
    {
      "cell_type": "code",
      "metadata": {
        "id": "nxSuVYQd46Wg",
        "colab_type": "code",
        "colab": {}
      },
      "source": [
        "books=books.drop(columns=['imageUrlS','imageUrlM','imageUrlL'])"
      ],
      "execution_count": 0,
      "outputs": []
    },
    {
      "cell_type": "code",
      "metadata": {
        "scrolled": true,
        "id": "1sT_K4Lj46Wq",
        "colab_type": "code",
        "colab": {
          "base_uri": "https://localhost:8080/",
          "height": 206
        },
        "outputId": "aabbc38c-3271-4ad3-9b46-b66d7e6960fd"
      },
      "source": [
        "books.head()"
      ],
      "execution_count": 15,
      "outputs": [
        {
          "output_type": "execute_result",
          "data": {
            "text/html": [
              "<div>\n",
              "<style scoped>\n",
              "    .dataframe tbody tr th:only-of-type {\n",
              "        vertical-align: middle;\n",
              "    }\n",
              "\n",
              "    .dataframe tbody tr th {\n",
              "        vertical-align: top;\n",
              "    }\n",
              "\n",
              "    .dataframe thead th {\n",
              "        text-align: right;\n",
              "    }\n",
              "</style>\n",
              "<table border=\"1\" class=\"dataframe\">\n",
              "  <thead>\n",
              "    <tr style=\"text-align: right;\">\n",
              "      <th></th>\n",
              "      <th>ISBN</th>\n",
              "      <th>bookTitle</th>\n",
              "      <th>bookAuthor</th>\n",
              "      <th>yearOfPublication</th>\n",
              "      <th>publisher</th>\n",
              "    </tr>\n",
              "  </thead>\n",
              "  <tbody>\n",
              "    <tr>\n",
              "      <th>0</th>\n",
              "      <td>0195153448</td>\n",
              "      <td>Classical Mythology</td>\n",
              "      <td>Mark P. O. Morford</td>\n",
              "      <td>2002</td>\n",
              "      <td>Oxford University Press</td>\n",
              "    </tr>\n",
              "    <tr>\n",
              "      <th>1</th>\n",
              "      <td>0002005018</td>\n",
              "      <td>Clara Callan</td>\n",
              "      <td>Richard Bruce Wright</td>\n",
              "      <td>2001</td>\n",
              "      <td>HarperFlamingo Canada</td>\n",
              "    </tr>\n",
              "    <tr>\n",
              "      <th>2</th>\n",
              "      <td>0060973129</td>\n",
              "      <td>Decision in Normandy</td>\n",
              "      <td>Carlo D'Este</td>\n",
              "      <td>1991</td>\n",
              "      <td>HarperPerennial</td>\n",
              "    </tr>\n",
              "    <tr>\n",
              "      <th>3</th>\n",
              "      <td>0374157065</td>\n",
              "      <td>Flu: The Story of the Great Influenza Pandemic...</td>\n",
              "      <td>Gina Bari Kolata</td>\n",
              "      <td>1999</td>\n",
              "      <td>Farrar Straus Giroux</td>\n",
              "    </tr>\n",
              "    <tr>\n",
              "      <th>4</th>\n",
              "      <td>0393045218</td>\n",
              "      <td>The Mummies of Urumchi</td>\n",
              "      <td>E. J. W. Barber</td>\n",
              "      <td>1999</td>\n",
              "      <td>W. W. Norton &amp;amp; Company</td>\n",
              "    </tr>\n",
              "  </tbody>\n",
              "</table>\n",
              "</div>"
            ],
            "text/plain": [
              "         ISBN  ...                   publisher\n",
              "0  0195153448  ...     Oxford University Press\n",
              "1  0002005018  ...       HarperFlamingo Canada\n",
              "2  0060973129  ...             HarperPerennial\n",
              "3  0374157065  ...        Farrar Straus Giroux\n",
              "4  0393045218  ...  W. W. Norton &amp; Company\n",
              "\n",
              "[5 rows x 5 columns]"
            ]
          },
          "metadata": {
            "tags": []
          },
          "execution_count": 15
        }
      ]
    },
    {
      "cell_type": "markdown",
      "metadata": {
        "id": "T6Y1xpar46Wx",
        "colab_type": "text"
      },
      "source": [
        "**yearOfPublication**"
      ]
    },
    {
      "cell_type": "markdown",
      "metadata": {
        "id": "Xscc8NnP46W5",
        "colab_type": "text"
      },
      "source": [
        "### Check unique values of yearOfPublication\n"
      ]
    },
    {
      "cell_type": "code",
      "metadata": {
        "id": "AsO_S7aM46W7",
        "colab_type": "code",
        "colab": {
          "base_uri": "https://localhost:8080/",
          "height": 439
        },
        "outputId": "54d2cf63-dc00-4b8e-d4a2-6758b0b76a21"
      },
      "source": [
        "books.yearOfPublication.unique()"
      ],
      "execution_count": 18,
      "outputs": [
        {
          "output_type": "execute_result",
          "data": {
            "text/plain": [
              "array([2002, 2001, 1991, 1999, 2000, 1993, 1996, 1988, 2004, 1998, 1994,\n",
              "       2003, 1997, 1983, 1979, 1995, 1982, 1985, 1992, 1986, 1978, 1980,\n",
              "       1952, 1987, 1990, 1981, 1989, 1984, 0, 1968, 1961, 1958, 1974,\n",
              "       1976, 1971, 1977, 1975, 1965, 1941, 1970, 1962, 1973, 1972, 1960,\n",
              "       1966, 1920, 1956, 1959, 1953, 1951, 1942, 1963, 1964, 1969, 1954,\n",
              "       1950, 1967, 2005, 1957, 1940, 1937, 1955, 1946, 1936, 1930, 2011,\n",
              "       1925, 1948, 1943, 1947, 1945, 1923, 2020, 1939, 1926, 1938, 2030,\n",
              "       1911, 1904, 1949, 1932, 1928, 1929, 1927, 1931, 1914, 2050, 1934,\n",
              "       1910, 1933, 1902, 1924, 1921, 1900, 2038, 2026, 1944, 1917, 1901,\n",
              "       2010, 1908, 1906, 1935, 1806, 2021, '2000', '1995', '1999', '2004',\n",
              "       '2003', '1990', '1994', '1986', '1989', '2002', '1981', '1993',\n",
              "       '1983', '1982', '1976', '1991', '1977', '1998', '1992', '1996',\n",
              "       '0', '1997', '2001', '1974', '1968', '1987', '1984', '1988',\n",
              "       '1963', '1956', '1970', '1985', '1978', '1973', '1980', '1979',\n",
              "       '1975', '1969', '1961', '1965', '1939', '1958', '1950', '1953',\n",
              "       '1966', '1971', '1959', '1972', '1955', '1957', '1945', '1960',\n",
              "       '1967', '1932', '1924', '1964', '2012', '1911', '1927', '1948',\n",
              "       '1962', '2006', '1952', '1940', '1951', '1931', '1954', '2005',\n",
              "       '1930', '1941', '1944', 'DK Publishing Inc', '1943', '1938',\n",
              "       '1900', '1942', '1923', '1920', '1933', 'Gallimard', '1909',\n",
              "       '1946', '2008', '1378', '2030', '1936', '1947', '2011', '2020',\n",
              "       '1919', '1949', '1922', '1897', '2024', '1376', '1926', '2037'],\n",
              "      dtype=object)"
            ]
          },
          "metadata": {
            "tags": []
          },
          "execution_count": 18
        }
      ]
    },
    {
      "cell_type": "markdown",
      "metadata": {
        "id": "uSxwARMw46XE",
        "colab_type": "text"
      },
      "source": [
        "As it can be seen from above that there are some incorrect entries in this field. It looks like Publisher names 'DK Publishing Inc' and 'Gallimard' have been incorrectly loaded as yearOfPublication in dataset due to some errors in csv file.\n",
        "\n",
        "\n",
        "Also some of the entries are strings and same years have been entered as numbers in some places. We will try to fix these things in the coming questions."
      ]
    },
    {
      "cell_type": "markdown",
      "metadata": {
        "id": "LsyzFUyD46XI",
        "colab_type": "text"
      },
      "source": [
        "### Check the rows having 'DK Publishing Inc' as yearOfPublication"
      ]
    },
    {
      "cell_type": "code",
      "metadata": {
        "id": "xOL0bfE746XL",
        "colab_type": "code",
        "colab": {
          "base_uri": "https://localhost:8080/",
          "height": 112
        },
        "outputId": "07809cd9-f56e-4a4c-a4b2-e9f493d978d3"
      },
      "source": [
        "books[books.yearOfPublication=='DK Publishing Inc']"
      ],
      "execution_count": 24,
      "outputs": [
        {
          "output_type": "execute_result",
          "data": {
            "text/html": [
              "<div>\n",
              "<style scoped>\n",
              "    .dataframe tbody tr th:only-of-type {\n",
              "        vertical-align: middle;\n",
              "    }\n",
              "\n",
              "    .dataframe tbody tr th {\n",
              "        vertical-align: top;\n",
              "    }\n",
              "\n",
              "    .dataframe thead th {\n",
              "        text-align: right;\n",
              "    }\n",
              "</style>\n",
              "<table border=\"1\" class=\"dataframe\">\n",
              "  <thead>\n",
              "    <tr style=\"text-align: right;\">\n",
              "      <th></th>\n",
              "      <th>ISBN</th>\n",
              "      <th>bookTitle</th>\n",
              "      <th>bookAuthor</th>\n",
              "      <th>yearOfPublication</th>\n",
              "      <th>publisher</th>\n",
              "    </tr>\n",
              "  </thead>\n",
              "  <tbody>\n",
              "    <tr>\n",
              "      <th>209538</th>\n",
              "      <td>078946697X</td>\n",
              "      <td>DK Readers: Creating the X-Men, How It All Beg...</td>\n",
              "      <td>2000</td>\n",
              "      <td>DK Publishing Inc</td>\n",
              "      <td>http://images.amazon.com/images/P/078946697X.0...</td>\n",
              "    </tr>\n",
              "    <tr>\n",
              "      <th>221678</th>\n",
              "      <td>0789466953</td>\n",
              "      <td>DK Readers: Creating the X-Men, How Comic Book...</td>\n",
              "      <td>2000</td>\n",
              "      <td>DK Publishing Inc</td>\n",
              "      <td>http://images.amazon.com/images/P/0789466953.0...</td>\n",
              "    </tr>\n",
              "  </tbody>\n",
              "</table>\n",
              "</div>"
            ],
            "text/plain": [
              "              ISBN  ...                                          publisher\n",
              "209538  078946697X  ...  http://images.amazon.com/images/P/078946697X.0...\n",
              "221678  0789466953  ...  http://images.amazon.com/images/P/0789466953.0...\n",
              "\n",
              "[2 rows x 5 columns]"
            ]
          },
          "metadata": {
            "tags": []
          },
          "execution_count": 24
        }
      ]
    },
    {
      "cell_type": "markdown",
      "metadata": {
        "id": "unhPa3w346XR",
        "colab_type": "text"
      },
      "source": [
        "### Drop the rows having `'DK Publishing Inc'` and `'Gallimard'` as `yearOfPublication`"
      ]
    },
    {
      "cell_type": "code",
      "metadata": {
        "id": "-flqhGN746XT",
        "colab_type": "code",
        "colab": {}
      },
      "source": [
        "books=books.drop(index=books[books.yearOfPublication=='DK Publishing Inc'].index,axis=1) # books[books.yearOfPublication=='DK Publishing Inc']"
      ],
      "execution_count": 0,
      "outputs": []
    },
    {
      "cell_type": "code",
      "metadata": {
        "id": "BPCztog4W49w",
        "colab_type": "code",
        "colab": {}
      },
      "source": [
        "books=books.drop(index=books[books.yearOfPublication=='Gallimard'].index,axis=1)"
      ],
      "execution_count": 0,
      "outputs": []
    },
    {
      "cell_type": "markdown",
      "metadata": {
        "id": "RZhRCwtd46Xb",
        "colab_type": "text"
      },
      "source": [
        "### Change the datatype of yearOfPublication to 'int'"
      ]
    },
    {
      "cell_type": "code",
      "metadata": {
        "id": "3n-9mq5J46Xe",
        "colab_type": "code",
        "colab": {}
      },
      "source": [
        "#books=books.yearOfPublication.astype('int32')\n",
        "books = books.astype({\"yearOfPublication\": 'int32'})"
      ],
      "execution_count": 0,
      "outputs": []
    },
    {
      "cell_type": "code",
      "metadata": {
        "id": "5TDy5dJi46Xq",
        "colab_type": "code",
        "colab": {
          "base_uri": "https://localhost:8080/",
          "height": 127
        },
        "outputId": "52debb85-a092-4f73-e1fd-7c529cd34fe1"
      },
      "source": [
        "books.dtypes"
      ],
      "execution_count": 48,
      "outputs": [
        {
          "output_type": "execute_result",
          "data": {
            "text/plain": [
              "ISBN                 object\n",
              "bookTitle            object\n",
              "bookAuthor           object\n",
              "yearOfPublication     int32\n",
              "publisher            object\n",
              "dtype: object"
            ]
          },
          "metadata": {
            "tags": []
          },
          "execution_count": 48
        }
      ]
    },
    {
      "cell_type": "markdown",
      "metadata": {
        "id": "xGoYnlTP46Xy",
        "colab_type": "text"
      },
      "source": [
        "### Drop NaNs in `'publisher'` column\n"
      ]
    },
    {
      "cell_type": "code",
      "metadata": {
        "id": "a-uBUKUa46X0",
        "colab_type": "code",
        "colab": {}
      },
      "source": [
        "books.yearOfPublication.dropna(inplace=True)"
      ],
      "execution_count": 0,
      "outputs": []
    },
    {
      "cell_type": "markdown",
      "metadata": {
        "id": "PkTpHD0o46X_",
        "colab_type": "text"
      },
      "source": [
        "## Exploring Users dataset"
      ]
    },
    {
      "cell_type": "code",
      "metadata": {
        "id": "h560Bb0Ug996",
        "colab_type": "code",
        "colab": {
          "base_uri": "https://localhost:8080/",
          "height": 90
        },
        "outputId": "56a193ae-0f99-48c7-841a-f401c2319ddd"
      },
      "source": [
        "users.dtypes"
      ],
      "execution_count": 80,
      "outputs": [
        {
          "output_type": "execute_result",
          "data": {
            "text/plain": [
              "userID       int64\n",
              "Location    object\n",
              "Age          int32\n",
              "dtype: object"
            ]
          },
          "metadata": {
            "tags": []
          },
          "execution_count": 80
        }
      ]
    },
    {
      "cell_type": "code",
      "metadata": {
        "scrolled": true,
        "id": "z1u9cr7s46YC",
        "colab_type": "code",
        "colab": {
          "base_uri": "https://localhost:8080/",
          "height": 225
        },
        "outputId": "a8c25484-6fde-44bf-d2dc-2f0440d9d8a3"
      },
      "source": [
        "print(users.shape)\n",
        "users.head()"
      ],
      "execution_count": 50,
      "outputs": [
        {
          "output_type": "stream",
          "text": [
            "(278858, 3)\n"
          ],
          "name": "stdout"
        },
        {
          "output_type": "execute_result",
          "data": {
            "text/html": [
              "<div>\n",
              "<style scoped>\n",
              "    .dataframe tbody tr th:only-of-type {\n",
              "        vertical-align: middle;\n",
              "    }\n",
              "\n",
              "    .dataframe tbody tr th {\n",
              "        vertical-align: top;\n",
              "    }\n",
              "\n",
              "    .dataframe thead th {\n",
              "        text-align: right;\n",
              "    }\n",
              "</style>\n",
              "<table border=\"1\" class=\"dataframe\">\n",
              "  <thead>\n",
              "    <tr style=\"text-align: right;\">\n",
              "      <th></th>\n",
              "      <th>userID</th>\n",
              "      <th>Location</th>\n",
              "      <th>Age</th>\n",
              "    </tr>\n",
              "  </thead>\n",
              "  <tbody>\n",
              "    <tr>\n",
              "      <th>0</th>\n",
              "      <td>1</td>\n",
              "      <td>nyc, new york, usa</td>\n",
              "      <td>NaN</td>\n",
              "    </tr>\n",
              "    <tr>\n",
              "      <th>1</th>\n",
              "      <td>2</td>\n",
              "      <td>stockton, california, usa</td>\n",
              "      <td>18.0</td>\n",
              "    </tr>\n",
              "    <tr>\n",
              "      <th>2</th>\n",
              "      <td>3</td>\n",
              "      <td>moscow, yukon territory, russia</td>\n",
              "      <td>NaN</td>\n",
              "    </tr>\n",
              "    <tr>\n",
              "      <th>3</th>\n",
              "      <td>4</td>\n",
              "      <td>porto, v.n.gaia, portugal</td>\n",
              "      <td>17.0</td>\n",
              "    </tr>\n",
              "    <tr>\n",
              "      <th>4</th>\n",
              "      <td>5</td>\n",
              "      <td>farnborough, hants, united kingdom</td>\n",
              "      <td>NaN</td>\n",
              "    </tr>\n",
              "  </tbody>\n",
              "</table>\n",
              "</div>"
            ],
            "text/plain": [
              "   userID                            Location   Age\n",
              "0       1                  nyc, new york, usa   NaN\n",
              "1       2           stockton, california, usa  18.0\n",
              "2       3     moscow, yukon territory, russia   NaN\n",
              "3       4           porto, v.n.gaia, portugal  17.0\n",
              "4       5  farnborough, hants, united kingdom   NaN"
            ]
          },
          "metadata": {
            "tags": []
          },
          "execution_count": 50
        }
      ]
    },
    {
      "cell_type": "markdown",
      "metadata": {
        "id": "6Si9vvZj46YJ",
        "colab_type": "text"
      },
      "source": [
        "### Get all unique values in ascending order for column `Age`"
      ]
    },
    {
      "cell_type": "code",
      "metadata": {
        "id": "1Rt9m3Be46YN",
        "colab_type": "code",
        "colab": {
          "base_uri": "https://localhost:8080/",
          "height": 311
        },
        "outputId": "c581e310-53cb-43ae-82b4-b2117df369df"
      },
      "source": [
        "users.Age.sort_values(ascending=True).unique()"
      ],
      "execution_count": 52,
      "outputs": [
        {
          "output_type": "execute_result",
          "data": {
            "text/plain": [
              "array([  0.,   1.,   2.,   3.,   4.,   5.,   6.,   7.,   8.,   9.,  10.,\n",
              "        11.,  12.,  13.,  14.,  15.,  16.,  17.,  18.,  19.,  20.,  21.,\n",
              "        22.,  23.,  24.,  25.,  26.,  27.,  28.,  29.,  30.,  31.,  32.,\n",
              "        33.,  34.,  35.,  36.,  37.,  38.,  39.,  40.,  41.,  42.,  43.,\n",
              "        44.,  45.,  46.,  47.,  48.,  49.,  50.,  51.,  52.,  53.,  54.,\n",
              "        55.,  56.,  57.,  58.,  59.,  60.,  61.,  62.,  63.,  64.,  65.,\n",
              "        66.,  67.,  68.,  69.,  70.,  71.,  72.,  73.,  74.,  75.,  76.,\n",
              "        77.,  78.,  79.,  80.,  81.,  82.,  83.,  84.,  85.,  86.,  87.,\n",
              "        88.,  89.,  90.,  91.,  92.,  93.,  94.,  95.,  96.,  97.,  98.,\n",
              "        99., 100., 101., 102., 103., 104., 105., 106., 107., 108., 109.,\n",
              "       110., 111., 113., 114., 115., 116., 118., 119., 123., 124., 127.,\n",
              "       128., 132., 133., 136., 137., 138., 140., 141., 143., 146., 147.,\n",
              "       148., 151., 152., 156., 157., 159., 162., 168., 172., 175., 183.,\n",
              "       186., 189., 199., 200., 201., 204., 207., 208., 209., 210., 212.,\n",
              "       219., 220., 223., 226., 228., 229., 230., 231., 237., 239., 244.,\n",
              "        nan])"
            ]
          },
          "metadata": {
            "tags": []
          },
          "execution_count": 52
        }
      ]
    },
    {
      "cell_type": "markdown",
      "metadata": {
        "id": "8wMbR2YQ46YU",
        "colab_type": "text"
      },
      "source": [
        "Age column has some invalid entries like nan, 0 and very high values like 100 and above"
      ]
    },
    {
      "cell_type": "markdown",
      "metadata": {
        "id": "1FYPwL5g46Yk",
        "colab_type": "text"
      },
      "source": [
        "### Values below 5 and above 90 do not make much sense for our book rating case...hence replace these by NaNs"
      ]
    },
    {
      "cell_type": "code",
      "metadata": {
        "id": "sdkQIdu246Ym",
        "colab_type": "code",
        "colab": {}
      },
      "source": [
        "users.loc[(users.Age < 5) | (users.Age > 90),['Age']]=np.nan"
      ],
      "execution_count": 0,
      "outputs": []
    },
    {
      "cell_type": "markdown",
      "metadata": {
        "id": "KfZMpPKg46Yx",
        "colab_type": "text"
      },
      "source": [
        "### Replace null values in column `Age` with mean"
      ]
    },
    {
      "cell_type": "code",
      "metadata": {
        "id": "q6o2D42646Y0",
        "colab_type": "code",
        "colab": {}
      },
      "source": [
        "users.Age.fillna(users.Age.mean(),inplace=True)"
      ],
      "execution_count": 0,
      "outputs": []
    },
    {
      "cell_type": "markdown",
      "metadata": {
        "id": "5nyL-QQE46Y7",
        "colab_type": "text"
      },
      "source": [
        "### Change the datatype of `Age` to `int`"
      ]
    },
    {
      "cell_type": "code",
      "metadata": {
        "id": "GaOKdu8m46Y9",
        "colab_type": "code",
        "colab": {}
      },
      "source": [
        "users = users.astype({\"Age\": 'int32'})"
      ],
      "execution_count": 0,
      "outputs": []
    },
    {
      "cell_type": "code",
      "metadata": {
        "scrolled": true,
        "id": "onTS1lYt46ZD",
        "colab_type": "code",
        "colab": {
          "base_uri": "https://localhost:8080/",
          "height": 55
        },
        "outputId": "722f4d8b-16b4-424f-f34a-b8cbfd8c0e30"
      },
      "source": [
        "print(sorted(users.Age.unique()))"
      ],
      "execution_count": 74,
      "outputs": [
        {
          "output_type": "stream",
          "text": [
            "[5, 6, 7, 8, 9, 10, 11, 12, 13, 14, 15, 16, 17, 18, 19, 20, 21, 22, 23, 24, 25, 26, 27, 28, 29, 30, 31, 32, 33, 34, 35, 36, 37, 38, 39, 40, 41, 42, 43, 44, 45, 46, 47, 48, 49, 50, 51, 52, 53, 54, 55, 56, 57, 58, 59, 60, 61, 62, 63, 64, 65, 66, 67, 68, 69, 70, 71, 72, 73, 74, 75, 76, 77, 78, 79, 80, 81, 82, 83, 84, 85, 86, 87, 88, 89, 90]\n"
          ],
          "name": "stdout"
        }
      ]
    },
    {
      "cell_type": "markdown",
      "metadata": {
        "id": "LKy3NorX46ZI",
        "colab_type": "text"
      },
      "source": [
        "## Exploring the Ratings Dataset"
      ]
    },
    {
      "cell_type": "code",
      "metadata": {
        "id": "T_2Yk7skhKY6",
        "colab_type": "code",
        "colab": {
          "base_uri": "https://localhost:8080/",
          "height": 90
        },
        "outputId": "1f56ed4a-a223-42e7-814a-7c5c7d121bdc"
      },
      "source": [
        "ratings.dtypes"
      ],
      "execution_count": 81,
      "outputs": [
        {
          "output_type": "execute_result",
          "data": {
            "text/plain": [
              "userID         int64\n",
              "ISBN          object\n",
              "bookRating     int64\n",
              "dtype: object"
            ]
          },
          "metadata": {
            "tags": []
          },
          "execution_count": 81
        }
      ]
    },
    {
      "cell_type": "markdown",
      "metadata": {
        "id": "vGL2efiA46ZN",
        "colab_type": "text"
      },
      "source": [
        "### check the shape"
      ]
    },
    {
      "cell_type": "code",
      "metadata": {
        "scrolled": true,
        "id": "3EtkLQ4y46ZO",
        "colab_type": "code",
        "colab": {
          "base_uri": "https://localhost:8080/",
          "height": 35
        },
        "outputId": "1bdc5ef8-0d0b-42bd-c74b-e241a8c3f40f"
      },
      "source": [
        "ratings.shape"
      ],
      "execution_count": 75,
      "outputs": [
        {
          "output_type": "execute_result",
          "data": {
            "text/plain": [
              "(1149780, 3)"
            ]
          },
          "metadata": {
            "tags": []
          },
          "execution_count": 75
        }
      ]
    },
    {
      "cell_type": "code",
      "metadata": {
        "id": "HO0rKp3T46ZT",
        "colab_type": "code",
        "colab": {}
      },
      "source": [
        "n_users = users.shape[0]\n",
        "n_books = books.shape[0]"
      ],
      "execution_count": 0,
      "outputs": []
    },
    {
      "cell_type": "code",
      "metadata": {
        "scrolled": true,
        "id": "EwQFAT6M46Zd",
        "colab_type": "code",
        "colab": {},
        "outputId": "34c2389c-577b-405a-c2af-31e0693d7850"
      },
      "source": [
        "ratings.head(5)"
      ],
      "execution_count": 0,
      "outputs": [
        {
          "output_type": "execute_result",
          "data": {
            "text/html": [
              "<div>\n",
              "<style scoped>\n",
              "    .dataframe tbody tr th:only-of-type {\n",
              "        vertical-align: middle;\n",
              "    }\n",
              "\n",
              "    .dataframe tbody tr th {\n",
              "        vertical-align: top;\n",
              "    }\n",
              "\n",
              "    .dataframe thead th {\n",
              "        text-align: right;\n",
              "    }\n",
              "</style>\n",
              "<table border=\"1\" class=\"dataframe\">\n",
              "  <thead>\n",
              "    <tr style=\"text-align: right;\">\n",
              "      <th></th>\n",
              "      <th>userID</th>\n",
              "      <th>ISBN</th>\n",
              "      <th>bookRating</th>\n",
              "    </tr>\n",
              "  </thead>\n",
              "  <tbody>\n",
              "    <tr>\n",
              "      <th>0</th>\n",
              "      <td>276725</td>\n",
              "      <td>034545104X</td>\n",
              "      <td>0</td>\n",
              "    </tr>\n",
              "    <tr>\n",
              "      <th>1</th>\n",
              "      <td>276726</td>\n",
              "      <td>0155061224</td>\n",
              "      <td>5</td>\n",
              "    </tr>\n",
              "    <tr>\n",
              "      <th>2</th>\n",
              "      <td>276727</td>\n",
              "      <td>0446520802</td>\n",
              "      <td>0</td>\n",
              "    </tr>\n",
              "    <tr>\n",
              "      <th>3</th>\n",
              "      <td>276729</td>\n",
              "      <td>052165615X</td>\n",
              "      <td>3</td>\n",
              "    </tr>\n",
              "    <tr>\n",
              "      <th>4</th>\n",
              "      <td>276729</td>\n",
              "      <td>0521795028</td>\n",
              "      <td>6</td>\n",
              "    </tr>\n",
              "  </tbody>\n",
              "</table>\n",
              "</div>"
            ],
            "text/plain": [
              "   userID        ISBN  bookRating\n",
              "0  276725  034545104X           0\n",
              "1  276726  0155061224           5\n",
              "2  276727  0446520802           0\n",
              "3  276729  052165615X           3\n",
              "4  276729  0521795028           6"
            ]
          },
          "metadata": {
            "tags": []
          },
          "execution_count": 29
        }
      ]
    },
    {
      "cell_type": "markdown",
      "metadata": {
        "id": "T2Z1FPfM46Zm",
        "colab_type": "text"
      },
      "source": [
        "### Ratings dataset should have books only which exist in our books dataset. Drop the remaining rows"
      ]
    },
    {
      "cell_type": "code",
      "metadata": {
        "id": "gSUL6DH8krW7",
        "colab_type": "code",
        "colab": {}
      },
      "source": [
        "ratings=ratings[ratings.ISBN.isin(books.ISBN)]"
      ],
      "execution_count": 0,
      "outputs": []
    },
    {
      "cell_type": "code",
      "metadata": {
        "id": "DQ3kwLgk46Zn",
        "colab_type": "code",
        "colab": {
          "base_uri": "https://localhost:8080/",
          "height": 35
        },
        "outputId": "c4bc1e9a-f371-4c53-96d7-2b98d9b7d09f"
      },
      "source": [
        "#ratings=ratings[~ratings.ISBN.isin(books.ISBN)].dropna()\n",
        "ratings.shape"
      ],
      "execution_count": 104,
      "outputs": [
        {
          "output_type": "execute_result",
          "data": {
            "text/plain": [
              "(1031132, 3)"
            ]
          },
          "metadata": {
            "tags": []
          },
          "execution_count": 104
        }
      ]
    },
    {
      "cell_type": "markdown",
      "metadata": {
        "id": "vOzB2tmK46Zu",
        "colab_type": "text"
      },
      "source": [
        "### Ratings dataset should have ratings from users which exist in users dataset. Drop the remaining rows"
      ]
    },
    {
      "cell_type": "code",
      "metadata": {
        "id": "voBi62F4kWBY",
        "colab_type": "code",
        "colab": {}
      },
      "source": [
        "ratings=ratings[ratings.userID.isin(users.userID)]"
      ],
      "execution_count": 0,
      "outputs": []
    },
    {
      "cell_type": "code",
      "metadata": {
        "id": "OU7muXrN46Zx",
        "colab_type": "code",
        "colab": {
          "base_uri": "https://localhost:8080/",
          "height": 35
        },
        "outputId": "27bb038a-8643-46e8-f750-6d953028d112"
      },
      "source": [
        "#ratings[~ratings.userID.isin(users.userID)].dropna()\n",
        "ratings.shape"
      ],
      "execution_count": 106,
      "outputs": [
        {
          "output_type": "execute_result",
          "data": {
            "text/plain": [
              "(1031132, 3)"
            ]
          },
          "metadata": {
            "tags": []
          },
          "execution_count": 106
        }
      ]
    },
    {
      "cell_type": "markdown",
      "metadata": {
        "id": "xaJInlS546Zz",
        "colab_type": "text"
      },
      "source": [
        "### Consider only ratings from 1-10 and leave 0s in column `bookRating`"
      ]
    },
    {
      "cell_type": "code",
      "metadata": {
        "id": "iKKrUL7P46Z1",
        "colab_type": "code",
        "colab": {}
      },
      "source": [
        "ratings=ratings[ratings.bookRating != 0]"
      ],
      "execution_count": 0,
      "outputs": []
    },
    {
      "cell_type": "markdown",
      "metadata": {
        "id": "RA_lYgXC46Z5",
        "colab_type": "text"
      },
      "source": [
        "### Find out which rating has been given highest number of times"
      ]
    },
    {
      "cell_type": "code",
      "metadata": {
        "id": "isUHQiHV46Z6",
        "colab_type": "code",
        "colab": {
          "base_uri": "https://localhost:8080/",
          "height": 219
        },
        "outputId": "4a195518-ef1b-4a90-fc74-129b0b47742b"
      },
      "source": [
        "ratings.bookRating.value_counts()\n",
        "# 8 rating is given highest time"
      ],
      "execution_count": 109,
      "outputs": [
        {
          "output_type": "execute_result",
          "data": {
            "text/plain": [
              "8     91804\n",
              "10    71225\n",
              "7     66401\n",
              "9     60778\n",
              "5     45355\n",
              "6     31687\n",
              "4      7617\n",
              "3      5118\n",
              "2      2375\n",
              "1      1481\n",
              "Name: bookRating, dtype: int64"
            ]
          },
          "metadata": {
            "tags": []
          },
          "execution_count": 109
        }
      ]
    },
    {
      "cell_type": "markdown",
      "metadata": {
        "id": "drCSgKmQ46aA",
        "colab_type": "text"
      },
      "source": [
        "### **Collaborative Filtering Based Recommendation Systems**"
      ]
    },
    {
      "cell_type": "markdown",
      "metadata": {
        "id": "u6BmK_Il46aB",
        "colab_type": "text"
      },
      "source": [
        "### For more accurate results only consider users who have rated atleast 100 books"
      ]
    },
    {
      "cell_type": "code",
      "metadata": {
        "id": "eibHjufF46aD",
        "colab_type": "code",
        "colab": {}
      },
      "source": [
        "#print(ratings.groupby(['userID','bookRating']).userID.count()>=100)"
      ],
      "execution_count": 0,
      "outputs": []
    },
    {
      "cell_type": "code",
      "metadata": {
        "id": "PD-vW1eWpp6q",
        "colab_type": "code",
        "colab": {}
      },
      "source": [
        "filter_ratings_users = ratings['userID'].value_counts() > 100"
      ],
      "execution_count": 0,
      "outputs": []
    },
    {
      "cell_type": "code",
      "metadata": {
        "id": "6gMcXpkGwqsl",
        "colab_type": "code",
        "colab": {}
      },
      "source": [
        "filter_ratings_users = filter_ratings_users[filter_ratings_users].index.tolist()"
      ],
      "execution_count": 0,
      "outputs": []
    },
    {
      "cell_type": "code",
      "metadata": {
        "id": "MQbWnLSCw0mS",
        "colab_type": "code",
        "colab": {}
      },
      "source": [
        "ratings = ratings[ratings['userID'].isin(filter_ratings_users)]"
      ],
      "execution_count": 0,
      "outputs": []
    },
    {
      "cell_type": "code",
      "metadata": {
        "id": "cJvZuFaKxDxk",
        "colab_type": "code",
        "colab": {
          "base_uri": "https://localhost:8080/",
          "height": 35
        },
        "outputId": "3c6a4bc3-cd8a-4a30-bc32-f7ea953d3e8a"
      },
      "source": [
        "ratings.shape"
      ],
      "execution_count": 139,
      "outputs": [
        {
          "output_type": "execute_result",
          "data": {
            "text/plain": [
              "(102371, 3)"
            ]
          },
          "metadata": {
            "tags": []
          },
          "execution_count": 139
        }
      ]
    },
    {
      "cell_type": "markdown",
      "metadata": {
        "id": "m5jmAQ8a46aH",
        "colab_type": "text"
      },
      "source": [
        "### Generating ratings matrix from explicit ratings\n"
      ]
    },
    {
      "cell_type": "markdown",
      "metadata": {
        "id": "RvdRwYCL46aJ",
        "colab_type": "text"
      },
      "source": [
        "#### Note: since NaNs cannot be handled by training algorithms, replace these by 0, which indicates absence of ratings"
      ]
    },
    {
      "cell_type": "code",
      "metadata": {
        "id": "pPMpxRbl46aK",
        "colab_type": "code",
        "colab": {}
      },
      "source": [
        "ratings=ratings.fillna(0)\n",
        "ratings=ratings[ratings.bookRating != 0]"
      ],
      "execution_count": 0,
      "outputs": []
    },
    {
      "cell_type": "markdown",
      "metadata": {
        "id": "ezWViOkQ46aR",
        "colab_type": "text"
      },
      "source": [
        "### Generate the predicted ratings using SVD with no.of singular values to be 50"
      ]
    },
    {
      "cell_type": "code",
      "metadata": {
        "id": "PNzCmDyg46aT",
        "colab_type": "code",
        "colab": {}
      },
      "source": [
        "from surprise import SVD,Dataset,Reader"
      ],
      "execution_count": 0,
      "outputs": []
    },
    {
      "cell_type": "code",
      "metadata": {
        "id": "ZrnGEZUJ1WIA",
        "colab_type": "code",
        "colab": {}
      },
      "source": [
        "reader = Reader(rating_scale=(1, 10))"
      ],
      "execution_count": 0,
      "outputs": []
    },
    {
      "cell_type": "code",
      "metadata": {
        "id": "l-nWMRtB1ABo",
        "colab_type": "code",
        "colab": {}
      },
      "source": [
        "data=Dataset.load_from_df(ratings,reader)"
      ],
      "execution_count": 0,
      "outputs": []
    },
    {
      "cell_type": "code",
      "metadata": {
        "id": "2tw-Gnr7tUUG",
        "colab_type": "code",
        "colab": {
          "base_uri": "https://localhost:8080/",
          "height": 35
        },
        "outputId": "1036c21d-83f2-4a78-e877-2c9aa52ba892"
      },
      "source": [
        "algo = SVD()\n",
        "algo.fit(data.build_full_trainset())"
      ],
      "execution_count": 177,
      "outputs": [
        {
          "output_type": "execute_result",
          "data": {
            "text/plain": [
              "<surprise.prediction_algorithms.matrix_factorization.SVD at 0x7f234b53c828>"
            ]
          },
          "metadata": {
            "tags": []
          },
          "execution_count": 177
        }
      ]
    },
    {
      "cell_type": "code",
      "metadata": {
        "id": "0gWwj21N6GxK",
        "colab_type": "code",
        "colab": {}
      },
      "source": [
        "#predt=algo.predict('uid','iid')"
      ],
      "execution_count": 0,
      "outputs": []
    },
    {
      "cell_type": "markdown",
      "metadata": {
        "id": "Nn7QQUmM46aX",
        "colab_type": "text"
      },
      "source": [
        "### Take a particular user_id"
      ]
    },
    {
      "cell_type": "markdown",
      "metadata": {
        "id": "CqTjw6N446aY",
        "colab_type": "text"
      },
      "source": [
        "### Lets find the recommendations for user with id `2110`\n",
        "\n",
        "#### Note: Execute the below cells to get the variables loaded"
      ]
    },
    {
      "cell_type": "code",
      "metadata": {
        "id": "eRRaPgos46aa",
        "colab_type": "code",
        "colab": {}
      },
      "source": [
        "userID = 2110"
      ],
      "execution_count": 0,
      "outputs": []
    },
    {
      "cell_type": "code",
      "metadata": {
        "id": "NeX1c2IR46ah",
        "colab_type": "code",
        "colab": {}
      },
      "source": [
        "user_id = 2 #2nd row in ratings matrix and predicted matrix"
      ],
      "execution_count": 0,
      "outputs": []
    },
    {
      "cell_type": "markdown",
      "metadata": {
        "id": "uZmPe-qv46ak",
        "colab_type": "text"
      },
      "source": [
        "### Get the predicted ratings for userID `2110` and sort them in descending order"
      ]
    },
    {
      "cell_type": "code",
      "metadata": {
        "id": "p0VTBTtA9UWg",
        "colab_type": "code",
        "colab": {}
      },
      "source": [
        "bookIds =ratings['ISBN'].unique();"
      ],
      "execution_count": 0,
      "outputs": []
    },
    {
      "cell_type": "code",
      "metadata": {
        "id": "7RPHvcQ39_tD",
        "colab_type": "code",
        "colab": {}
      },
      "source": [
        "userRatings = ratings.loc[ratings['userID']==2110,'ISBN']"
      ],
      "execution_count": 0,
      "outputs": []
    },
    {
      "cell_type": "code",
      "metadata": {
        "id": "GUM61RyK-4Xt",
        "colab_type": "code",
        "colab": {}
      },
      "source": [
        "diffRatings = np.setdiff1d(bookIds,userRatings)"
      ],
      "execution_count": 0,
      "outputs": []
    },
    {
      "cell_type": "code",
      "metadata": {
        "id": "I0G5zqph_MsS",
        "colab_type": "code",
        "colab": {}
      },
      "source": [
        "testratings = [[2110,bookIds,4] for bookIds in diffRatings]"
      ],
      "execution_count": 0,
      "outputs": []
    },
    {
      "cell_type": "code",
      "metadata": {
        "id": "ArxsDd1S9oAV",
        "colab_type": "code",
        "colab": {}
      },
      "source": [
        "pred=algo.test(testratings)"
      ],
      "execution_count": 0,
      "outputs": []
    },
    {
      "cell_type": "code",
      "metadata": {
        "id": "xCAiq5-lASYb",
        "colab_type": "code",
        "colab": {
          "base_uri": "https://localhost:8080/",
          "height": 35
        },
        "outputId": "c3a234e5-1efb-4203-c601-d10d30fd992e"
      },
      "source": [
        "pred[0]"
      ],
      "execution_count": 224,
      "outputs": [
        {
          "output_type": "execute_result",
          "data": {
            "text/plain": [
              "Prediction(uid=2110, iid='0000913154', r_ui=4, est=8.485427770202351, details={'was_impossible': False})"
            ]
          },
          "metadata": {
            "tags": []
          },
          "execution_count": 224
        }
      ]
    },
    {
      "cell_type": "code",
      "metadata": {
        "id": "0rBK9dmpC-sr",
        "colab_type": "code",
        "colab": {}
      },
      "source": [
        "from collections import defaultdict"
      ],
      "execution_count": 0,
      "outputs": []
    },
    {
      "cell_type": "code",
      "metadata": {
        "id": "UYz5M56dAXNW",
        "colab_type": "code",
        "colab": {}
      },
      "source": [
        "def get_top_n(predictions, n=10):\n",
        "    # First map the predictions to each user.\n",
        "    top_n = defaultdict(list)\n",
        "    for uid, iid, true_r, est, _ in predictions:\n",
        "        top_n[uid].append((iid, est))\n",
        "\n",
        "    # Then sort the predictions for each user and retrieve the k highest ones.\n",
        "    for uid, user_ratings in top_n.items():\n",
        "        user_ratings.sort(key=lambda x: x[1], reverse=True)\n",
        "        top_n[uid] = user_ratings[:n]\n",
        "\n",
        "    return top_n"
      ],
      "execution_count": 0,
      "outputs": []
    },
    {
      "cell_type": "code",
      "metadata": {
        "id": "XiREx8QNAsDT",
        "colab_type": "code",
        "colab": {}
      },
      "source": [
        "top_n=get_top_n(pred,len(pred)) # print descending order"
      ],
      "execution_count": 0,
      "outputs": []
    },
    {
      "cell_type": "code",
      "metadata": {
        "id": "n2ILjzt7EwQH",
        "colab_type": "code",
        "colab": {
          "base_uri": "https://localhost:8080/",
          "height": 219
        },
        "outputId": "712ed4ac-651b-4a05-eafd-d0eb61fb586b"
      },
      "source": [
        "get_top_n(pred,10)"
      ],
      "execution_count": 227,
      "outputs": [
        {
          "output_type": "execute_result",
          "data": {
            "text/plain": [
              "defaultdict(list,\n",
              "            {2110: [('0446672211', 9.649439568861059),\n",
              "              ('0441172717', 9.638585402153188),\n",
              "              ('0618002227', 9.636899607845569),\n",
              "              ('0345361792', 9.58646724213264),\n",
              "              ('067172262X', 9.548931898377747),\n",
              "              ('0743454529', 9.523313971840128),\n",
              "              ('0385484518', 9.50786712085902),\n",
              "              ('0060987561', 9.465917372719652),\n",
              "              ('0671041789', 9.4343196127391),\n",
              "              ('0064471101', 9.417526269735319)]})"
            ]
          },
          "metadata": {
            "tags": []
          },
          "execution_count": 227
        }
      ]
    },
    {
      "cell_type": "markdown",
      "metadata": {
        "id": "0x1qiT2746ax",
        "colab_type": "text"
      },
      "source": [
        "### Create a dataframe with name `user_data` containing userID `2110` explicitly interacted books"
      ]
    },
    {
      "cell_type": "code",
      "metadata": {
        "id": "CYBRdTEyF9EK",
        "colab_type": "code",
        "colab": {}
      },
      "source": [
        "bookratingsList = []\n",
        "for uid, iid, true_r, est, _ in pred:\n",
        "        bookratingsList.append([2110,iid, est])"
      ],
      "execution_count": 0,
      "outputs": []
    },
    {
      "cell_type": "code",
      "metadata": {
        "id": "d3AMY7Jm46a0",
        "colab_type": "code",
        "colab": {}
      },
      "source": [
        "user_data = pd.DataFrame(bookratingsList,columns=['userID','ISBN','bookRating'])"
      ],
      "execution_count": 0,
      "outputs": []
    },
    {
      "cell_type": "code",
      "metadata": {
        "id": "bY2uLlrE46a9",
        "colab_type": "code",
        "colab": {
          "base_uri": "https://localhost:8080/",
          "height": 206
        },
        "outputId": "7fe4ad5d-3009-4765-9978-df635b5bd2ab"
      },
      "source": [
        "user_data.head()"
      ],
      "execution_count": 231,
      "outputs": [
        {
          "output_type": "execute_result",
          "data": {
            "text/html": [
              "<div>\n",
              "<style scoped>\n",
              "    .dataframe tbody tr th:only-of-type {\n",
              "        vertical-align: middle;\n",
              "    }\n",
              "\n",
              "    .dataframe tbody tr th {\n",
              "        vertical-align: top;\n",
              "    }\n",
              "\n",
              "    .dataframe thead th {\n",
              "        text-align: right;\n",
              "    }\n",
              "</style>\n",
              "<table border=\"1\" class=\"dataframe\">\n",
              "  <thead>\n",
              "    <tr style=\"text-align: right;\">\n",
              "      <th></th>\n",
              "      <th>userID</th>\n",
              "      <th>ISBN</th>\n",
              "      <th>bookRating</th>\n",
              "    </tr>\n",
              "  </thead>\n",
              "  <tbody>\n",
              "    <tr>\n",
              "      <th>0</th>\n",
              "      <td>2110</td>\n",
              "      <td>0000913154</td>\n",
              "      <td>8.485428</td>\n",
              "    </tr>\n",
              "    <tr>\n",
              "      <th>1</th>\n",
              "      <td>2110</td>\n",
              "      <td>0001046438</td>\n",
              "      <td>8.012689</td>\n",
              "    </tr>\n",
              "    <tr>\n",
              "      <th>2</th>\n",
              "      <td>2110</td>\n",
              "      <td>000104687X</td>\n",
              "      <td>8.318143</td>\n",
              "    </tr>\n",
              "    <tr>\n",
              "      <th>3</th>\n",
              "      <td>2110</td>\n",
              "      <td>0001047213</td>\n",
              "      <td>8.013900</td>\n",
              "    </tr>\n",
              "    <tr>\n",
              "      <th>4</th>\n",
              "      <td>2110</td>\n",
              "      <td>0001047973</td>\n",
              "      <td>8.236491</td>\n",
              "    </tr>\n",
              "  </tbody>\n",
              "</table>\n",
              "</div>"
            ],
            "text/plain": [
              "   userID        ISBN  bookRating\n",
              "0    2110  0000913154    8.485428\n",
              "1    2110  0001046438    8.012689\n",
              "2    2110  000104687X    8.318143\n",
              "3    2110  0001047213    8.013900\n",
              "4    2110  0001047973    8.236491"
            ]
          },
          "metadata": {
            "tags": []
          },
          "execution_count": 231
        }
      ]
    },
    {
      "cell_type": "code",
      "metadata": {
        "scrolled": true,
        "id": "od8xMPUk46bJ",
        "colab_type": "code",
        "colab": {
          "base_uri": "https://localhost:8080/",
          "height": 35
        },
        "outputId": "4aaa77ee-6589-4b60-95e8-ce785cdadaac"
      },
      "source": [
        "user_data.shape"
      ],
      "execution_count": 232,
      "outputs": [
        {
          "output_type": "execute_result",
          "data": {
            "text/plain": [
              "(65973, 3)"
            ]
          },
          "metadata": {
            "tags": []
          },
          "execution_count": 232
        }
      ]
    },
    {
      "cell_type": "markdown",
      "metadata": {
        "id": "eZAZOi4B46bW",
        "colab_type": "text"
      },
      "source": [
        "### Combine the user_data and and corresponding book data(`book_data`) in a single dataframe with name `user_full_info`"
      ]
    },
    {
      "cell_type": "code",
      "metadata": {
        "id": "b4CyOw_746bZ",
        "colab_type": "code",
        "colab": {},
        "outputId": "2d0a6cc3-de2f-4cd2-ad42-e727382f0c37"
      },
      "source": [
        "book_data.shape"
      ],
      "execution_count": 0,
      "outputs": [
        {
          "output_type": "execute_result",
          "data": {
            "text/plain": [
              "(103, 5)"
            ]
          },
          "metadata": {
            "tags": []
          },
          "execution_count": 70
        }
      ]
    },
    {
      "cell_type": "code",
      "metadata": {
        "scrolled": true,
        "id": "SK4oFaoG46bi",
        "colab_type": "code",
        "colab": {},
        "outputId": "166e3db2-1395-4c06-f341-8d0bacc47a9e"
      },
      "source": [
        "book_data.head()"
      ],
      "execution_count": 0,
      "outputs": [
        {
          "output_type": "execute_result",
          "data": {
            "text/html": [
              "<div>\n",
              "<style scoped>\n",
              "    .dataframe tbody tr th:only-of-type {\n",
              "        vertical-align: middle;\n",
              "    }\n",
              "\n",
              "    .dataframe tbody tr th {\n",
              "        vertical-align: top;\n",
              "    }\n",
              "\n",
              "    .dataframe thead th {\n",
              "        text-align: right;\n",
              "    }\n",
              "</style>\n",
              "<table border=\"1\" class=\"dataframe\">\n",
              "  <thead>\n",
              "    <tr style=\"text-align: right;\">\n",
              "      <th></th>\n",
              "      <th>ISBN</th>\n",
              "      <th>bookTitle</th>\n",
              "      <th>bookAuthor</th>\n",
              "      <th>yearOfPublication</th>\n",
              "      <th>publisher</th>\n",
              "    </tr>\n",
              "  </thead>\n",
              "  <tbody>\n",
              "    <tr>\n",
              "      <th>246</th>\n",
              "      <td>0151008116</td>\n",
              "      <td>Life of Pi</td>\n",
              "      <td>Yann Martel</td>\n",
              "      <td>2002</td>\n",
              "      <td>Harcourt</td>\n",
              "    </tr>\n",
              "    <tr>\n",
              "      <th>904</th>\n",
              "      <td>015216250X</td>\n",
              "      <td>So You Want to Be a Wizard: The First Book in ...</td>\n",
              "      <td>Diane Duane</td>\n",
              "      <td>2001</td>\n",
              "      <td>Magic Carpet Books</td>\n",
              "    </tr>\n",
              "    <tr>\n",
              "      <th>1000</th>\n",
              "      <td>0064472779</td>\n",
              "      <td>All-American Girl</td>\n",
              "      <td>Meg Cabot</td>\n",
              "      <td>2003</td>\n",
              "      <td>HarperTrophy</td>\n",
              "    </tr>\n",
              "    <tr>\n",
              "      <th>1302</th>\n",
              "      <td>0345307674</td>\n",
              "      <td>Return of the Jedi (Star Wars)</td>\n",
              "      <td>James Kahn</td>\n",
              "      <td>1983</td>\n",
              "      <td>Del Rey Books</td>\n",
              "    </tr>\n",
              "    <tr>\n",
              "      <th>1472</th>\n",
              "      <td>0671527215</td>\n",
              "      <td>Hitchhikers's Guide to the Galaxy</td>\n",
              "      <td>Douglas Adams</td>\n",
              "      <td>1984</td>\n",
              "      <td>Pocket</td>\n",
              "    </tr>\n",
              "  </tbody>\n",
              "</table>\n",
              "</div>"
            ],
            "text/plain": [
              "            ISBN                                          bookTitle  \\\n",
              "246   0151008116                                         Life of Pi   \n",
              "904   015216250X  So You Want to Be a Wizard: The First Book in ...   \n",
              "1000  0064472779                                  All-American Girl   \n",
              "1302  0345307674                     Return of the Jedi (Star Wars)   \n",
              "1472  0671527215                  Hitchhikers's Guide to the Galaxy   \n",
              "\n",
              "         bookAuthor  yearOfPublication           publisher  \n",
              "246     Yann Martel               2002            Harcourt  \n",
              "904     Diane Duane               2001  Magic Carpet Books  \n",
              "1000      Meg Cabot               2003        HarperTrophy  \n",
              "1302     James Kahn               1983       Del Rey Books  \n",
              "1472  Douglas Adams               1984              Pocket  "
            ]
          },
          "metadata": {
            "tags": []
          },
          "execution_count": 71
        }
      ]
    },
    {
      "cell_type": "code",
      "metadata": {
        "id": "IAfy7Z3A46br",
        "colab_type": "code",
        "colab": {}
      },
      "source": [
        "user_full_info=pd.merge(user_data,books,on='ISBN')"
      ],
      "execution_count": 0,
      "outputs": []
    },
    {
      "cell_type": "code",
      "metadata": {
        "scrolled": true,
        "id": "J6yT7PhA46bu",
        "colab_type": "code",
        "colab": {
          "base_uri": "https://localhost:8080/",
          "height": 206
        },
        "outputId": "c26930f9-4358-4a0b-aae7-c23f440ef028"
      },
      "source": [
        "user_full_info.head()"
      ],
      "execution_count": 236,
      "outputs": [
        {
          "output_type": "execute_result",
          "data": {
            "text/html": [
              "<div>\n",
              "<style scoped>\n",
              "    .dataframe tbody tr th:only-of-type {\n",
              "        vertical-align: middle;\n",
              "    }\n",
              "\n",
              "    .dataframe tbody tr th {\n",
              "        vertical-align: top;\n",
              "    }\n",
              "\n",
              "    .dataframe thead th {\n",
              "        text-align: right;\n",
              "    }\n",
              "</style>\n",
              "<table border=\"1\" class=\"dataframe\">\n",
              "  <thead>\n",
              "    <tr style=\"text-align: right;\">\n",
              "      <th></th>\n",
              "      <th>userID</th>\n",
              "      <th>ISBN</th>\n",
              "      <th>bookRating</th>\n",
              "      <th>bookTitle</th>\n",
              "      <th>bookAuthor</th>\n",
              "      <th>yearOfPublication</th>\n",
              "      <th>publisher</th>\n",
              "    </tr>\n",
              "  </thead>\n",
              "  <tbody>\n",
              "    <tr>\n",
              "      <th>0</th>\n",
              "      <td>2110</td>\n",
              "      <td>0000913154</td>\n",
              "      <td>8.485428</td>\n",
              "      <td>The Way Things Work: An Illustrated Encycloped...</td>\n",
              "      <td>C. van Amerongen (translator)</td>\n",
              "      <td>1967</td>\n",
              "      <td>Simon &amp;amp; Schuster</td>\n",
              "    </tr>\n",
              "    <tr>\n",
              "      <th>1</th>\n",
              "      <td>2110</td>\n",
              "      <td>0001046438</td>\n",
              "      <td>8.012689</td>\n",
              "      <td>Liar</td>\n",
              "      <td>Stephen Fry</td>\n",
              "      <td>0</td>\n",
              "      <td>Harpercollins Uk</td>\n",
              "    </tr>\n",
              "    <tr>\n",
              "      <th>2</th>\n",
              "      <td>2110</td>\n",
              "      <td>000104687X</td>\n",
              "      <td>8.318143</td>\n",
              "      <td>T.S. Eliot Reading \\The Wasteland\\\" and Other ...</td>\n",
              "      <td>T.S. Eliot</td>\n",
              "      <td>1993</td>\n",
              "      <td>HarperCollins Publishers</td>\n",
              "    </tr>\n",
              "    <tr>\n",
              "      <th>3</th>\n",
              "      <td>2110</td>\n",
              "      <td>0001047213</td>\n",
              "      <td>8.013900</td>\n",
              "      <td>The Fighting Man</td>\n",
              "      <td>Gerald Seymour</td>\n",
              "      <td>1993</td>\n",
              "      <td>HarperCollins Publishers</td>\n",
              "    </tr>\n",
              "    <tr>\n",
              "      <th>4</th>\n",
              "      <td>2110</td>\n",
              "      <td>0001047973</td>\n",
              "      <td>8.236491</td>\n",
              "      <td>Brave New World</td>\n",
              "      <td>Aldous Huxley</td>\n",
              "      <td>1999</td>\n",
              "      <td>Trafalgar Square Publishing</td>\n",
              "    </tr>\n",
              "  </tbody>\n",
              "</table>\n",
              "</div>"
            ],
            "text/plain": [
              "   userID        ISBN  ...  yearOfPublication                    publisher\n",
              "0    2110  0000913154  ...               1967         Simon &amp; Schuster\n",
              "1    2110  0001046438  ...                  0             Harpercollins Uk\n",
              "2    2110  000104687X  ...               1993     HarperCollins Publishers\n",
              "3    2110  0001047213  ...               1993     HarperCollins Publishers\n",
              "4    2110  0001047973  ...               1999  Trafalgar Square Publishing\n",
              "\n",
              "[5 rows x 7 columns]"
            ]
          },
          "metadata": {
            "tags": []
          },
          "execution_count": 236
        }
      ]
    },
    {
      "cell_type": "markdown",
      "metadata": {
        "id": "Dc7apvi_46b1",
        "colab_type": "text"
      },
      "source": [
        "### Get top 10 recommendations for above given userID from the books not already rated by that user"
      ]
    },
    {
      "cell_type": "code",
      "metadata": {
        "id": "EixbhUeT46b3",
        "colab_type": "code",
        "colab": {
          "base_uri": "https://localhost:8080/",
          "height": 219
        },
        "outputId": "06cfde64-15fa-470e-ab2d-1cea222a1a48"
      },
      "source": [
        "get_top_n(pred,10)"
      ],
      "execution_count": 234,
      "outputs": [
        {
          "output_type": "execute_result",
          "data": {
            "text/plain": [
              "defaultdict(list,\n",
              "            {2110: [('0446672211', 9.649439568861059),\n",
              "              ('0441172717', 9.638585402153188),\n",
              "              ('0618002227', 9.636899607845569),\n",
              "              ('0345361792', 9.58646724213264),\n",
              "              ('067172262X', 9.548931898377747),\n",
              "              ('0743454529', 9.523313971840128),\n",
              "              ('0385484518', 9.50786712085902),\n",
              "              ('0060987561', 9.465917372719652),\n",
              "              ('0671041789', 9.4343196127391),\n",
              "              ('0064471101', 9.417526269735319)]})"
            ]
          },
          "metadata": {
            "tags": []
          },
          "execution_count": 234
        }
      ]
    }
  ]
}