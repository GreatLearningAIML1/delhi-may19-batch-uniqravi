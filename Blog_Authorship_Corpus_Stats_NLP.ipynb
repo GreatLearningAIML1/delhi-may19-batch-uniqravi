{
  "nbformat": 4,
  "nbformat_minor": 0,
  "metadata": {
    "colab": {
      "name": "Blog-Authorship-Corpus_Stats_NLP.ipynb",
      "provenance": [],
      "collapsed_sections": []
    },
    "kernelspec": {
      "name": "python3",
      "display_name": "Python 3"
    }
  },
  "cells": [
    {
      "cell_type": "code",
      "metadata": {
        "colab": {
          "base_uri": "https://localhost:8080/"
        },
        "id": "jk3KwB6XAHYj",
        "outputId": "575ed2cb-c32d-4584-8421-f64d4c711526"
      },
      "source": [
        "from google.colab import drive\n",
        "drive.mount(\"/content/drive\")"
      ],
      "execution_count": 1,
      "outputs": [
        {
          "output_type": "stream",
          "text": [
            "Mounted at /content/drive\n"
          ],
          "name": "stdout"
        }
      ]
    },
    {
      "cell_type": "code",
      "metadata": {
        "id": "4_VAtuQXHc-7"
      },
      "source": [
        "from zipfile import ZipFile\n",
        "import pandas as pd\n",
        "import numpy as np\n",
        "\n",
        "import seaborn as sns\n",
        "import matplotlib.pyplot as plt\n",
        "from nltk.corpus import stopwords\n",
        "import nltk\n",
        "\n",
        "from sklearn.feature_extraction.text import TfidfVectorizer, CountVectorizer\n",
        "from sklearn.preprocessing import MultiLabelBinarizer\n",
        "from sklearn.model_selection import train_test_split"
      ],
      "execution_count": 72,
      "outputs": []
    },
    {
      "cell_type": "code",
      "metadata": {
        "colab": {
          "base_uri": "https://localhost:8080/"
        },
        "id": "llbAPNay9gl2",
        "outputId": "98e5128a-3af9-4956-aeaf-bf011375f2c8"
      },
      "source": [
        "nltk.download(\"stopwords\")"
      ],
      "execution_count": 39,
      "outputs": [
        {
          "output_type": "stream",
          "text": [
            "[nltk_data] Downloading package stopwords to /root/nltk_data...\n",
            "[nltk_data]   Package stopwords is already up-to-date!\n"
          ],
          "name": "stdout"
        },
        {
          "output_type": "execute_result",
          "data": {
            "text/plain": [
              "True"
            ]
          },
          "metadata": {
            "tags": []
          },
          "execution_count": 39
        }
      ]
    },
    {
      "cell_type": "markdown",
      "metadata": {
        "id": "hLxk9YT4H2fm"
      },
      "source": [
        "####Reading Zip file & Storing into Panda"
      ]
    },
    {
      "cell_type": "code",
      "metadata": {
        "id": "BxKL0sAsIb8P"
      },
      "source": [
        "zip_file = ZipFile('/content/drive/MyDrive/AI_ML_CLass/Data/blog-authorship-corpus/blogtext.csv.zip')"
      ],
      "execution_count": 3,
      "outputs": []
    },
    {
      "cell_type": "code",
      "metadata": {
        "colab": {
          "base_uri": "https://localhost:8080/"
        },
        "id": "QANMbQzrInbM",
        "outputId": "ff50ca40-a7c4-4b91-d0fc-3020260a2826"
      },
      "source": [
        "zip_file.infolist()"
      ],
      "execution_count": 4,
      "outputs": [
        {
          "output_type": "execute_result",
          "data": {
            "text/plain": [
              "[<ZipInfo filename='blogtext.csv' compress_type=deflate file_size=800419647 compress_size=303646582>]"
            ]
          },
          "metadata": {
            "tags": []
          },
          "execution_count": 4
        }
      ]
    },
    {
      "cell_type": "code",
      "metadata": {
        "id": "cljyHdHmIBMg"
      },
      "source": [
        "auth_blog_pd =  pd.read_csv(zip_file.open(\"blogtext.csv\"))"
      ],
      "execution_count": 5,
      "outputs": []
    },
    {
      "cell_type": "markdown",
      "metadata": {
        "id": "ahJUbnS1JViC"
      },
      "source": [
        "#### Looking at data insight :"
      ]
    },
    {
      "cell_type": "code",
      "metadata": {
        "colab": {
          "base_uri": "https://localhost:8080/"
        },
        "id": "mFoUHpP1JcuW",
        "outputId": "b6753637-7e42-4db3-e199-3a7f7f363d7e"
      },
      "source": [
        "# shape\n",
        "auth_blog_pd.shape"
      ],
      "execution_count": 6,
      "outputs": [
        {
          "output_type": "execute_result",
          "data": {
            "text/plain": [
              "(681284, 7)"
            ]
          },
          "metadata": {
            "tags": []
          },
          "execution_count": 6
        }
      ]
    },
    {
      "cell_type": "code",
      "metadata": {
        "colab": {
          "base_uri": "https://localhost:8080/",
          "height": 363
        },
        "id": "j8x-p7FaJkww",
        "outputId": "d1911256-8ac8-4bdf-eef8-496389916d85"
      },
      "source": [
        "auth_blog_pd.head(10)"
      ],
      "execution_count": 7,
      "outputs": [
        {
          "output_type": "execute_result",
          "data": {
            "text/html": [
              "<div>\n",
              "<style scoped>\n",
              "    .dataframe tbody tr th:only-of-type {\n",
              "        vertical-align: middle;\n",
              "    }\n",
              "\n",
              "    .dataframe tbody tr th {\n",
              "        vertical-align: top;\n",
              "    }\n",
              "\n",
              "    .dataframe thead th {\n",
              "        text-align: right;\n",
              "    }\n",
              "</style>\n",
              "<table border=\"1\" class=\"dataframe\">\n",
              "  <thead>\n",
              "    <tr style=\"text-align: right;\">\n",
              "      <th></th>\n",
              "      <th>id</th>\n",
              "      <th>gender</th>\n",
              "      <th>age</th>\n",
              "      <th>topic</th>\n",
              "      <th>sign</th>\n",
              "      <th>date</th>\n",
              "      <th>text</th>\n",
              "    </tr>\n",
              "  </thead>\n",
              "  <tbody>\n",
              "    <tr>\n",
              "      <th>0</th>\n",
              "      <td>2059027</td>\n",
              "      <td>male</td>\n",
              "      <td>15</td>\n",
              "      <td>Student</td>\n",
              "      <td>Leo</td>\n",
              "      <td>14,May,2004</td>\n",
              "      <td>Info has been found (+/- 100 pages,...</td>\n",
              "    </tr>\n",
              "    <tr>\n",
              "      <th>1</th>\n",
              "      <td>2059027</td>\n",
              "      <td>male</td>\n",
              "      <td>15</td>\n",
              "      <td>Student</td>\n",
              "      <td>Leo</td>\n",
              "      <td>13,May,2004</td>\n",
              "      <td>These are the team members:   Drewe...</td>\n",
              "    </tr>\n",
              "    <tr>\n",
              "      <th>2</th>\n",
              "      <td>2059027</td>\n",
              "      <td>male</td>\n",
              "      <td>15</td>\n",
              "      <td>Student</td>\n",
              "      <td>Leo</td>\n",
              "      <td>12,May,2004</td>\n",
              "      <td>In het kader van kernfusie op aarde...</td>\n",
              "    </tr>\n",
              "    <tr>\n",
              "      <th>3</th>\n",
              "      <td>2059027</td>\n",
              "      <td>male</td>\n",
              "      <td>15</td>\n",
              "      <td>Student</td>\n",
              "      <td>Leo</td>\n",
              "      <td>12,May,2004</td>\n",
              "      <td>testing!!!  testing!!!</td>\n",
              "    </tr>\n",
              "    <tr>\n",
              "      <th>4</th>\n",
              "      <td>3581210</td>\n",
              "      <td>male</td>\n",
              "      <td>33</td>\n",
              "      <td>InvestmentBanking</td>\n",
              "      <td>Aquarius</td>\n",
              "      <td>11,June,2004</td>\n",
              "      <td>Thanks to Yahoo!'s Toolbar I can ...</td>\n",
              "    </tr>\n",
              "    <tr>\n",
              "      <th>5</th>\n",
              "      <td>3581210</td>\n",
              "      <td>male</td>\n",
              "      <td>33</td>\n",
              "      <td>InvestmentBanking</td>\n",
              "      <td>Aquarius</td>\n",
              "      <td>10,June,2004</td>\n",
              "      <td>I had an interesting conversation...</td>\n",
              "    </tr>\n",
              "    <tr>\n",
              "      <th>6</th>\n",
              "      <td>3581210</td>\n",
              "      <td>male</td>\n",
              "      <td>33</td>\n",
              "      <td>InvestmentBanking</td>\n",
              "      <td>Aquarius</td>\n",
              "      <td>10,June,2004</td>\n",
              "      <td>Somehow Coca-Cola has a way of su...</td>\n",
              "    </tr>\n",
              "    <tr>\n",
              "      <th>7</th>\n",
              "      <td>3581210</td>\n",
              "      <td>male</td>\n",
              "      <td>33</td>\n",
              "      <td>InvestmentBanking</td>\n",
              "      <td>Aquarius</td>\n",
              "      <td>10,June,2004</td>\n",
              "      <td>If anything, Korea is a country o...</td>\n",
              "    </tr>\n",
              "    <tr>\n",
              "      <th>8</th>\n",
              "      <td>3581210</td>\n",
              "      <td>male</td>\n",
              "      <td>33</td>\n",
              "      <td>InvestmentBanking</td>\n",
              "      <td>Aquarius</td>\n",
              "      <td>10,June,2004</td>\n",
              "      <td>Take a read of this news article ...</td>\n",
              "    </tr>\n",
              "    <tr>\n",
              "      <th>9</th>\n",
              "      <td>3581210</td>\n",
              "      <td>male</td>\n",
              "      <td>33</td>\n",
              "      <td>InvestmentBanking</td>\n",
              "      <td>Aquarius</td>\n",
              "      <td>09,June,2004</td>\n",
              "      <td>I surf the English news sites a l...</td>\n",
              "    </tr>\n",
              "  </tbody>\n",
              "</table>\n",
              "</div>"
            ],
            "text/plain": [
              "        id  ...                                               text\n",
              "0  2059027  ...             Info has been found (+/- 100 pages,...\n",
              "1  2059027  ...             These are the team members:   Drewe...\n",
              "2  2059027  ...             In het kader van kernfusie op aarde...\n",
              "3  2059027  ...                   testing!!!  testing!!!          \n",
              "4  3581210  ...               Thanks to Yahoo!'s Toolbar I can ...\n",
              "5  3581210  ...               I had an interesting conversation...\n",
              "6  3581210  ...               Somehow Coca-Cola has a way of su...\n",
              "7  3581210  ...               If anything, Korea is a country o...\n",
              "8  3581210  ...               Take a read of this news article ...\n",
              "9  3581210  ...               I surf the English news sites a l...\n",
              "\n",
              "[10 rows x 7 columns]"
            ]
          },
          "metadata": {
            "tags": []
          },
          "execution_count": 7
        }
      ]
    },
    {
      "cell_type": "markdown",
      "metadata": {
        "id": "YY6noijMEP5g"
      },
      "source": [
        "#### Preparing Small Set Data from Large corpus :"
      ]
    },
    {
      "cell_type": "code",
      "metadata": {
        "id": "kZBGWIVAtyte"
      },
      "source": [
        "#dataset is hugh taking 20000 record \n",
        "# select 20000 rows randomly \n",
        "auth_blog_new = auth_blog_pd.sample(n=20000)"
      ],
      "execution_count": 47,
      "outputs": []
    },
    {
      "cell_type": "code",
      "metadata": {
        "colab": {
          "base_uri": "https://localhost:8080/",
          "height": 206
        },
        "id": "ieHdAgXGFzy2",
        "outputId": "cc34fe59-774b-432d-92c3-01234a0a5e82"
      },
      "source": [
        "auth_blog_new.head()"
      ],
      "execution_count": 9,
      "outputs": [
        {
          "output_type": "execute_result",
          "data": {
            "text/html": [
              "<div>\n",
              "<style scoped>\n",
              "    .dataframe tbody tr th:only-of-type {\n",
              "        vertical-align: middle;\n",
              "    }\n",
              "\n",
              "    .dataframe tbody tr th {\n",
              "        vertical-align: top;\n",
              "    }\n",
              "\n",
              "    .dataframe thead th {\n",
              "        text-align: right;\n",
              "    }\n",
              "</style>\n",
              "<table border=\"1\" class=\"dataframe\">\n",
              "  <thead>\n",
              "    <tr style=\"text-align: right;\">\n",
              "      <th></th>\n",
              "      <th>id</th>\n",
              "      <th>gender</th>\n",
              "      <th>age</th>\n",
              "      <th>topic</th>\n",
              "      <th>sign</th>\n",
              "      <th>date</th>\n",
              "      <th>text</th>\n",
              "    </tr>\n",
              "  </thead>\n",
              "  <tbody>\n",
              "    <tr>\n",
              "      <th>540307</th>\n",
              "      <td>3581641</td>\n",
              "      <td>male</td>\n",
              "      <td>14</td>\n",
              "      <td>Student</td>\n",
              "      <td>Pisces</td>\n",
              "      <td>08,June,2004</td>\n",
              "      <td>urlLink    I found this little bir...</td>\n",
              "    </tr>\n",
              "    <tr>\n",
              "      <th>70073</th>\n",
              "      <td>1826722</td>\n",
              "      <td>male</td>\n",
              "      <td>35</td>\n",
              "      <td>Military</td>\n",
              "      <td>Capricorn</td>\n",
              "      <td>21,July,2004</td>\n",
              "      <td>Saw a lawyer today,  and&amp;nbsp;I...</td>\n",
              "    </tr>\n",
              "    <tr>\n",
              "      <th>629318</th>\n",
              "      <td>1697956</td>\n",
              "      <td>male</td>\n",
              "      <td>23</td>\n",
              "      <td>Chemicals</td>\n",
              "      <td>Libra</td>\n",
              "      <td>18,August,2003</td>\n",
              "      <td>Greetings from Wellington!  Thats a...</td>\n",
              "    </tr>\n",
              "    <tr>\n",
              "      <th>338153</th>\n",
              "      <td>3313546</td>\n",
              "      <td>female</td>\n",
              "      <td>23</td>\n",
              "      <td>Student</td>\n",
              "      <td>Cancer</td>\n",
              "      <td>31,July,2004</td>\n",
              "      <td>Well, I have been there done that a few...</td>\n",
              "    </tr>\n",
              "    <tr>\n",
              "      <th>241592</th>\n",
              "      <td>529513</td>\n",
              "      <td>male</td>\n",
              "      <td>33</td>\n",
              "      <td>Internet</td>\n",
              "      <td>Taurus</td>\n",
              "      <td>13,November,2002</td>\n",
              "      <td>A hen is only an eggs way of makin...</td>\n",
              "    </tr>\n",
              "  </tbody>\n",
              "</table>\n",
              "</div>"
            ],
            "text/plain": [
              "             id  ...                                               text\n",
              "540307  3581641  ...              urlLink    I found this little bir...\n",
              "70073   1826722  ...                 Saw a lawyer today,  and&nbsp;I...\n",
              "629318  1697956  ...             Greetings from Wellington!  Thats a...\n",
              "338153  3313546  ...         Well, I have been there done that a few...\n",
              "241592   529513  ...              A hen is only an eggs way of makin...\n",
              "\n",
              "[5 rows x 7 columns]"
            ]
          },
          "metadata": {
            "tags": []
          },
          "execution_count": 9
        }
      ]
    },
    {
      "cell_type": "code",
      "metadata": {
        "id": "9Q5cljKHF7FI"
      },
      "source": [
        "#drop colum id and date\n",
        "auth_blog_new.drop(labels=['id','date'],inplace=True,axis=1)"
      ],
      "execution_count": 48,
      "outputs": []
    },
    {
      "cell_type": "code",
      "metadata": {
        "colab": {
          "base_uri": "https://localhost:8080/",
          "height": 112
        },
        "id": "T_rc3gFQGW_A",
        "outputId": "06030148-a287-4a1b-ae77-6410da9c617a"
      },
      "source": [
        "auth_blog_new.head(2)"
      ],
      "execution_count": 11,
      "outputs": [
        {
          "output_type": "execute_result",
          "data": {
            "text/html": [
              "<div>\n",
              "<style scoped>\n",
              "    .dataframe tbody tr th:only-of-type {\n",
              "        vertical-align: middle;\n",
              "    }\n",
              "\n",
              "    .dataframe tbody tr th {\n",
              "        vertical-align: top;\n",
              "    }\n",
              "\n",
              "    .dataframe thead th {\n",
              "        text-align: right;\n",
              "    }\n",
              "</style>\n",
              "<table border=\"1\" class=\"dataframe\">\n",
              "  <thead>\n",
              "    <tr style=\"text-align: right;\">\n",
              "      <th></th>\n",
              "      <th>gender</th>\n",
              "      <th>age</th>\n",
              "      <th>topic</th>\n",
              "      <th>sign</th>\n",
              "      <th>text</th>\n",
              "    </tr>\n",
              "  </thead>\n",
              "  <tbody>\n",
              "    <tr>\n",
              "      <th>540307</th>\n",
              "      <td>male</td>\n",
              "      <td>14</td>\n",
              "      <td>Student</td>\n",
              "      <td>Pisces</td>\n",
              "      <td>urlLink    I found this little bir...</td>\n",
              "    </tr>\n",
              "    <tr>\n",
              "      <th>70073</th>\n",
              "      <td>male</td>\n",
              "      <td>35</td>\n",
              "      <td>Military</td>\n",
              "      <td>Capricorn</td>\n",
              "      <td>Saw a lawyer today,  and&amp;nbsp;I...</td>\n",
              "    </tr>\n",
              "  </tbody>\n",
              "</table>\n",
              "</div>"
            ],
            "text/plain": [
              "       gender  ...                                               text\n",
              "540307   male  ...              urlLink    I found this little bir...\n",
              "70073    male  ...                 Saw a lawyer today,  and&nbsp;I...\n",
              "\n",
              "[2 rows x 5 columns]"
            ]
          },
          "metadata": {
            "tags": []
          },
          "execution_count": 11
        }
      ]
    },
    {
      "cell_type": "code",
      "metadata": {
        "colab": {
          "base_uri": "https://localhost:8080/",
          "height": 424
        },
        "id": "_9aETueZGdm7",
        "outputId": "a9617836-268d-4974-adad-c3133e91a9b9"
      },
      "source": [
        "auth_blog_new.reset_index()"
      ],
      "execution_count": 49,
      "outputs": [
        {
          "output_type": "execute_result",
          "data": {
            "text/html": [
              "<div>\n",
              "<style scoped>\n",
              "    .dataframe tbody tr th:only-of-type {\n",
              "        vertical-align: middle;\n",
              "    }\n",
              "\n",
              "    .dataframe tbody tr th {\n",
              "        vertical-align: top;\n",
              "    }\n",
              "\n",
              "    .dataframe thead th {\n",
              "        text-align: right;\n",
              "    }\n",
              "</style>\n",
              "<table border=\"1\" class=\"dataframe\">\n",
              "  <thead>\n",
              "    <tr style=\"text-align: right;\">\n",
              "      <th></th>\n",
              "      <th>index</th>\n",
              "      <th>gender</th>\n",
              "      <th>age</th>\n",
              "      <th>topic</th>\n",
              "      <th>sign</th>\n",
              "      <th>text</th>\n",
              "    </tr>\n",
              "  </thead>\n",
              "  <tbody>\n",
              "    <tr>\n",
              "      <th>0</th>\n",
              "      <td>338750</td>\n",
              "      <td>female</td>\n",
              "      <td>23</td>\n",
              "      <td>indUnk</td>\n",
              "      <td>Scorpio</td>\n",
              "      <td>alone. sad. jaded.   three words i ...</td>\n",
              "    </tr>\n",
              "    <tr>\n",
              "      <th>1</th>\n",
              "      <td>15482</td>\n",
              "      <td>female</td>\n",
              "      <td>14</td>\n",
              "      <td>indUnk</td>\n",
              "      <td>Aries</td>\n",
              "      <td>i dont no y i put that as the title i j...</td>\n",
              "    </tr>\n",
              "    <tr>\n",
              "      <th>2</th>\n",
              "      <td>424170</td>\n",
              "      <td>male</td>\n",
              "      <td>25</td>\n",
              "      <td>Technology</td>\n",
              "      <td>Aries</td>\n",
              "      <td>urlLink    Pretty garden!</td>\n",
              "    </tr>\n",
              "    <tr>\n",
              "      <th>3</th>\n",
              "      <td>325140</td>\n",
              "      <td>male</td>\n",
              "      <td>27</td>\n",
              "      <td>Student</td>\n",
              "      <td>Aries</td>\n",
              "      <td>How simple to prepare a japan meal? wel...</td>\n",
              "    </tr>\n",
              "    <tr>\n",
              "      <th>4</th>\n",
              "      <td>307089</td>\n",
              "      <td>female</td>\n",
              "      <td>33</td>\n",
              "      <td>Communications-Media</td>\n",
              "      <td>Scorpio</td>\n",
              "      <td>1.  You're walking down a path. What do...</td>\n",
              "    </tr>\n",
              "    <tr>\n",
              "      <th>...</th>\n",
              "      <td>...</td>\n",
              "      <td>...</td>\n",
              "      <td>...</td>\n",
              "      <td>...</td>\n",
              "      <td>...</td>\n",
              "      <td>...</td>\n",
              "    </tr>\n",
              "    <tr>\n",
              "      <th>19995</th>\n",
              "      <td>342773</td>\n",
              "      <td>female</td>\n",
              "      <td>23</td>\n",
              "      <td>Arts</td>\n",
              "      <td>Scorpio</td>\n",
              "      <td>sorry that my posts are so short bu...</td>\n",
              "    </tr>\n",
              "    <tr>\n",
              "      <th>19996</th>\n",
              "      <td>233380</td>\n",
              "      <td>female</td>\n",
              "      <td>26</td>\n",
              "      <td>Student</td>\n",
              "      <td>Scorpio</td>\n",
              "      <td>Hi! I'm in!!! I hope Jhayne gets to blo...</td>\n",
              "    </tr>\n",
              "    <tr>\n",
              "      <th>19997</th>\n",
              "      <td>540526</td>\n",
              "      <td>male</td>\n",
              "      <td>25</td>\n",
              "      <td>Telecommunications</td>\n",
              "      <td>Libra</td>\n",
              "      <td>The Mets season opener was today an...</td>\n",
              "    </tr>\n",
              "    <tr>\n",
              "      <th>19998</th>\n",
              "      <td>132188</td>\n",
              "      <td>female</td>\n",
              "      <td>23</td>\n",
              "      <td>indUnk</td>\n",
              "      <td>Libra</td>\n",
              "      <td>Where the hell did  urlLink this festiv...</td>\n",
              "    </tr>\n",
              "    <tr>\n",
              "      <th>19999</th>\n",
              "      <td>181829</td>\n",
              "      <td>female</td>\n",
              "      <td>15</td>\n",
              "      <td>indUnk</td>\n",
              "      <td>Gemini</td>\n",
              "      <td>Well, if you want a serious a...</td>\n",
              "    </tr>\n",
              "  </tbody>\n",
              "</table>\n",
              "<p>20000 rows × 6 columns</p>\n",
              "</div>"
            ],
            "text/plain": [
              "        index  ...                                               text\n",
              "0      338750  ...             alone. sad. jaded.   three words i ...\n",
              "1       15482  ...         i dont no y i put that as the title i j...\n",
              "2      424170  ...                 urlLink    Pretty garden!         \n",
              "3      325140  ...         How simple to prepare a japan meal? wel...\n",
              "4      307089  ...         1.  You're walking down a path. What do...\n",
              "...       ...  ...                                                ...\n",
              "19995  342773  ...             sorry that my posts are so short bu...\n",
              "19996  233380  ...         Hi! I'm in!!! I hope Jhayne gets to blo...\n",
              "19997  540526  ...             The Mets season opener was today an...\n",
              "19998  132188  ...         Where the hell did  urlLink this festiv...\n",
              "19999  181829  ...                   Well, if you want a serious a...\n",
              "\n",
              "[20000 rows x 6 columns]"
            ]
          },
          "metadata": {
            "tags": []
          },
          "execution_count": 49
        }
      ]
    },
    {
      "cell_type": "code",
      "metadata": {
        "colab": {
          "base_uri": "https://localhost:8080/"
        },
        "id": "jUrJWesqMOsa",
        "outputId": "df2f81b6-3337-4119-9071-b2518c1f63f4"
      },
      "source": [
        "auth_blog_new.shape"
      ],
      "execution_count": 13,
      "outputs": [
        {
          "output_type": "execute_result",
          "data": {
            "text/plain": [
              "(20000, 5)"
            ]
          },
          "metadata": {
            "tags": []
          },
          "execution_count": 13
        }
      ]
    },
    {
      "cell_type": "markdown",
      "metadata": {
        "id": "agX7TdViGt1P"
      },
      "source": [
        "#### EDA of data:"
      ]
    },
    {
      "cell_type": "code",
      "metadata": {
        "colab": {
          "base_uri": "https://localhost:8080/"
        },
        "id": "lJ6kEMfxJFMo",
        "outputId": "94da5d7e-247f-48d9-b997-4dd6be0bc397"
      },
      "source": [
        "auth_blog_new.isnull().sum()"
      ],
      "execution_count": 50,
      "outputs": [
        {
          "output_type": "execute_result",
          "data": {
            "text/plain": [
              "gender    0\n",
              "age       0\n",
              "topic     0\n",
              "sign      0\n",
              "text      0\n",
              "dtype: int64"
            ]
          },
          "metadata": {
            "tags": []
          },
          "execution_count": 50
        }
      ]
    },
    {
      "cell_type": "code",
      "metadata": {
        "colab": {
          "base_uri": "https://localhost:8080/"
        },
        "id": "51ljvrTkGjon",
        "outputId": "9da98215-8b38-4fb9-9f31-75d4712a6c55"
      },
      "source": [
        "auth_blog_new.groupby('topic').text.count()"
      ],
      "execution_count": 51,
      "outputs": [
        {
          "output_type": "execute_result",
          "data": {
            "text/plain": [
              "topic\n",
              "Accounting                  118\n",
              "Advertising                 125\n",
              "Agriculture                  38\n",
              "Architecture                 49\n",
              "Arts                       1004\n",
              "Automotive                   38\n",
              "Banking                     114\n",
              "Biotech                      59\n",
              "BusinessServices            122\n",
              "Chemicals                    99\n",
              "Communications-Media        592\n",
              "Construction                 36\n",
              "Consulting                  170\n",
              "Education                   896\n",
              "Engineering                 352\n",
              "Environment                  21\n",
              "Fashion                     139\n",
              "Government                  211\n",
              "HumanResources               81\n",
              "Internet                    438\n",
              "InvestmentBanking            29\n",
              "Law                         273\n",
              "LawEnforcement-Security      52\n",
              "Manufacturing                81\n",
              "Maritime                     10\n",
              "Marketing                   164\n",
              "Military                     75\n",
              "Museums-Libraries            89\n",
              "Non-Profit                  416\n",
              "Publishing                  238\n",
              "RealEstate                   88\n",
              "Religion                    154\n",
              "Science                     230\n",
              "Sports-Recreation            90\n",
              "Student                    4460\n",
              "Technology                 1289\n",
              "Telecommunications          112\n",
              "Tourism                      58\n",
              "Transportation               67\n",
              "indUnk                     7323\n",
              "Name: text, dtype: int64"
            ]
          },
          "metadata": {
            "tags": []
          },
          "execution_count": 51
        }
      ]
    },
    {
      "cell_type": "code",
      "metadata": {
        "id": "EupNc8Y0HikI"
      },
      "source": [
        "#define age group\n",
        "# 13-17 group defined as 10\n",
        "# 23-27 group defined as 20\n",
        "# 33-47 group defined as 30\n",
        "ageGroup=[]\n",
        "for x in auth_blog_new.age :\n",
        "  if(x>=13 and x<=17) :\n",
        "    ageGroup.append(10)\n",
        "  elif(x>=23 and x<=27) :\n",
        "    ageGroup.append(20)\n",
        "  elif(x>=33 and x<=48) :\n",
        "    ageGroup.append(30)"
      ],
      "execution_count": 52,
      "outputs": []
    },
    {
      "cell_type": "code",
      "metadata": {
        "id": "V7bINTwGLrBS"
      },
      "source": [
        "# adding with new column\n",
        "auth_blog_new['ageGroup']=ageGroup"
      ],
      "execution_count": 53,
      "outputs": []
    },
    {
      "cell_type": "code",
      "metadata": {
        "colab": {
          "base_uri": "https://localhost:8080/"
        },
        "id": "rzPUGAIdHoj0",
        "outputId": "2a46aadb-96de-4f04-d771-3ceb6656ebff"
      },
      "source": [
        "# age group distribution\n",
        "auth_blog_new.ageGroup.value_counts()"
      ],
      "execution_count": 54,
      "outputs": [
        {
          "output_type": "execute_result",
          "data": {
            "text/plain": [
              "20    9559\n",
              "10    6834\n",
              "30    3607\n",
              "Name: ageGroup, dtype: int64"
            ]
          },
          "metadata": {
            "tags": []
          },
          "execution_count": 54
        }
      ]
    },
    {
      "cell_type": "code",
      "metadata": {
        "colab": {
          "base_uri": "https://localhost:8080/"
        },
        "id": "7NojqFa0Nk8L",
        "outputId": "e9654e05-8ea3-41aa-beda-463ad204d381"
      },
      "source": [
        "#gender distribution\n",
        "auth_blog_new.gender.value_counts()"
      ],
      "execution_count": 55,
      "outputs": [
        {
          "output_type": "execute_result",
          "data": {
            "text/plain": [
              "male      10042\n",
              "female     9958\n",
              "Name: gender, dtype: int64"
            ]
          },
          "metadata": {
            "tags": []
          },
          "execution_count": 55
        }
      ]
    },
    {
      "cell_type": "code",
      "metadata": {
        "colab": {
          "base_uri": "https://localhost:8080/"
        },
        "id": "a_Y1zFuNN1UM",
        "outputId": "b4afa1b8-625f-4bb1-c70c-f80f3543fcd8"
      },
      "source": [
        "#zodic distribution\n",
        "auth_blog_new.sign.value_counts()"
      ],
      "execution_count": 56,
      "outputs": [
        {
          "output_type": "execute_result",
          "data": {
            "text/plain": [
              "Cancer         1947\n",
              "Taurus         1869\n",
              "Libra          1859\n",
              "Aries          1853\n",
              "Virgo          1774\n",
              "Scorpio        1711\n",
              "Leo            1597\n",
              "Pisces         1533\n",
              "Capricorn      1504\n",
              "Gemini         1489\n",
              "Sagittarius    1436\n",
              "Aquarius       1428\n",
              "Name: sign, dtype: int64"
            ]
          },
          "metadata": {
            "tags": []
          },
          "execution_count": 56
        }
      ]
    },
    {
      "cell_type": "markdown",
      "metadata": {
        "id": "3tcQhOCwONV8"
      },
      "source": [
        "#### Preprocessing Text"
      ]
    },
    {
      "cell_type": "code",
      "metadata": {
        "id": "Hf1gi12lOIVS"
      },
      "source": [
        "import re"
      ],
      "execution_count": 57,
      "outputs": []
    },
    {
      "cell_type": "code",
      "metadata": {
        "id": "h6F0h6-RZTIQ"
      },
      "source": [
        "## cleaning text & removing unwanted text\n",
        "auth_blog_new['text']=auth_blog_new.text.apply(lambda x: re.sub(r'[^A-Za-z]+',' ',x))\n",
        "auth_blog_new['text']=auth_blog_new.text.apply(lambda x:x.lower())\n",
        "auth_blog_new['text']=auth_blog_new.text.apply(lambda x : x.strip())"
      ],
      "execution_count": 58,
      "outputs": []
    },
    {
      "cell_type": "code",
      "metadata": {
        "id": "8TC3qsHv2g2Z"
      },
      "source": [
        "## removing stop word from text\n",
        "stop_words = set(stopwords.words('english'))\n",
        "auth_blog_new['text']=auth_blog_new.text.apply(lambda x: ' '.join([word for word in x.split() if word not in stop_words]))"
      ],
      "execution_count": 60,
      "outputs": []
    },
    {
      "cell_type": "code",
      "metadata": {
        "id": "waaIx_8R7lLf"
      },
      "source": [
        "# stemming text\n",
        "from nltk.stem import PorterStemmer\n",
        "stemmer = PorterStemmer()\n",
        "auth_blog_new['text']=auth_blog_new.text.apply(lambda x: ' '.join([stemmer.stem(word) for word in x.split()]))"
      ],
      "execution_count": 61,
      "outputs": []
    },
    {
      "cell_type": "code",
      "metadata": {
        "colab": {
          "base_uri": "https://localhost:8080/"
        },
        "id": "oFH3r_jpafHO",
        "outputId": "992f0413-ab5f-464e-fe36-6681e254ddd3"
      },
      "source": [
        "auth_blog_new.text.head(5)"
      ],
      "execution_count": 62,
      "outputs": [
        {
          "output_type": "execute_result",
          "data": {
            "text/plain": [
              "338750    alon sad jade three word dread though appli to...\n",
              "15482     dont put titl couldnt think anyth mate r read ...\n",
              "424170                                urllink pretti garden\n",
              "325140    simpl prepar japan meal well u see miso soup i...\n",
              "307089    walk path see around deep dark forest tree thi...\n",
              "Name: text, dtype: object"
            ]
          },
          "metadata": {
            "tags": []
          },
          "execution_count": 62
        }
      ]
    },
    {
      "cell_type": "markdown",
      "metadata": {
        "id": "ZH6VJWUmG6It"
      },
      "source": [
        "#### preparing train and test data"
      ]
    },
    {
      "cell_type": "code",
      "metadata": {
        "id": "CU980rePG5Co"
      },
      "source": [
        "# merging all predictive parameter into one column\n",
        "auth_blog_new['labels']=auth_blog_new.apply(lambda col: [col['gender'],str(col['ageGroup']),col['topic'],col['sign']], axis=1)"
      ],
      "execution_count": 63,
      "outputs": []
    },
    {
      "cell_type": "code",
      "metadata": {
        "id": "8FQtJdPQHQud"
      },
      "source": [
        "# deleting all other column \n",
        "auth_blog_new.drop(['gender','age','ageGroup','topic','sign'],axis=1,inplace=True)"
      ],
      "execution_count": 64,
      "outputs": []
    },
    {
      "cell_type": "code",
      "metadata": {
        "colab": {
          "base_uri": "https://localhost:8080/",
          "height": 112
        },
        "id": "Vpgvvw4bHmvV",
        "outputId": "701cef37-1d82-489a-c115-12af7a49aa77"
      },
      "source": [
        "auth_blog_new.head(2)"
      ],
      "execution_count": 65,
      "outputs": [
        {
          "output_type": "execute_result",
          "data": {
            "text/html": [
              "<div>\n",
              "<style scoped>\n",
              "    .dataframe tbody tr th:only-of-type {\n",
              "        vertical-align: middle;\n",
              "    }\n",
              "\n",
              "    .dataframe tbody tr th {\n",
              "        vertical-align: top;\n",
              "    }\n",
              "\n",
              "    .dataframe thead th {\n",
              "        text-align: right;\n",
              "    }\n",
              "</style>\n",
              "<table border=\"1\" class=\"dataframe\">\n",
              "  <thead>\n",
              "    <tr style=\"text-align: right;\">\n",
              "      <th></th>\n",
              "      <th>text</th>\n",
              "      <th>labels</th>\n",
              "    </tr>\n",
              "  </thead>\n",
              "  <tbody>\n",
              "    <tr>\n",
              "      <th>338750</th>\n",
              "      <td>alon sad jade three word dread though appli to...</td>\n",
              "      <td>[female, 20, indUnk, Scorpio]</td>\n",
              "    </tr>\n",
              "    <tr>\n",
              "      <th>15482</th>\n",
              "      <td>dont put titl couldnt think anyth mate r read ...</td>\n",
              "      <td>[female, 10, indUnk, Aries]</td>\n",
              "    </tr>\n",
              "  </tbody>\n",
              "</table>\n",
              "</div>"
            ],
            "text/plain": [
              "                                                     text                         labels\n",
              "338750  alon sad jade three word dread though appli to...  [female, 20, indUnk, Scorpio]\n",
              "15482   dont put titl couldnt think anyth mate r read ...    [female, 10, indUnk, Aries]"
            ]
          },
          "metadata": {
            "tags": []
          },
          "execution_count": 65
        }
      ]
    },
    {
      "cell_type": "code",
      "metadata": {
        "id": "gY87L_fAMMKR"
      },
      "source": [
        "# coverting label into numeric \n",
        "multiBinry=MultiLabelBinarizer()"
      ],
      "execution_count": 69,
      "outputs": []
    },
    {
      "cell_type": "code",
      "metadata": {
        "id": "3Rgq-ddzPcBR"
      },
      "source": [
        "multiLabels=multiBinry.fit_transform(auth_blog_new.labels)"
      ],
      "execution_count": 70,
      "outputs": []
    },
    {
      "cell_type": "code",
      "metadata": {
        "id": "JFsn_9y-QWOS"
      },
      "source": [
        "feautres=auth_blog_new.text"
      ],
      "execution_count": 71,
      "outputs": []
    },
    {
      "cell_type": "code",
      "metadata": {
        "id": "e9aSSfujQ2cC"
      },
      "source": [
        "X_train,X_test,Y_train,Y_test=train_test_split(feautres,multiLabels,shuffle=True,train_size=0.75,random_state=22)"
      ],
      "execution_count": 74,
      "outputs": []
    },
    {
      "cell_type": "markdown",
      "metadata": {
        "id": "5CG8NVE69QHo"
      },
      "source": [
        "#### Define function for Vectorization"
      ]
    },
    {
      "cell_type": "code",
      "metadata": {
        "id": "VeRNn9EV9PZ0"
      },
      "source": [
        "def create_vector(df,vecName) :\n",
        "  # tf = Convert a collection of raw documents to a matrix of TF-IDF features.\n",
        "  # cv = Convert a collection of text documents to a matrix of token counts\n",
        "  if 'cv'== vecName :\n",
        "    vt = CountVectorizer()\n",
        "  elif 'tf' == vecName :\n",
        "    vt = TfidfVectorizer()\n",
        "  return vt"
      ],
      "execution_count": 43,
      "outputs": []
    },
    {
      "cell_type": "markdown",
      "metadata": {
        "id": "i-cNN-UiGkwO"
      },
      "source": [
        "##### 1. using TfidfVectorizer"
      ]
    },
    {
      "cell_type": "code",
      "metadata": {
        "id": "rWzuKwE6Addt"
      },
      "source": [
        "tf = TfidfVectorizer()"
      ],
      "execution_count": 76,
      "outputs": []
    },
    {
      "cell_type": "code",
      "metadata": {
        "id": "_WcEkYAF8SCE"
      },
      "source": [
        "X_train_tf=tf.fit_transform(X_train)\n",
        "X_test_tf=tf.transform(X_test)"
      ],
      "execution_count": 77,
      "outputs": []
    },
    {
      "cell_type": "code",
      "metadata": {
        "colab": {
          "base_uri": "https://localhost:8080/"
        },
        "id": "hh2hBxXmSi3Y",
        "outputId": "2863a54a-8677-45dd-f222-79dd252c05f8"
      },
      "source": [
        "print(X_train_tf)"
      ],
      "execution_count": 79,
      "outputs": [
        {
          "output_type": "stream",
          "text": [
            "  (0, 54928)\t0.0836543690058465\n",
            "  (0, 50723)\t0.11894114720873826\n",
            "  (0, 28086)\t0.05001247434050537\n",
            "  (0, 14046)\t0.175077772757996\n",
            "  (0, 30867)\t0.18577087850745333\n",
            "  (0, 36353)\t0.07372486500710254\n",
            "  (0, 35221)\t0.12889272156467865\n",
            "  (0, 27214)\t0.12066563653868026\n",
            "  (0, 5419)\t0.05021477164321032\n",
            "  (0, 50011)\t0.043912116843759987\n",
            "  (0, 22271)\t0.053305598534177955\n",
            "  (0, 17893)\t0.06710335471394352\n",
            "  (0, 49965)\t0.08191224598243428\n",
            "  (0, 47394)\t0.12260621889015244\n",
            "  (0, 8777)\t0.12889272156467865\n",
            "  (0, 16193)\t0.05995735070126725\n",
            "  (0, 19840)\t0.09366472001662862\n",
            "  (0, 54927)\t0.057291954951239746\n",
            "  (0, 19477)\t0.07381346195282561\n",
            "  (0, 18762)\t0.03166759349977437\n",
            "  (0, 17455)\t0.07333232699477149\n",
            "  (0, 27648)\t0.07892401419816315\n",
            "  (0, 39828)\t0.048097246734360555\n",
            "  (0, 15599)\t0.05439644234722354\n",
            "  (0, 10365)\t0.08315950497830807\n",
            "  :\t:\n",
            "  (14999, 36579)\t0.03699707142140124\n",
            "  (14999, 53072)\t0.047439341581653145\n",
            "  (14999, 53298)\t0.05653446759789411\n",
            "  (14999, 11468)\t0.03372718800143621\n",
            "  (14999, 13552)\t0.144009676901636\n",
            "  (14999, 48907)\t0.09326835305923999\n",
            "  (14999, 2046)\t0.0466782482440733\n",
            "  (14999, 28071)\t0.04246216745789207\n",
            "  (14999, 51691)\t0.08797230483894952\n",
            "  (14999, 9463)\t0.03886340108956075\n",
            "  (14999, 28336)\t0.03786175223159434\n",
            "  (14999, 29219)\t0.03567084651540303\n",
            "  (14999, 55033)\t0.10923152688285148\n",
            "  (14999, 54927)\t0.10751601466859262\n",
            "  (14999, 27848)\t0.028574547393305304\n",
            "  (14999, 3533)\t0.036884067421378675\n",
            "  (14999, 21972)\t0.04444069990408172\n",
            "  (14999, 17815)\t0.042925328265383644\n",
            "  (14999, 47764)\t0.1293689717375574\n",
            "  (14999, 47759)\t0.03986158731941885\n",
            "  (14999, 19187)\t0.028974209138503654\n",
            "  (14999, 2194)\t0.046590237922329344\n",
            "  (14999, 48814)\t0.03275298323372051\n",
            "  (14999, 52953)\t0.03541625920210376\n",
            "  (14999, 39862)\t0.06875895461480708\n"
          ],
          "name": "stdout"
        }
      ]
    },
    {
      "cell_type": "code",
      "metadata": {
        "colab": {
          "base_uri": "https://localhost:8080/"
        },
        "id": "R7vPe_AYTY_-",
        "outputId": "05907340-8bfb-4fa9-bccd-67d15b5e2b40"
      },
      "source": [
        "tf.get_feature_names()[:5]"
      ],
      "execution_count": 82,
      "outputs": [
        {
          "output_type": "execute_result",
          "data": {
            "text/plain": [
              "['aa', 'aaa', 'aaaa', 'aaaaa', 'aaaaaa']"
            ]
          },
          "metadata": {
            "tags": []
          },
          "execution_count": 82
        }
      ]
    },
    {
      "cell_type": "markdown",
      "metadata": {
        "id": "wAG98JmmS9gX"
      },
      "source": [
        "## Build with model"
      ]
    },
    {
      "cell_type": "code",
      "metadata": {
        "id": "-XElS8eLS11d"
      },
      "source": [
        "from sklearn.naive_bayes import MultinomialNB\n",
        "from sklearn.linear_model import LogisticRegression,SGDClassifier\n",
        "from sklearn.multiclass import OneVsRestClassifier\n",
        "from sklearn.metrics import accuracy_score,f1_score,recall_score\n",
        "from sklearn.ensemble import RandomForestClassifier"
      ],
      "execution_count": 98,
      "outputs": []
    },
    {
      "cell_type": "code",
      "metadata": {
        "id": "uwkE5uLyWqCd"
      },
      "source": [
        "mnb = MultinomialNB()\n",
        "lr = LogisticRegression()\n",
        "rn = RandomForestClassifier(n_estimators=100)"
      ],
      "execution_count": 99,
      "outputs": []
    },
    {
      "cell_type": "code",
      "metadata": {
        "id": "80OsvJTrYCwi"
      },
      "source": [
        "def print_score(y_pred,y_actual,clf):\n",
        "    print(\"Clf: \", clf.__class__.__name__)\n",
        "    print('accuracy score: ', accuracy_score(y_actual, y_pred))\n",
        "    print('F1 score: ', f1_score(y_actual, y_pred,average='micro'))\n",
        "    print('Average recall score: ', recall_score(y_actual, y_pred,average='micro'))\n",
        "    print(\"---\")"
      ],
      "execution_count": 96,
      "outputs": []
    },
    {
      "cell_type": "code",
      "metadata": {
        "colab": {
          "base_uri": "https://localhost:8080/"
        },
        "id": "JZIWEHPPXcTU",
        "outputId": "c8a7687b-8999-4897-f57d-4084af420203"
      },
      "source": [
        "for classifier in [lr, mnb,rn] :\n",
        "    clf = OneVsRestClassifier(classifier)\n",
        "    clf.fit(X_train_tf, Y_train)\n",
        "    y_pred = clf.predict(X_test_tf)\n",
        "    #Y_pred_inversed = multibinry.inverse_transform(y_pred)\n",
        "    #y_test_inversed = multibinry.inverse_transform(Y_test)\n",
        "    print_score(y_pred,Y_test,classifier)"
      ],
      "execution_count": null,
      "outputs": [
        {
          "output_type": "stream",
          "text": [
            "/usr/local/lib/python3.6/dist-packages/sklearn/linear_model/_logistic.py:940: ConvergenceWarning: lbfgs failed to converge (status=1):\n",
            "STOP: TOTAL NO. of ITERATIONS REACHED LIMIT.\n",
            "\n",
            "Increase the number of iterations (max_iter) or scale the data as shown in:\n",
            "    https://scikit-learn.org/stable/modules/preprocessing.html\n",
            "Please also refer to the documentation for alternative solver options:\n",
            "    https://scikit-learn.org/stable/modules/linear_model.html#logistic-regression\n",
            "  extra_warning_msg=_LOGISTIC_SOLVER_CONVERGENCE_MSG)\n"
          ],
          "name": "stderr"
        },
        {
          "output_type": "stream",
          "text": [
            "Clf:  LogisticRegression\n",
            "F1 score:  0.0012\n",
            "F1 score:  0.40709855272226053\n",
            "Average recall score:  0.29535\n",
            "---\n",
            "Clf:  MultinomialNB\n",
            "F1 score:  0.0004\n",
            "F1 score:  0.33845697988814405\n",
            "Average recall score:  0.22845\n",
            "---\n"
          ],
          "name": "stdout"
        }
      ]
    }
  ]
}