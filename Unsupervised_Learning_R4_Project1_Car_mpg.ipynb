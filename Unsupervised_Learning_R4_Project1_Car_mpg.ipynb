{
  "nbformat": 4,
  "nbformat_minor": 0,
  "metadata": {
    "colab": {
      "name": "Unsupervised Learning_R4_Project1_Car mpg.ipynb",
      "provenance": [],
      "collapsed_sections": []
    },
    "kernelspec": {
      "name": "python3",
      "display_name": "Python 3"
    }
  },
  "cells": [
    {
      "cell_type": "code",
      "metadata": {
        "id": "ukG7giHOZZrF",
        "colab_type": "code",
        "colab": {
          "base_uri": "https://localhost:8080/",
          "height": 128
        },
        "outputId": "6f9cd2bb-b7c8-47aa-f033-1ab3400b9791"
      },
      "source": [
        "from google.colab import drive\n",
        "drive.mount('/content/drive')\n"
      ],
      "execution_count": 6,
      "outputs": [
        {
          "output_type": "stream",
          "text": [
            "Go to this URL in a browser: https://accounts.google.com/o/oauth2/auth?client_id=947318989803-6bn6qk8qdgf4n4g3pfee6491hc0brc4i.apps.googleusercontent.com&redirect_uri=urn%3Aietf%3Awg%3Aoauth%3A2.0%3Aoob&scope=email%20https%3A%2F%2Fwww.googleapis.com%2Fauth%2Fdocs.test%20https%3A%2F%2Fwww.googleapis.com%2Fauth%2Fdrive%20https%3A%2F%2Fwww.googleapis.com%2Fauth%2Fdrive.photos.readonly%20https%3A%2F%2Fwww.googleapis.com%2Fauth%2Fpeopleapi.readonly&response_type=code\n",
            "\n",
            "Enter your authorization code:\n",
            "··········\n",
            "Mounted at /content/drive\n"
          ],
          "name": "stdout"
        }
      ]
    },
    {
      "cell_type": "code",
      "metadata": {
        "id": "9PJfMuEta1IE",
        "colab_type": "code",
        "colab": {}
      },
      "source": [
        "import numpy as np\n",
        "import pandas as pd\n",
        "import matplotlib.pyplot as plt\n",
        "import seaborn as sns\n",
        "%matplotlib inline\n",
        "import warnings\n",
        "warnings.filterwarnings('ignore')\n",
        "from sklearn.model_selection import train_test_split\n",
        "from sklearn.cluster import KMeans,AgglomerativeClustering\n",
        "from scipy.cluster.hierarchy import fcluster\n",
        "from sklearn.metrics import silhouette_score,silhouette_samples\n",
        "from scipy.stats import zscore \n",
        "from scipy.cluster.hierarchy import cophenet, dendrogram, linkage\n",
        "from sklearn.datasets import make_blobs\n",
        "from scipy.spatial.distance import pdist\n",
        "from sklearn.linear_model import LinearRegression\n",
        "#from sklearn.metrics import confusion_matrix,classification_report,accuracy_score,roc_auc_score,roc_curve,auc"
      ],
      "execution_count": 0,
      "outputs": []
    },
    {
      "cell_type": "code",
      "metadata": {
        "id": "kTBWkgIpbNkl",
        "colab_type": "code",
        "colab": {}
      },
      "source": [
        "car_df=pd.read_csv(\n",
        "    '/content/drive/My Drive/AI_ML_CLass/Assignments/external/unsupervisedLearning/Project1/cars-dataset.csv')"
      ],
      "execution_count": 0,
      "outputs": []
    },
    {
      "cell_type": "code",
      "metadata": {
        "id": "z2zhJ-Jmdk2K",
        "colab_type": "code",
        "outputId": "6f0de68d-ac5a-4c0b-edef-0a1e91356b83",
        "colab": {
          "base_uri": "https://localhost:8080/",
          "height": 35
        }
      },
      "source": [
        "car_df.shape"
      ],
      "execution_count": 4,
      "outputs": [
        {
          "output_type": "execute_result",
          "data": {
            "text/plain": [
              "(398, 8)"
            ]
          },
          "metadata": {
            "tags": []
          },
          "execution_count": 4
        }
      ]
    },
    {
      "cell_type": "code",
      "metadata": {
        "id": "_Os45o6Yy2aW",
        "colab_type": "code",
        "outputId": "b9d55446-6cb6-4577-dd1e-f9351f6004a0",
        "colab": {
          "base_uri": "https://localhost:8080/",
          "height": 206
        }
      },
      "source": [
        "# printing random values\n",
        "randm=np.random.randint(0,399,5)\n",
        "car_df.iloc[randm]"
      ],
      "execution_count": 5,
      "outputs": [
        {
          "output_type": "execute_result",
          "data": {
            "text/html": [
              "<div>\n",
              "<style scoped>\n",
              "    .dataframe tbody tr th:only-of-type {\n",
              "        vertical-align: middle;\n",
              "    }\n",
              "\n",
              "    .dataframe tbody tr th {\n",
              "        vertical-align: top;\n",
              "    }\n",
              "\n",
              "    .dataframe thead th {\n",
              "        text-align: right;\n",
              "    }\n",
              "</style>\n",
              "<table border=\"1\" class=\"dataframe\">\n",
              "  <thead>\n",
              "    <tr style=\"text-align: right;\">\n",
              "      <th></th>\n",
              "      <th>car name</th>\n",
              "      <th>cyl</th>\n",
              "      <th>disp</th>\n",
              "      <th>hp</th>\n",
              "      <th>wt</th>\n",
              "      <th>acc</th>\n",
              "      <th>yr</th>\n",
              "      <th>mpg</th>\n",
              "    </tr>\n",
              "  </thead>\n",
              "  <tbody>\n",
              "    <tr>\n",
              "      <th>127</th>\n",
              "      <td>amc hornet</td>\n",
              "      <td>6</td>\n",
              "      <td>232.0</td>\n",
              "      <td>100</td>\n",
              "      <td>2901</td>\n",
              "      <td>16.0</td>\n",
              "      <td>74</td>\n",
              "      <td>19.0</td>\n",
              "    </tr>\n",
              "    <tr>\n",
              "      <th>252</th>\n",
              "      <td>pontiac phoenix lj</td>\n",
              "      <td>6</td>\n",
              "      <td>231.0</td>\n",
              "      <td>105</td>\n",
              "      <td>3535</td>\n",
              "      <td>19.2</td>\n",
              "      <td>78</td>\n",
              "      <td>19.2</td>\n",
              "    </tr>\n",
              "    <tr>\n",
              "      <th>275</th>\n",
              "      <td>volvo 264gl</td>\n",
              "      <td>6</td>\n",
              "      <td>163.0</td>\n",
              "      <td>125</td>\n",
              "      <td>3140</td>\n",
              "      <td>13.6</td>\n",
              "      <td>78</td>\n",
              "      <td>17.0</td>\n",
              "    </tr>\n",
              "    <tr>\n",
              "      <th>6</th>\n",
              "      <td>chevrolet impala</td>\n",
              "      <td>8</td>\n",
              "      <td>454.0</td>\n",
              "      <td>220</td>\n",
              "      <td>4354</td>\n",
              "      <td>9.0</td>\n",
              "      <td>70</td>\n",
              "      <td>14.0</td>\n",
              "    </tr>\n",
              "    <tr>\n",
              "      <th>326</th>\n",
              "      <td>vw dasher (diesel)</td>\n",
              "      <td>4</td>\n",
              "      <td>90.0</td>\n",
              "      <td>48</td>\n",
              "      <td>2335</td>\n",
              "      <td>23.7</td>\n",
              "      <td>80</td>\n",
              "      <td>43.4</td>\n",
              "    </tr>\n",
              "  </tbody>\n",
              "</table>\n",
              "</div>"
            ],
            "text/plain": [
              "               car name  cyl   disp   hp    wt   acc  yr   mpg\n",
              "127          amc hornet    6  232.0  100  2901  16.0  74  19.0\n",
              "252  pontiac phoenix lj    6  231.0  105  3535  19.2  78  19.2\n",
              "275         volvo 264gl    6  163.0  125  3140  13.6  78  17.0\n",
              "6      chevrolet impala    8  454.0  220  4354   9.0  70  14.0\n",
              "326  vw dasher (diesel)    4   90.0   48  2335  23.7  80  43.4"
            ]
          },
          "metadata": {
            "tags": []
          },
          "execution_count": 5
        }
      ]
    },
    {
      "cell_type": "code",
      "metadata": {
        "id": "GHrF-wGIz-D6",
        "colab_type": "code",
        "outputId": "006c837b-2cd9-4d15-d58c-0c114b1a163d",
        "colab": {
          "base_uri": "https://localhost:8080/",
          "height": 254
        }
      },
      "source": [
        "car_df.info()"
      ],
      "execution_count": 0,
      "outputs": [
        {
          "output_type": "stream",
          "text": [
            "<class 'pandas.core.frame.DataFrame'>\n",
            "RangeIndex: 398 entries, 0 to 397\n",
            "Data columns (total 8 columns):\n",
            "car name    398 non-null object\n",
            "cyl         398 non-null int64\n",
            "disp        398 non-null float64\n",
            "hp          398 non-null object\n",
            "wt          398 non-null int64\n",
            "acc         398 non-null float64\n",
            "yr          398 non-null int64\n",
            "mpg         398 non-null float64\n",
            "dtypes: float64(3), int64(3), object(2)\n",
            "memory usage: 25.0+ KB\n"
          ],
          "name": "stdout"
        }
      ]
    },
    {
      "cell_type": "code",
      "metadata": {
        "id": "ue27wUAJ5GcH",
        "colab_type": "code",
        "colab": {}
      },
      "source": [
        "# converting non numeric data of hp column to null value\n",
        "car_df.hp=pd.to_numeric(car_df.hp,errors='coerce')"
      ],
      "execution_count": 0,
      "outputs": []
    },
    {
      "cell_type": "code",
      "metadata": {
        "id": "htQQIonaeim0",
        "colab_type": "code",
        "colab": {}
      },
      "source": [
        "car_df.mpg=pd.to_numeric(car_df.mpg,errors='coerce')"
      ],
      "execution_count": 0,
      "outputs": []
    },
    {
      "cell_type": "code",
      "metadata": {
        "id": "oTJXMWWjeveM",
        "colab_type": "code",
        "colab": {
          "base_uri": "https://localhost:8080/",
          "height": 53
        },
        "outputId": "1f6c052a-df15-49e4-ca1b-0dd5071774c8"
      },
      "source": [
        "car_df.mpg.isnull().value_counts()"
      ],
      "execution_count": 44,
      "outputs": [
        {
          "output_type": "execute_result",
          "data": {
            "text/plain": [
              "False    392\n",
              "Name: mpg, dtype: int64"
            ]
          },
          "metadata": {
            "tags": []
          },
          "execution_count": 44
        }
      ]
    },
    {
      "cell_type": "code",
      "metadata": {
        "id": "r8dNHga55NL7",
        "colab_type": "code",
        "outputId": "00af2fca-2ae2-489a-e498-de00b719c618",
        "colab": {
          "base_uri": "https://localhost:8080/",
          "height": 72
        }
      },
      "source": [
        "car_df.hp.isnull().value_counts()"
      ],
      "execution_count": 0,
      "outputs": [
        {
          "output_type": "execute_result",
          "data": {
            "text/plain": [
              "False    392\n",
              "True       6\n",
              "Name: hp, dtype: int64"
            ]
          },
          "metadata": {
            "tags": []
          },
          "execution_count": 5
        }
      ]
    },
    {
      "cell_type": "code",
      "metadata": {
        "id": "hPOCMUytXijY",
        "colab_type": "code",
        "outputId": "b0522ac6-e3b5-47df-c67f-0060f14f0f03",
        "colab": {
          "base_uri": "https://localhost:8080/",
          "height": 300
        }
      },
      "source": [
        "car_df.describe()"
      ],
      "execution_count": 0,
      "outputs": [
        {
          "output_type": "execute_result",
          "data": {
            "text/html": [
              "<div>\n",
              "<style scoped>\n",
              "    .dataframe tbody tr th:only-of-type {\n",
              "        vertical-align: middle;\n",
              "    }\n",
              "\n",
              "    .dataframe tbody tr th {\n",
              "        vertical-align: top;\n",
              "    }\n",
              "\n",
              "    .dataframe thead th {\n",
              "        text-align: right;\n",
              "    }\n",
              "</style>\n",
              "<table border=\"1\" class=\"dataframe\">\n",
              "  <thead>\n",
              "    <tr style=\"text-align: right;\">\n",
              "      <th></th>\n",
              "      <th>cyl</th>\n",
              "      <th>disp</th>\n",
              "      <th>hp</th>\n",
              "      <th>wt</th>\n",
              "      <th>acc</th>\n",
              "      <th>yr</th>\n",
              "      <th>mpg</th>\n",
              "    </tr>\n",
              "  </thead>\n",
              "  <tbody>\n",
              "    <tr>\n",
              "      <th>count</th>\n",
              "      <td>398.000000</td>\n",
              "      <td>398.000000</td>\n",
              "      <td>392.000000</td>\n",
              "      <td>398.000000</td>\n",
              "      <td>398.000000</td>\n",
              "      <td>398.000000</td>\n",
              "      <td>398.000000</td>\n",
              "    </tr>\n",
              "    <tr>\n",
              "      <th>mean</th>\n",
              "      <td>5.454774</td>\n",
              "      <td>193.425879</td>\n",
              "      <td>104.469388</td>\n",
              "      <td>2970.424623</td>\n",
              "      <td>15.568090</td>\n",
              "      <td>76.010050</td>\n",
              "      <td>23.514573</td>\n",
              "    </tr>\n",
              "    <tr>\n",
              "      <th>std</th>\n",
              "      <td>1.701004</td>\n",
              "      <td>104.269838</td>\n",
              "      <td>38.491160</td>\n",
              "      <td>846.841774</td>\n",
              "      <td>2.757689</td>\n",
              "      <td>3.697627</td>\n",
              "      <td>7.815984</td>\n",
              "    </tr>\n",
              "    <tr>\n",
              "      <th>min</th>\n",
              "      <td>3.000000</td>\n",
              "      <td>68.000000</td>\n",
              "      <td>46.000000</td>\n",
              "      <td>1613.000000</td>\n",
              "      <td>8.000000</td>\n",
              "      <td>70.000000</td>\n",
              "      <td>9.000000</td>\n",
              "    </tr>\n",
              "    <tr>\n",
              "      <th>25%</th>\n",
              "      <td>4.000000</td>\n",
              "      <td>104.250000</td>\n",
              "      <td>75.000000</td>\n",
              "      <td>2223.750000</td>\n",
              "      <td>13.825000</td>\n",
              "      <td>73.000000</td>\n",
              "      <td>17.500000</td>\n",
              "    </tr>\n",
              "    <tr>\n",
              "      <th>50%</th>\n",
              "      <td>4.000000</td>\n",
              "      <td>148.500000</td>\n",
              "      <td>93.500000</td>\n",
              "      <td>2803.500000</td>\n",
              "      <td>15.500000</td>\n",
              "      <td>76.000000</td>\n",
              "      <td>23.000000</td>\n",
              "    </tr>\n",
              "    <tr>\n",
              "      <th>75%</th>\n",
              "      <td>8.000000</td>\n",
              "      <td>262.000000</td>\n",
              "      <td>126.000000</td>\n",
              "      <td>3608.000000</td>\n",
              "      <td>17.175000</td>\n",
              "      <td>79.000000</td>\n",
              "      <td>29.000000</td>\n",
              "    </tr>\n",
              "    <tr>\n",
              "      <th>max</th>\n",
              "      <td>8.000000</td>\n",
              "      <td>455.000000</td>\n",
              "      <td>230.000000</td>\n",
              "      <td>5140.000000</td>\n",
              "      <td>24.800000</td>\n",
              "      <td>82.000000</td>\n",
              "      <td>46.600000</td>\n",
              "    </tr>\n",
              "  </tbody>\n",
              "</table>\n",
              "</div>"
            ],
            "text/plain": [
              "              cyl        disp          hp  ...         acc          yr         mpg\n",
              "count  398.000000  398.000000  392.000000  ...  398.000000  398.000000  398.000000\n",
              "mean     5.454774  193.425879  104.469388  ...   15.568090   76.010050   23.514573\n",
              "std      1.701004  104.269838   38.491160  ...    2.757689    3.697627    7.815984\n",
              "min      3.000000   68.000000   46.000000  ...    8.000000   70.000000    9.000000\n",
              "25%      4.000000  104.250000   75.000000  ...   13.825000   73.000000   17.500000\n",
              "50%      4.000000  148.500000   93.500000  ...   15.500000   76.000000   23.000000\n",
              "75%      8.000000  262.000000  126.000000  ...   17.175000   79.000000   29.000000\n",
              "max      8.000000  455.000000  230.000000  ...   24.800000   82.000000   46.600000\n",
              "\n",
              "[8 rows x 7 columns]"
            ]
          },
          "metadata": {
            "tags": []
          },
          "execution_count": 12
        }
      ]
    },
    {
      "cell_type": "code",
      "metadata": {
        "id": "512Gr7t-r4Bk",
        "colab_type": "code",
        "colab": {}
      },
      "source": [
        "#Dropping row who having null value\n",
        "car_df=car_df.drop(car_df[car_df.hp.isnull()==True].index)"
      ],
      "execution_count": 0,
      "outputs": []
    },
    {
      "cell_type": "code",
      "metadata": {
        "id": "Byi03SFZ5adg",
        "colab_type": "code",
        "outputId": "d5603178-a330-490a-da40-7fc266306a57",
        "colab": {
          "base_uri": "https://localhost:8080/",
          "height": 35
        }
      },
      "source": [
        "car_df.shape"
      ],
      "execution_count": 0,
      "outputs": [
        {
          "output_type": "execute_result",
          "data": {
            "text/plain": [
              "(392, 8)"
            ]
          },
          "metadata": {
            "tags": []
          },
          "execution_count": 60
        }
      ]
    },
    {
      "cell_type": "code",
      "metadata": {
        "id": "9tJChD585put",
        "colab_type": "code",
        "outputId": "45aee26f-a2c6-4951-ca18-1b0126ae749b",
        "colab": {
          "base_uri": "https://localhost:8080/",
          "height": 300
        }
      },
      "source": [
        "car_df.describe()"
      ],
      "execution_count": 0,
      "outputs": [
        {
          "output_type": "execute_result",
          "data": {
            "text/html": [
              "<div>\n",
              "<style scoped>\n",
              "    .dataframe tbody tr th:only-of-type {\n",
              "        vertical-align: middle;\n",
              "    }\n",
              "\n",
              "    .dataframe tbody tr th {\n",
              "        vertical-align: top;\n",
              "    }\n",
              "\n",
              "    .dataframe thead th {\n",
              "        text-align: right;\n",
              "    }\n",
              "</style>\n",
              "<table border=\"1\" class=\"dataframe\">\n",
              "  <thead>\n",
              "    <tr style=\"text-align: right;\">\n",
              "      <th></th>\n",
              "      <th>cyl</th>\n",
              "      <th>disp</th>\n",
              "      <th>hp</th>\n",
              "      <th>wt</th>\n",
              "      <th>acc</th>\n",
              "      <th>yr</th>\n",
              "      <th>mpg</th>\n",
              "    </tr>\n",
              "  </thead>\n",
              "  <tbody>\n",
              "    <tr>\n",
              "      <th>count</th>\n",
              "      <td>392.000000</td>\n",
              "      <td>392.000000</td>\n",
              "      <td>392.000000</td>\n",
              "      <td>392.000000</td>\n",
              "      <td>392.000000</td>\n",
              "      <td>392.000000</td>\n",
              "      <td>392.000000</td>\n",
              "    </tr>\n",
              "    <tr>\n",
              "      <th>mean</th>\n",
              "      <td>5.471939</td>\n",
              "      <td>194.411990</td>\n",
              "      <td>104.469388</td>\n",
              "      <td>2977.584184</td>\n",
              "      <td>15.541327</td>\n",
              "      <td>75.979592</td>\n",
              "      <td>23.445918</td>\n",
              "    </tr>\n",
              "    <tr>\n",
              "      <th>std</th>\n",
              "      <td>1.705783</td>\n",
              "      <td>104.644004</td>\n",
              "      <td>38.491160</td>\n",
              "      <td>849.402560</td>\n",
              "      <td>2.758864</td>\n",
              "      <td>3.683737</td>\n",
              "      <td>7.805007</td>\n",
              "    </tr>\n",
              "    <tr>\n",
              "      <th>min</th>\n",
              "      <td>3.000000</td>\n",
              "      <td>68.000000</td>\n",
              "      <td>46.000000</td>\n",
              "      <td>1613.000000</td>\n",
              "      <td>8.000000</td>\n",
              "      <td>70.000000</td>\n",
              "      <td>9.000000</td>\n",
              "    </tr>\n",
              "    <tr>\n",
              "      <th>25%</th>\n",
              "      <td>4.000000</td>\n",
              "      <td>105.000000</td>\n",
              "      <td>75.000000</td>\n",
              "      <td>2225.250000</td>\n",
              "      <td>13.775000</td>\n",
              "      <td>73.000000</td>\n",
              "      <td>17.000000</td>\n",
              "    </tr>\n",
              "    <tr>\n",
              "      <th>50%</th>\n",
              "      <td>4.000000</td>\n",
              "      <td>151.000000</td>\n",
              "      <td>93.500000</td>\n",
              "      <td>2803.500000</td>\n",
              "      <td>15.500000</td>\n",
              "      <td>76.000000</td>\n",
              "      <td>22.750000</td>\n",
              "    </tr>\n",
              "    <tr>\n",
              "      <th>75%</th>\n",
              "      <td>8.000000</td>\n",
              "      <td>275.750000</td>\n",
              "      <td>126.000000</td>\n",
              "      <td>3614.750000</td>\n",
              "      <td>17.025000</td>\n",
              "      <td>79.000000</td>\n",
              "      <td>29.000000</td>\n",
              "    </tr>\n",
              "    <tr>\n",
              "      <th>max</th>\n",
              "      <td>8.000000</td>\n",
              "      <td>455.000000</td>\n",
              "      <td>230.000000</td>\n",
              "      <td>5140.000000</td>\n",
              "      <td>24.800000</td>\n",
              "      <td>82.000000</td>\n",
              "      <td>46.600000</td>\n",
              "    </tr>\n",
              "  </tbody>\n",
              "</table>\n",
              "</div>"
            ],
            "text/plain": [
              "              cyl        disp          hp  ...         acc          yr         mpg\n",
              "count  392.000000  392.000000  392.000000  ...  392.000000  392.000000  392.000000\n",
              "mean     5.471939  194.411990  104.469388  ...   15.541327   75.979592   23.445918\n",
              "std      1.705783  104.644004   38.491160  ...    2.758864    3.683737    7.805007\n",
              "min      3.000000   68.000000   46.000000  ...    8.000000   70.000000    9.000000\n",
              "25%      4.000000  105.000000   75.000000  ...   13.775000   73.000000   17.000000\n",
              "50%      4.000000  151.000000   93.500000  ...   15.500000   76.000000   22.750000\n",
              "75%      8.000000  275.750000  126.000000  ...   17.025000   79.000000   29.000000\n",
              "max      8.000000  455.000000  230.000000  ...   24.800000   82.000000   46.600000\n",
              "\n",
              "[8 rows x 7 columns]"
            ]
          },
          "metadata": {
            "tags": []
          },
          "execution_count": 30
        }
      ]
    },
    {
      "cell_type": "markdown",
      "metadata": {
        "id": "K9w2JND-_26V",
        "colab_type": "text"
      },
      "source": [
        "## Univariate Analysis"
      ]
    },
    {
      "cell_type": "markdown",
      "metadata": {
        "id": "CBSFg3Z-_Q0z",
        "colab_type": "text"
      },
      "source": [
        "* We  can see no significant change in dataset after removing null value. "
      ]
    },
    {
      "cell_type": "code",
      "metadata": {
        "id": "DknnxHRSABVO",
        "colab_type": "code",
        "colab": {
          "base_uri": "https://localhost:8080/",
          "height": 627
        },
        "outputId": "3dd31619-4e1f-40e6-f382-328337369c24"
      },
      "source": [
        "# first see distribution\n",
        "plotCofig, axes = plt.subplots(nrows=2,ncols = 3, figsize=(15, 10))\n",
        "\n",
        "#plt.title('Histogram of MDVP:Fo(Hz)')\n",
        "#plt.xlabel('MDVP:Fo(Hz)')\n",
        "#sns.distplot(car_df['car name'],ax=axes[0,0])\n",
        "sns.distplot(car_df['cyl'],ax=axes[0,0])\n",
        "sns.distplot(car_df['disp'],ax=axes[0,1])\n",
        "sns.distplot(car_df['hp'],ax=axes[0,2])\n",
        "sns.distplot(car_df['wt'],ax=axes[1,0])\n",
        "sns.distplot(car_df['yr'],ax=axes[1,1])\n",
        "sns.distplot(car_df['mpg'],ax=axes[1,2])"
      ],
      "execution_count": 42,
      "outputs": [
        {
          "output_type": "execute_result",
          "data": {
            "text/plain": [
              "<matplotlib.axes._subplots.AxesSubplot at 0x7fdb218af860>"
            ]
          },
          "metadata": {
            "tags": []
          },
          "execution_count": 42
        },
        {
          "output_type": "display_data",
          "data": {
            "image/png": "[encoded data removed]",
            "text/plain": [
              "<Figure size 1080x720 with 6 Axes>"
            ]
          },
          "metadata": {
            "tags": []
          }
        }
      ]
    },
    {
      "cell_type": "code",
      "metadata": {
        "id": "mwqg9k6tB3ve",
        "colab_type": "code",
        "colab": {
          "base_uri": "https://localhost:8080/",
          "height": 627
        },
        "outputId": "32d85c0e-d28a-4ba8-8980-5d49f32d0d92"
      },
      "source": [
        "# boxplot analysis\n",
        "plotCofig, axes = plt.subplots(nrows=2,ncols = 3, figsize=(15, 10))\n",
        "sns.boxplot(car_df['cyl'],ax=axes[0,0])\n",
        "sns.boxplot(car_df['disp'],ax=axes[0,1])\n",
        "sns.boxplot(car_df['hp'],ax=axes[0,2])\n",
        "sns.boxplot(car_df['wt'],ax=axes[1,0])\n",
        "sns.boxplot(car_df['yr'],ax=axes[1,1])\n",
        "sns.boxplot(car_df['mpg'],ax=axes[1,2])"
      ],
      "execution_count": 44,
      "outputs": [
        {
          "output_type": "execute_result",
          "data": {
            "text/plain": [
              "<matplotlib.axes._subplots.AxesSubplot at 0x7fdb215cb0b8>"
            ]
          },
          "metadata": {
            "tags": []
          },
          "execution_count": 44
        },
        {
          "output_type": "display_data",
          "data": {
            "image/png": "[encoded data removed]",
            "text/plain": [
              "<Figure size 1080x720 with 6 Axes>"
            ]
          },
          "metadata": {
            "tags": []
          }
        }
      ]
    },
    {
      "cell_type": "markdown",
      "metadata": {
        "id": "nwvy-3H0CcEn",
        "colab_type": "text"
      },
      "source": [
        "### Univariate EDA\n",
        "* There are 2 or 3 gaussians curv after looking histogram graph.\n",
        "* Data-set is not distributed normally.Some have mutiple mutiple local maxima.\n",
        "* Feature column Hp having many outliner datapoints at right side.\n",
        "* Distribution of feture column mpg, dis are in right skewed."
      ]
    },
    {
      "cell_type": "markdown",
      "metadata": {
        "id": "O8Rwj-BlIXCR",
        "colab_type": "text"
      },
      "source": [
        "# Bivariate "
      ]
    },
    {
      "cell_type": "code",
      "metadata": {
        "id": "4lvdAyOTIdq8",
        "colab_type": "code",
        "colab": {
          "base_uri": "https://localhost:8080/",
          "height": 341
        },
        "outputId": "6821bcab-307e-419f-ef48-690d1b45d644"
      },
      "source": [
        "# First, looking correlation between features:\n",
        "plt.figure(figsize=(15, 5))\n",
        "sns.heatmap(car_df.corr(),annot=True)"
      ],
      "execution_count": 47,
      "outputs": [
        {
          "output_type": "execute_result",
          "data": {
            "text/plain": [
              "<matplotlib.axes._subplots.AxesSubplot at 0x7fdb1ff91a90>"
            ]
          },
          "metadata": {
            "tags": []
          },
          "execution_count": 47
        },
        {
          "output_type": "display_data",
          "data": {
            "image/png": "[encoded data removed]",
            "text/plain": [
              "<Figure size 1080x360 with 2 Axes>"
            ]
          },
          "metadata": {
            "tags": []
          }
        }
      ]
    },
    {
      "cell_type": "markdown",
      "metadata": {
        "id": "poVQdvv1JNYY",
        "colab_type": "text"
      },
      "source": [
        "### Heat map Observation\n",
        "* By looking heat map, most of feture column are not independent.They are dependent to each other.\n",
        "* Some having very high positive corrletion or negative correlation.\n",
        "* feture column displacement is highly correlated with no of cylinder,horse power,weight and mpg.\n",
        "* same thing happening between other column also. Like Mpg vs cyl,weight vs hp."
      ]
    },
    {
      "cell_type": "code",
      "metadata": {
        "id": "WTHMjwEEyqmD",
        "colab_type": "code",
        "colab": {}
      },
      "source": [
        "# Prepare car data set which does not have car name and year.\n",
        "#(['cyl','disp','hp','wt','acc','yr','mpg'])\n",
        "car_df_new=car_df.loc[:,['cyl','disp','hp','wt','acc','yr','mpg']]\n",
        "# since euclidian distance will calculated,it is goog to do normailization using zscore\n",
        "car_df_z=car_df_new.apply(zscore)\n",
        "car_df_z2=car_df_new.apply(zscore)"
      ],
      "execution_count": 0,
      "outputs": []
    },
    {
      "cell_type": "code",
      "metadata": {
        "id": "eP0i-1QiXSEI",
        "colab_type": "code",
        "colab": {}
      },
      "source": [
        "# K-Mean Cluster\n",
        "cluster_range = range( 2, 10)  \n",
        " # expect 3 to four clusters from the pair panel visual inspection hence restricting from 2 to 6\n",
        "cluster_errors = []\n",
        "cluster_sil_scores = []\n",
        "for num_clusters in cluster_range:\n",
        "  clusters = KMeans( num_clusters, n_init = 5)\n",
        "  clusters.fit(car_df_z)\n",
        "  labels = clusters.labels_                     # capture the cluster lables\n",
        "  centroids = clusters.cluster_centers_         # capture the centroids\n",
        "  cluster_errors.append( clusters.inertia_ )    # capture the intertia\n",
        "  cluster_sil_scores.append(silhouette_score(car_df_z, labels, metric='euclidean'))"
      ],
      "execution_count": 0,
      "outputs": []
    },
    {
      "cell_type": "code",
      "metadata": {
        "id": "icCRGk5M0YDV",
        "colab_type": "code",
        "colab": {}
      },
      "source": [
        "clusters_df = pd.DataFrame( { \"num_clusters\":cluster_range, \"cluster_errors\": cluster_errors , \n",
        "                             \"Avg Sil Score\": cluster_sil_scores } )"
      ],
      "execution_count": 0,
      "outputs": []
    },
    {
      "cell_type": "code",
      "metadata": {
        "id": "1ZsbtJXxbQN_",
        "colab_type": "code",
        "colab": {
          "base_uri": "https://localhost:8080/",
          "height": 300
        },
        "outputId": "30d6c46e-4cbe-4cd3-e03a-d480086959e9"
      },
      "source": [
        "clusters_df.head(10)"
      ],
      "execution_count": 55,
      "outputs": [
        {
          "output_type": "execute_result",
          "data": {
            "text/html": [
              "<div>\n",
              "<style scoped>\n",
              "    .dataframe tbody tr th:only-of-type {\n",
              "        vertical-align: middle;\n",
              "    }\n",
              "\n",
              "    .dataframe tbody tr th {\n",
              "        vertical-align: top;\n",
              "    }\n",
              "\n",
              "    .dataframe thead th {\n",
              "        text-align: right;\n",
              "    }\n",
              "</style>\n",
              "<table border=\"1\" class=\"dataframe\">\n",
              "  <thead>\n",
              "    <tr style=\"text-align: right;\">\n",
              "      <th></th>\n",
              "      <th>num_clusters</th>\n",
              "      <th>cluster_errors</th>\n",
              "      <th>Avg Sil Score</th>\n",
              "    </tr>\n",
              "  </thead>\n",
              "  <tbody>\n",
              "    <tr>\n",
              "      <th>0</th>\n",
              "      <td>2</td>\n",
              "      <td>1272.900760</td>\n",
              "      <td>0.481209</td>\n",
              "    </tr>\n",
              "    <tr>\n",
              "      <th>1</th>\n",
              "      <td>3</td>\n",
              "      <td>928.617487</td>\n",
              "      <td>0.354494</td>\n",
              "    </tr>\n",
              "    <tr>\n",
              "      <th>2</th>\n",
              "      <td>4</td>\n",
              "      <td>725.327184</td>\n",
              "      <td>0.348754</td>\n",
              "    </tr>\n",
              "    <tr>\n",
              "      <th>3</th>\n",
              "      <td>5</td>\n",
              "      <td>656.367063</td>\n",
              "      <td>0.308923</td>\n",
              "    </tr>\n",
              "    <tr>\n",
              "      <th>4</th>\n",
              "      <td>6</td>\n",
              "      <td>587.822599</td>\n",
              "      <td>0.293003</td>\n",
              "    </tr>\n",
              "    <tr>\n",
              "      <th>5</th>\n",
              "      <td>7</td>\n",
              "      <td>533.955221</td>\n",
              "      <td>0.268451</td>\n",
              "    </tr>\n",
              "    <tr>\n",
              "      <th>6</th>\n",
              "      <td>8</td>\n",
              "      <td>488.025375</td>\n",
              "      <td>0.269790</td>\n",
              "    </tr>\n",
              "    <tr>\n",
              "      <th>7</th>\n",
              "      <td>9</td>\n",
              "      <td>446.579559</td>\n",
              "      <td>0.267346</td>\n",
              "    </tr>\n",
              "  </tbody>\n",
              "</table>\n",
              "</div>"
            ],
            "text/plain": [
              "   num_clusters  cluster_errors  Avg Sil Score\n",
              "0             2     1272.900760       0.481209\n",
              "1             3      928.617487       0.354494\n",
              "2             4      725.327184       0.348754\n",
              "3             5      656.367063       0.308923\n",
              "4             6      587.822599       0.293003\n",
              "5             7      533.955221       0.268451\n",
              "6             8      488.025375       0.269790\n",
              "7             9      446.579559       0.267346"
            ]
          },
          "metadata": {
            "tags": []
          },
          "execution_count": 55
        }
      ]
    },
    {
      "cell_type": "code",
      "metadata": {
        "id": "JExP6V1U0IMx",
        "colab_type": "code",
        "outputId": "b2d2a3e6-ef3e-45ee-b3a8-aa33be3b0c19",
        "colab": {
          "base_uri": "https://localhost:8080/",
          "height": 396
        }
      },
      "source": [
        "plt.figure(figsize=(12,6))\n",
        "plt.plot( clusters_df.num_clusters, clusters_df.cluster_errors, marker = \"o\" )"
      ],
      "execution_count": 56,
      "outputs": [
        {
          "output_type": "execute_result",
          "data": {
            "text/plain": [
              "[<matplotlib.lines.Line2D at 0x7fdb1fcfaf98>]"
            ]
          },
          "metadata": {
            "tags": []
          },
          "execution_count": 56
        },
        {
          "output_type": "display_data",
          "data": {
            "image/png": "[encoded data removed]",
            "text/plain": [
              "<Figure size 864x432 with 1 Axes>"
            ]
          },
          "metadata": {
            "tags": []
          }
        }
      ]
    },
    {
      "cell_type": "code",
      "metadata": {
        "id": "rocQm4FP1frR",
        "colab_type": "code",
        "colab": {}
      },
      "source": [
        "# The elbow plot shows that 4 or 3 might be a good choice for K and it \n",
        "#seems logical given we know there are 7 qualities of wine"
      ],
      "execution_count": 0,
      "outputs": []
    },
    {
      "cell_type": "code",
      "metadata": {
        "id": "udfL_0rX32ne",
        "colab_type": "code",
        "outputId": "429d49b4-11ca-4f9f-c299-9b57c2b17841",
        "colab": {
          "base_uri": "https://localhost:8080/",
          "height": 72
        }
      },
      "source": [
        "cluster_mean = KMeans( n_clusters = 4, random_state = 1 )\n",
        "cluster_mean.fit(car_df_z)"
      ],
      "execution_count": 57,
      "outputs": [
        {
          "output_type": "execute_result",
          "data": {
            "text/plain": [
              "KMeans(algorithm='auto', copy_x=True, init='k-means++', max_iter=300,\n",
              "       n_clusters=4, n_init=10, n_jobs=None, precompute_distances='auto',\n",
              "       random_state=1, tol=0.0001, verbose=0)"
            ]
          },
          "metadata": {
            "tags": []
          },
          "execution_count": 57
        }
      ]
    },
    {
      "cell_type": "code",
      "metadata": {
        "id": "QJlTuMaL6HJd",
        "colab_type": "code",
        "colab": {}
      },
      "source": [
        "centroids_mean = cluster_mean.cluster_centers_"
      ],
      "execution_count": 0,
      "outputs": []
    },
    {
      "cell_type": "code",
      "metadata": {
        "id": "QAxblYor4UvX",
        "colab_type": "code",
        "colab": {}
      },
      "source": [
        "mean_centroid_df = pd.DataFrame(centroids_mean, columns = list(car_df_z) )"
      ],
      "execution_count": 0,
      "outputs": []
    },
    {
      "cell_type": "code",
      "metadata": {
        "id": "xZn4FpFE6n76",
        "colab_type": "code",
        "outputId": "11066a75-51e5-4c23-a33e-47d0d592b708",
        "colab": {
          "base_uri": "https://localhost:8080/",
          "height": 175
        }
      },
      "source": [
        "mean_centroid_df"
      ],
      "execution_count": 60,
      "outputs": [
        {
          "output_type": "execute_result",
          "data": {
            "text/html": [
              "<div>\n",
              "<style scoped>\n",
              "    .dataframe tbody tr th:only-of-type {\n",
              "        vertical-align: middle;\n",
              "    }\n",
              "\n",
              "    .dataframe tbody tr th {\n",
              "        vertical-align: top;\n",
              "    }\n",
              "\n",
              "    .dataframe thead th {\n",
              "        text-align: right;\n",
              "    }\n",
              "</style>\n",
              "<table border=\"1\" class=\"dataframe\">\n",
              "  <thead>\n",
              "    <tr style=\"text-align: right;\">\n",
              "      <th></th>\n",
              "      <th>cyl</th>\n",
              "      <th>disp</th>\n",
              "      <th>hp</th>\n",
              "      <th>wt</th>\n",
              "      <th>acc</th>\n",
              "      <th>yr</th>\n",
              "      <th>mpg</th>\n",
              "    </tr>\n",
              "  </thead>\n",
              "  <tbody>\n",
              "    <tr>\n",
              "      <th>0</th>\n",
              "      <td>1.483947</td>\n",
              "      <td>1.489139</td>\n",
              "      <td>1.506794</td>\n",
              "      <td>1.391452</td>\n",
              "      <td>-1.075993</td>\n",
              "      <td>-0.682654</td>\n",
              "      <td>-1.156649</td>\n",
              "    </tr>\n",
              "    <tr>\n",
              "      <th>1</th>\n",
              "      <td>0.415493</td>\n",
              "      <td>0.300312</td>\n",
              "      <td>-0.035301</td>\n",
              "      <td>0.341416</td>\n",
              "      <td>0.306338</td>\n",
              "      <td>0.066628</td>\n",
              "      <td>-0.492659</td>\n",
              "    </tr>\n",
              "    <tr>\n",
              "      <th>2</th>\n",
              "      <td>-0.858144</td>\n",
              "      <td>-0.802475</td>\n",
              "      <td>-0.557447</td>\n",
              "      <td>-0.753095</td>\n",
              "      <td>0.320713</td>\n",
              "      <td>-0.630489</td>\n",
              "      <td>0.206680</td>\n",
              "    </tr>\n",
              "    <tr>\n",
              "      <th>3</th>\n",
              "      <td>-0.831702</td>\n",
              "      <td>-0.793205</td>\n",
              "      <td>-0.759195</td>\n",
              "      <td>-0.787826</td>\n",
              "      <td>0.383560</td>\n",
              "      <td>1.112738</td>\n",
              "      <td>1.210125</td>\n",
              "    </tr>\n",
              "  </tbody>\n",
              "</table>\n",
              "</div>"
            ],
            "text/plain": [
              "        cyl      disp        hp        wt       acc        yr       mpg\n",
              "0  1.483947  1.489139  1.506794  1.391452 -1.075993 -0.682654 -1.156649\n",
              "1  0.415493  0.300312 -0.035301  0.341416  0.306338  0.066628 -0.492659\n",
              "2 -0.858144 -0.802475 -0.557447 -0.753095  0.320713 -0.630489  0.206680\n",
              "3 -0.831702 -0.793205 -0.759195 -0.787826  0.383560  1.112738  1.210125"
            ]
          },
          "metadata": {
            "tags": []
          },
          "execution_count": 60
        }
      ]
    },
    {
      "cell_type": "code",
      "metadata": {
        "id": "uk4Hk4Fp4cT9",
        "colab_type": "code",
        "colab": {}
      },
      "source": [
        "prediction_mean=cluster_mean.predict(car_df_z)\n",
        "car_df_z[\"GROUP\"] = prediction_mean"
      ],
      "execution_count": 0,
      "outputs": []
    },
    {
      "cell_type": "code",
      "metadata": {
        "id": "d9y5pM2B-0Xr",
        "colab_type": "code",
        "outputId": "95182a38-b13b-4c84-ce0e-0e3df7ac16db",
        "colab": {
          "base_uri": "https://localhost:8080/",
          "height": 206
        }
      },
      "source": [
        "car_df_z.groupby(\"GROUP\").count()"
      ],
      "execution_count": 63,
      "outputs": [
        {
          "output_type": "execute_result",
          "data": {
            "text/html": [
              "<div>\n",
              "<style scoped>\n",
              "    .dataframe tbody tr th:only-of-type {\n",
              "        vertical-align: middle;\n",
              "    }\n",
              "\n",
              "    .dataframe tbody tr th {\n",
              "        vertical-align: top;\n",
              "    }\n",
              "\n",
              "    .dataframe thead th {\n",
              "        text-align: right;\n",
              "    }\n",
              "</style>\n",
              "<table border=\"1\" class=\"dataframe\">\n",
              "  <thead>\n",
              "    <tr style=\"text-align: right;\">\n",
              "      <th></th>\n",
              "      <th>cyl</th>\n",
              "      <th>disp</th>\n",
              "      <th>hp</th>\n",
              "      <th>wt</th>\n",
              "      <th>acc</th>\n",
              "      <th>yr</th>\n",
              "      <th>mpg</th>\n",
              "    </tr>\n",
              "    <tr>\n",
              "      <th>GROUP</th>\n",
              "      <th></th>\n",
              "      <th></th>\n",
              "      <th></th>\n",
              "      <th></th>\n",
              "      <th></th>\n",
              "      <th></th>\n",
              "      <th></th>\n",
              "    </tr>\n",
              "  </thead>\n",
              "  <tbody>\n",
              "    <tr>\n",
              "      <th>0</th>\n",
              "      <td>94</td>\n",
              "      <td>94</td>\n",
              "      <td>94</td>\n",
              "      <td>94</td>\n",
              "      <td>94</td>\n",
              "      <td>94</td>\n",
              "      <td>94</td>\n",
              "    </tr>\n",
              "    <tr>\n",
              "      <th>1</th>\n",
              "      <td>89</td>\n",
              "      <td>89</td>\n",
              "      <td>89</td>\n",
              "      <td>89</td>\n",
              "      <td>89</td>\n",
              "      <td>89</td>\n",
              "      <td>89</td>\n",
              "    </tr>\n",
              "    <tr>\n",
              "      <th>2</th>\n",
              "      <td>100</td>\n",
              "      <td>100</td>\n",
              "      <td>100</td>\n",
              "      <td>100</td>\n",
              "      <td>100</td>\n",
              "      <td>100</td>\n",
              "      <td>100</td>\n",
              "    </tr>\n",
              "    <tr>\n",
              "      <th>3</th>\n",
              "      <td>109</td>\n",
              "      <td>109</td>\n",
              "      <td>109</td>\n",
              "      <td>109</td>\n",
              "      <td>109</td>\n",
              "      <td>109</td>\n",
              "      <td>109</td>\n",
              "    </tr>\n",
              "  </tbody>\n",
              "</table>\n",
              "</div>"
            ],
            "text/plain": [
              "       cyl  disp   hp   wt  acc   yr  mpg\n",
              "GROUP                                    \n",
              "0       94    94   94   94   94   94   94\n",
              "1       89    89   89   89   89   89   89\n",
              "2      100   100  100  100  100  100  100\n",
              "3      109   109  109  109  109  109  109"
            ]
          },
          "metadata": {
            "tags": []
          },
          "execution_count": 63
        }
      ]
    },
    {
      "cell_type": "code",
      "metadata": {
        "id": "r76AsCseB0J_",
        "colab_type": "code",
        "colab": {}
      },
      "source": [
        "#heirachical clustering\n",
        "# cophenet index is a measure of the correlation between the \n",
        "# distance of points in feature space and distance on dendrogram\n",
        "# closer it is to 1, the better is the clustering\n",
        "war_link = linkage(car_df_z, 'ward')\n",
        "c, coph_dists = cophenet(war_link , pdist(car_df_z))"
      ],
      "execution_count": 0,
      "outputs": []
    },
    {
      "cell_type": "code",
      "metadata": {
        "id": "OiOx5Is3DfFr",
        "colab_type": "code",
        "outputId": "70eb2dba-649d-473c-c6e3-5409761734fa",
        "colab": {
          "base_uri": "https://localhost:8080/",
          "height": 369
        }
      },
      "source": [
        "plt.figure(figsize=(8, 5))\n",
        "plt.title('Agglomerative Hierarchical Clustering Dendogram')\n",
        "plt.xlabel('sample index')\n",
        "plt.ylabel('Distance')\n",
        "dendrogram(war_link, leaf_rotation=90.,color_threshold=80,  leaf_font_size=10. )\n",
        "plt.tight_layout()"
      ],
      "execution_count": 23,
      "outputs": [
        {
          "output_type": "display_data",
          "data": {
            "image/png": "[encoded data removed]",
            "text/plain": [
              "<Figure size 576x360 with 1 Axes>"
            ]
          },
          "metadata": {
            "tags": []
          }
        }
      ]
    },
    {
      "cell_type": "code",
      "metadata": {
        "id": "oZtc8A_7Dtpn",
        "colab_type": "code",
        "outputId": "5fff4aae-a785-4687-8c3f-df82016099dd",
        "colab": {
          "base_uri": "https://localhost:8080/",
          "height": 272
        }
      },
      "source": [
        "dendrogram(\n",
        "    war_link,\n",
        "    truncate_mode='lastp',  # show only the last p merged clusters\n",
        "    p=3,  # show only the last p merged clusters\n",
        ")\n",
        "plt.show()"
      ],
      "execution_count": 25,
      "outputs": [
        {
          "output_type": "display_data",
          "data": {
            "image/png": "[encoded data removed]",
            "text/plain": [
              "<Figure size 432x288 with 1 Axes>"
            ]
          },
          "metadata": {
            "tags": []
          }
        }
      ]
    },
    {
      "cell_type": "code",
      "metadata": {
        "id": "xsuZVatgaHrr",
        "colab_type": "code",
        "colab": {}
      },
      "source": [
        "# looking denodo gram we find optimal cluster is 3"
      ],
      "execution_count": 0,
      "outputs": []
    },
    {
      "cell_type": "code",
      "metadata": {
        "id": "_Qq_c9ZbfUgO",
        "colab_type": "code",
        "colab": {}
      },
      "source": [
        ""
      ],
      "execution_count": 0,
      "outputs": []
    },
    {
      "cell_type": "code",
      "metadata": {
        "id": "vK7amIqZ1aT3",
        "colab_type": "code",
        "colab": {
          "base_uri": "https://localhost:8080/",
          "height": 90
        },
        "outputId": "83583e2d-51d7-4a6b-b3a0-73878f3c97f5"
      },
      "source": [
        "from sklearn.cluster import AgglomerativeClustering\n",
        "h_cluster = AgglomerativeClustering(n_clusters=3, affinity='euclidean', linkage='ward')  \n",
        "h_cluster.fit(car_df_z2)"
      ],
      "execution_count": 26,
      "outputs": [
        {
          "output_type": "execute_result",
          "data": {
            "text/plain": [
              "AgglomerativeClustering(affinity='euclidean', compute_full_tree='auto',\n",
              "                        connectivity=None, distance_threshold=None,\n",
              "                        linkage='ward', memory=None, n_clusters=3,\n",
              "                        pooling_func='deprecated')"
            ]
          },
          "metadata": {
            "tags": []
          },
          "execution_count": 26
        }
      ]
    },
    {
      "cell_type": "code",
      "metadata": {
        "id": "XiqcZHBDY8dQ",
        "colab_type": "code",
        "colab": {}
      },
      "source": [
        "# append label to car_df \n",
        "car_df_z2['level']=h_cluster.labels_"
      ],
      "execution_count": 0,
      "outputs": []
    },
    {
      "cell_type": "code",
      "metadata": {
        "id": "mo6ifoGe1-83",
        "colab_type": "code",
        "colab": {
          "base_uri": "https://localhost:8080/",
          "height": 450
        },
        "outputId": "3677dccc-93b5-49fe-ea95-a7df42718c88"
      },
      "source": [
        "#lets visulize cluster on dataset\n",
        "plt.figure(figsize=(10, 7))  \n",
        "plt.scatter(car_df_z2['hp'], car_df_z2['mpg'], c=h_cluster.labels_) "
      ],
      "execution_count": 19,
      "outputs": [
        {
          "output_type": "execute_result",
          "data": {
            "text/plain": [
              "<matplotlib.collections.PathCollection at 0x7fa5e6747048>"
            ]
          },
          "metadata": {
            "tags": []
          },
          "execution_count": 19
        },
        {
          "output_type": "display_data",
          "data": {
            "image/png": "[encoded data removed]",
            "text/plain": [
              "<Figure size 720x504 with 1 Axes>"
            ]
          },
          "metadata": {
            "tags": []
          }
        }
      ]
    },
    {
      "cell_type": "code",
      "metadata": {
        "id": "KO2NJCSKdIXf",
        "colab_type": "code",
        "colab": {}
      },
      "source": [
        "# seperating data-set on basis of cluster \n",
        "car_df_cluster1=car_df_z2[car_df_z2.level==0]\n",
        "car_df_cluster2=car_df_z2[car_df_z2.level==1]\n",
        "car_df_cluster3=car_df_z2[car_df_z2.level==2]"
      ],
      "execution_count": 0,
      "outputs": []
    },
    {
      "cell_type": "code",
      "metadata": {
        "id": "eML1RzW1aShR",
        "colab_type": "code",
        "colab": {}
      },
      "source": [
        "# apply leaner regression to each cluster to predict mpg\n",
        "X_1 = car_df_cluster1.loc[:,['cyl','disp','hp','wt','acc','yr']]\n",
        "Y_1 = car_df_cluster1.loc[:,['mpg']]\n",
        "X_2 = car_df_cluster2.loc[:,['cyl','disp','hp','wt','acc','yr']]\n",
        "Y_2 = car_df_cluster2.loc[:,['mpg']]\n",
        "X_3 = car_df_cluster3.loc[:,['cyl','disp','hp','wt','acc','yr']]\n",
        "Y_3 = car_df_cluster3.loc[:,['mpg']]"
      ],
      "execution_count": 0,
      "outputs": []
    },
    {
      "cell_type": "code",
      "metadata": {
        "id": "881yCbNDd952",
        "colab_type": "code",
        "colab": {}
      },
      "source": [
        ""
      ],
      "execution_count": 0,
      "outputs": []
    },
    {
      "cell_type": "code",
      "metadata": {
        "id": "PtVossi5caQz",
        "colab_type": "code",
        "colab": {}
      },
      "source": [
        "regression_model1 = LinearRegression()\n",
        "regression_model2 = LinearRegression()\n",
        "regression_model3 = LinearRegression()"
      ],
      "execution_count": 0,
      "outputs": []
    },
    {
      "cell_type": "code",
      "metadata": {
        "id": "18er8Pn8da32",
        "colab_type": "code",
        "colab": {
          "base_uri": "https://localhost:8080/",
          "height": 35
        },
        "outputId": "c7a2e419-a6e3-43a1-82fc-943b0dd6a1c2"
      },
      "source": [
        "regression_model1.fit(X_1,Y_1)\n",
        "regression_model2.fit(X_2,Y_2)\n",
        "regression_model3.fit(X_3,Y_3)"
      ],
      "execution_count": 50,
      "outputs": [
        {
          "output_type": "execute_result",
          "data": {
            "text/plain": [
              "LinearRegression(copy_X=True, fit_intercept=True, n_jobs=None, normalize=False)"
            ]
          },
          "metadata": {
            "tags": []
          },
          "execution_count": 50
        }
      ]
    },
    {
      "cell_type": "code",
      "metadata": {
        "id": "KqrDU5-8Z_X_",
        "colab_type": "code",
        "colab": {
          "base_uri": "https://localhost:8080/",
          "height": 72
        },
        "outputId": "3488f317-12d6-4dee-9d2d-4a6224a52306"
      },
      "source": [
        "print('Slope-1:' ,regression_model1.coef_)\n",
        "print('Slope-2:' ,regression_model2.coef_)\n",
        "print('Slope-3:' ,regression_model3.coef_)"
      ],
      "execution_count": 51,
      "outputs": [
        {
          "output_type": "stream",
          "text": [
            "Slope-1: [[ 0.45792419 -0.36862662 -0.54592073 -0.58291171 -0.02134815  0.40474463]]\n",
            "Slope-2: [[ 0.         -0.05872242 -0.0982939  -0.16421348 -0.15407129  0.19067494]]\n",
            "Slope-3: [[ 0.53600768  0.04150554 -0.1337595  -0.35489813 -0.08577144  0.15205709]]\n"
          ],
          "name": "stdout"
        }
      ]
    }
  ]
}