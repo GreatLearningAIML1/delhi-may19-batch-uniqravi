{
  "nbformat": 4,
  "nbformat_minor": 0,
  "metadata": {
    "colab": {
      "name": "Questions - Lab on NNDL.ipynb",
      "provenance": [],
      "collapsed_sections": []
    },
    "kernelspec": {
      "display_name": "Python 3",
      "language": "python",
      "name": "python3"
    },
    "language_info": {
      "codemirror_mode": {
        "name": "ipython",
        "version": 3
      },
      "file_extension": ".py",
      "mimetype": "text/x-python",
      "name": "python",
      "nbconvert_exporter": "python",
      "pygments_lexer": "ipython3",
      "version": "3.7.2"
    }
  },
  "cells": [
    {
      "cell_type": "markdown",
      "metadata": {
        "id": "YeoiMbH7djEv"
      },
      "source": [
        "# Stock prices dataset\n",
        "The data is of tock exchange's stock listings for each trading day of 2010 to 2016.\n",
        "\n",
        "## Description\n",
        "A brief description of columns.\n",
        "- open: The opening market price of the equity symbol on the date\n",
        "- high: The highest market price of the equity symbol on the date\n",
        "- low: The lowest recorded market price of the equity symbol on the date\n",
        "- close: The closing recorded price of the equity symbol on the date\n",
        "- symbol: Symbol of the listed company\n",
        "- volume: Total traded volume of the equity symbol on the date\n",
        "- date: Date of record"
      ]
    },
    {
      "cell_type": "markdown",
      "metadata": {
        "id": "RSoYY2nII_UW"
      },
      "source": [
        "In this assignment, we will work on the stock prices dataset named \"prices.csv\". Task is to create a Neural Network to classify closing price for a stock based on some parameters."
      ]
    },
    {
      "cell_type": "code",
      "metadata": {
        "id": "xPu34zDZJbId"
      },
      "source": [
        "import tensorflow as tf\n",
        "from sklearn.preprocessing import LabelBinarizer;\n",
        "from sklearn.preprocessing import StandardScaler\n",
        "from sklearn.model_selection import train_test_split\n",
        "import numpy as np\n",
        "import pandas as pd"
      ],
      "execution_count": 20,
      "outputs": []
    },
    {
      "cell_type": "code",
      "metadata": {
        "id": "PGqq9f8VdLba"
      },
      "source": [
        "# Initialize the random number generator\n",
        "import random\n",
        "random.seed(0)\n",
        "\n",
        "# Ignore the warnings\n",
        "import warnings\n",
        "warnings.filterwarnings(\"ignore\")"
      ],
      "execution_count": 2,
      "outputs": []
    },
    {
      "cell_type": "markdown",
      "metadata": {
        "id": "_88voqAH-O6J"
      },
      "source": [
        "## Question 1"
      ]
    },
    {
      "cell_type": "markdown",
      "metadata": {
        "id": "dRHCeJqP-evf"
      },
      "source": [
        "### Load the data\n",
        "- load the csv file and read it using pandas\n",
        "- file name is prices.csv"
      ]
    },
    {
      "cell_type": "code",
      "metadata": {
        "id": "cKVH5v7r-RmC",
        "outputId": "5e19bd16-2a81-4fd1-ffc5-c48acca9b7dd",
        "colab": {
          "resources": {
            "http://localhost:8080/nbextensions/google.colab/files.js": {
              "data": "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",
              "ok": true,
              "headers": [
                [
                  "content-type",
                  "application/javascript"
                ]
              ],
              "status": 200,
              "status_text": "OK"
            }
          },
          "base_uri": "https://localhost:8080/",
          "height": 52
        }
      },
      "source": [
        "# run this cell to upload file using GUI if you are using google colab\n",
        "\n",
        "from google.colab import files\n",
        "files.upload()"
      ],
      "execution_count": 3,
      "outputs": [
        {
          "output_type": "display_data",
          "data": {
            "text/html": [
              "\n",
              "     <input type=\"file\" id=\"files-e41f37eb-cbe1-49e9-95d9-27c34f6963e4\" name=\"files[]\" multiple disabled\n",
              "        style=\"border:none\" />\n",
              "     <output id=\"result-e41f37eb-cbe1-49e9-95d9-27c34f6963e4\">\n",
              "      Upload widget is only available when the cell has been executed in the\n",
              "      current browser session. Please rerun this cell to enable.\n",
              "      </output>\n",
              "      <script src=\"/nbextensions/google.colab/files.js\"></script> "
            ],
            "text/plain": [
              "<IPython.core.display.HTML object>"
            ]
          },
          "metadata": {
            "tags": []
          }
        },
        {
          "output_type": "execute_result",
          "data": {
            "text/plain": [
              "{}"
            ]
          },
          "metadata": {
            "tags": []
          },
          "execution_count": 3
        }
      ]
    },
    {
      "cell_type": "code",
      "metadata": {
        "id": "Gr4YcffYd1FQ",
        "outputId": "bbb12111-7536-4c73-8ee1-5d2771d28a6b",
        "colab": {
          "base_uri": "https://localhost:8080/"
        }
      },
      "source": [
        "# run this cell to to mount the google drive if you are using google colab\n",
        "\n",
        "from google.colab import drive\n",
        "drive.mount('/content/drive')\n",
        "#drive.mount('/content/drive/My Drive/')"
      ],
      "execution_count": 5,
      "outputs": [
        {
          "output_type": "stream",
          "text": [
            "Mounted at /content/drive\n"
          ],
          "name": "stdout"
        }
      ]
    },
    {
      "cell_type": "code",
      "metadata": {
        "id": "VSxtjCFpHLe1"
      },
      "source": [
        "price_df = pd.read_csv('/content/drive/My Drive/AI_ML_CLass/Assignments/external/DNN/Assignment/prices.csv')"
      ],
      "execution_count": 55,
      "outputs": []
    },
    {
      "cell_type": "code",
      "metadata": {
        "id": "NSB8waP4nICO",
        "outputId": "736f817c-3c46-4264-b102-097566ab5010",
        "colab": {
          "base_uri": "https://localhost:8080/",
          "height": 206
        }
      },
      "source": [
        "price_df.head(5)"
      ],
      "execution_count": 44,
      "outputs": [
        {
          "output_type": "execute_result",
          "data": {
            "text/html": [
              "<div>\n",
              "<style scoped>\n",
              "    .dataframe tbody tr th:only-of-type {\n",
              "        vertical-align: middle;\n",
              "    }\n",
              "\n",
              "    .dataframe tbody tr th {\n",
              "        vertical-align: top;\n",
              "    }\n",
              "\n",
              "    .dataframe thead th {\n",
              "        text-align: right;\n",
              "    }\n",
              "</style>\n",
              "<table border=\"1\" class=\"dataframe\">\n",
              "  <thead>\n",
              "    <tr style=\"text-align: right;\">\n",
              "      <th></th>\n",
              "      <th>date</th>\n",
              "      <th>symbol</th>\n",
              "      <th>open</th>\n",
              "      <th>close</th>\n",
              "      <th>low</th>\n",
              "      <th>high</th>\n",
              "      <th>volume</th>\n",
              "    </tr>\n",
              "  </thead>\n",
              "  <tbody>\n",
              "    <tr>\n",
              "      <th>0</th>\n",
              "      <td>2016-01-05 00:00:00</td>\n",
              "      <td>WLTW</td>\n",
              "      <td>123.430000</td>\n",
              "      <td>125.839996</td>\n",
              "      <td>122.309998</td>\n",
              "      <td>126.250000</td>\n",
              "      <td>2163600.0</td>\n",
              "    </tr>\n",
              "    <tr>\n",
              "      <th>1</th>\n",
              "      <td>2016-01-06 00:00:00</td>\n",
              "      <td>WLTW</td>\n",
              "      <td>125.239998</td>\n",
              "      <td>119.980003</td>\n",
              "      <td>119.940002</td>\n",
              "      <td>125.540001</td>\n",
              "      <td>2386400.0</td>\n",
              "    </tr>\n",
              "    <tr>\n",
              "      <th>2</th>\n",
              "      <td>2016-01-07 00:00:00</td>\n",
              "      <td>WLTW</td>\n",
              "      <td>116.379997</td>\n",
              "      <td>114.949997</td>\n",
              "      <td>114.930000</td>\n",
              "      <td>119.739998</td>\n",
              "      <td>2489500.0</td>\n",
              "    </tr>\n",
              "    <tr>\n",
              "      <th>3</th>\n",
              "      <td>2016-01-08 00:00:00</td>\n",
              "      <td>WLTW</td>\n",
              "      <td>115.480003</td>\n",
              "      <td>116.620003</td>\n",
              "      <td>113.500000</td>\n",
              "      <td>117.440002</td>\n",
              "      <td>2006300.0</td>\n",
              "    </tr>\n",
              "    <tr>\n",
              "      <th>4</th>\n",
              "      <td>2016-01-11 00:00:00</td>\n",
              "      <td>WLTW</td>\n",
              "      <td>117.010002</td>\n",
              "      <td>114.970001</td>\n",
              "      <td>114.089996</td>\n",
              "      <td>117.330002</td>\n",
              "      <td>1408600.0</td>\n",
              "    </tr>\n",
              "  </tbody>\n",
              "</table>\n",
              "</div>"
            ],
            "text/plain": [
              "                  date symbol        open  ...         low        high     volume\n",
              "0  2016-01-05 00:00:00   WLTW  123.430000  ...  122.309998  126.250000  2163600.0\n",
              "1  2016-01-06 00:00:00   WLTW  125.239998  ...  119.940002  125.540001  2386400.0\n",
              "2  2016-01-07 00:00:00   WLTW  116.379997  ...  114.930000  119.739998  2489500.0\n",
              "3  2016-01-08 00:00:00   WLTW  115.480003  ...  113.500000  117.440002  2006300.0\n",
              "4  2016-01-11 00:00:00   WLTW  117.010002  ...  114.089996  117.330002  1408600.0\n",
              "\n",
              "[5 rows x 7 columns]"
            ]
          },
          "metadata": {
            "tags": []
          },
          "execution_count": 44
        }
      ]
    },
    {
      "cell_type": "markdown",
      "metadata": {
        "id": "HlLKVPVH_BCT"
      },
      "source": [
        "## Question 2"
      ]
    },
    {
      "cell_type": "markdown",
      "metadata": {
        "id": "ZxoGynuBeO4t"
      },
      "source": [
        "### Drop null\n",
        "- Drop null values if any"
      ]
    },
    {
      "cell_type": "code",
      "metadata": {
        "id": "_yuwJJIeeUaD",
        "outputId": "d7ef47fd-5053-47ae-bcf1-5cf509bebc81",
        "colab": {
          "base_uri": "https://localhost:8080/"
        }
      },
      "source": [
        "price_df.isnull().sum()\n",
        "#no null data available "
      ],
      "execution_count": 11,
      "outputs": [
        {
          "output_type": "execute_result",
          "data": {
            "text/plain": [
              "date      0\n",
              "symbol    0\n",
              "open      0\n",
              "close     0\n",
              "low       0\n",
              "high      0\n",
              "volume    0\n",
              "dtype: int64"
            ]
          },
          "metadata": {
            "tags": []
          },
          "execution_count": 11
        }
      ]
    },
    {
      "cell_type": "markdown",
      "metadata": {
        "id": "9J4BlzVA_gZd"
      },
      "source": [
        "### Drop columns\n",
        "- Now, we don't need \"date\", \"volume\" and \"symbol\" column\n",
        "- drop \"date\", \"volume\" and \"symbol\" column from the data\n"
      ]
    },
    {
      "cell_type": "code",
      "metadata": {
        "id": "IKEK8aEE_Csx"
      },
      "source": [
        "price_df.drop(columns=['date','volume','symbol'],axis=1,inplace=True)"
      ],
      "execution_count": 56,
      "outputs": []
    },
    {
      "cell_type": "markdown",
      "metadata": {
        "id": "cTPhO6v-AiZt"
      },
      "source": [
        "## Question 3"
      ]
    },
    {
      "cell_type": "markdown",
      "metadata": {
        "id": "SsZXmF3NAkna"
      },
      "source": [
        "### Print the dataframe\n",
        "- print the modified dataframe"
      ]
    },
    {
      "cell_type": "code",
      "metadata": {
        "id": "aKs04iIHAjxN",
        "outputId": "0dba5a86-2005-4c58-887c-e6e75602acf2",
        "colab": {
          "base_uri": "https://localhost:8080/",
          "height": 206
        }
      },
      "source": [
        "price_df.head(5)"
      ],
      "execution_count": 46,
      "outputs": [
        {
          "output_type": "execute_result",
          "data": {
            "text/html": [
              "<div>\n",
              "<style scoped>\n",
              "    .dataframe tbody tr th:only-of-type {\n",
              "        vertical-align: middle;\n",
              "    }\n",
              "\n",
              "    .dataframe tbody tr th {\n",
              "        vertical-align: top;\n",
              "    }\n",
              "\n",
              "    .dataframe thead th {\n",
              "        text-align: right;\n",
              "    }\n",
              "</style>\n",
              "<table border=\"1\" class=\"dataframe\">\n",
              "  <thead>\n",
              "    <tr style=\"text-align: right;\">\n",
              "      <th></th>\n",
              "      <th>open</th>\n",
              "      <th>close</th>\n",
              "      <th>low</th>\n",
              "      <th>high</th>\n",
              "    </tr>\n",
              "  </thead>\n",
              "  <tbody>\n",
              "    <tr>\n",
              "      <th>0</th>\n",
              "      <td>123.430000</td>\n",
              "      <td>125.839996</td>\n",
              "      <td>122.309998</td>\n",
              "      <td>126.250000</td>\n",
              "    </tr>\n",
              "    <tr>\n",
              "      <th>1</th>\n",
              "      <td>125.239998</td>\n",
              "      <td>119.980003</td>\n",
              "      <td>119.940002</td>\n",
              "      <td>125.540001</td>\n",
              "    </tr>\n",
              "    <tr>\n",
              "      <th>2</th>\n",
              "      <td>116.379997</td>\n",
              "      <td>114.949997</td>\n",
              "      <td>114.930000</td>\n",
              "      <td>119.739998</td>\n",
              "    </tr>\n",
              "    <tr>\n",
              "      <th>3</th>\n",
              "      <td>115.480003</td>\n",
              "      <td>116.620003</td>\n",
              "      <td>113.500000</td>\n",
              "      <td>117.440002</td>\n",
              "    </tr>\n",
              "    <tr>\n",
              "      <th>4</th>\n",
              "      <td>117.010002</td>\n",
              "      <td>114.970001</td>\n",
              "      <td>114.089996</td>\n",
              "      <td>117.330002</td>\n",
              "    </tr>\n",
              "  </tbody>\n",
              "</table>\n",
              "</div>"
            ],
            "text/plain": [
              "         open       close         low        high\n",
              "0  123.430000  125.839996  122.309998  126.250000\n",
              "1  125.239998  119.980003  119.940002  125.540001\n",
              "2  116.379997  114.949997  114.930000  119.739998\n",
              "3  115.480003  116.620003  113.500000  117.440002\n",
              "4  117.010002  114.970001  114.089996  117.330002"
            ]
          },
          "metadata": {
            "tags": []
          },
          "execution_count": 46
        }
      ]
    },
    {
      "cell_type": "markdown",
      "metadata": {
        "id": "C8u_jlbABTip"
      },
      "source": [
        "### Get features and label from the dataset in separate variable\n",
        "- Let's separate labels and features now. We are going to predict the value for \"close\" column so that will be our label. Our features will be \"open\", \"low\", \"high\"\n",
        "- Take \"open\" \"low\", \"high\" columns as features\n",
        "- Take \"close\" column as label"
      ]
    },
    {
      "cell_type": "code",
      "metadata": {
        "id": "xQjCMzUXBJbg"
      },
      "source": [
        "X=price_df.drop('close',axis=1)"
      ],
      "execution_count": 57,
      "outputs": []
    },
    {
      "cell_type": "code",
      "metadata": {
        "id": "2HEgt64io1Fy"
      },
      "source": [
        "y=price_df['close']"
      ],
      "execution_count": 58,
      "outputs": []
    },
    {
      "cell_type": "markdown",
      "metadata": {
        "id": "6vGtnapgBIJm"
      },
      "source": [
        "## Question 4"
      ]
    },
    {
      "cell_type": "markdown",
      "metadata": {
        "id": "8pZAKdJ5gcrm"
      },
      "source": [
        "### Create train and test sets\n",
        "- Split the data into training and testing"
      ]
    },
    {
      "cell_type": "code",
      "metadata": {
        "id": "KalRqA6Rgqsn"
      },
      "source": [
        "trainX,testX,trainY,testy=train_test_split(X,y,test_size=0.3,random_state=42)"
      ],
      "execution_count": 59,
      "outputs": []
    },
    {
      "cell_type": "markdown",
      "metadata": {
        "id": "aTAKzlxZBz0z"
      },
      "source": [
        "## Question 5"
      ]
    },
    {
      "cell_type": "markdown",
      "metadata": {
        "id": "O7BU2qxEg0Ki"
      },
      "source": [
        "### Scaling\n",
        "- Scale the data (features only)\n",
        "- Use StandarScaler"
      ]
    },
    {
      "cell_type": "code",
      "metadata": {
        "id": "AcO8SlhPhBkR"
      },
      "source": [
        "std=StandardScaler()\n",
        "std_trainX=std.fit_transform(trainX)\n",
        "std_testX=std.transform(testX)"
      ],
      "execution_count": 60,
      "outputs": []
    },
    {
      "cell_type": "markdown",
      "metadata": {
        "id": "3TWpN0nVTpUx"
      },
      "source": [
        "## Question 6"
      ]
    },
    {
      "cell_type": "markdown",
      "metadata": {
        "id": "_sj0LYNkhR-L"
      },
      "source": [
        "### Convert data to NumPy array\n",
        "- Convert features and labels to numpy array"
      ]
    },
    {
      "cell_type": "code",
      "metadata": {
        "id": "X6mIfuTxhbTT"
      },
      "source": [
        "trainNX=np.array(std_trainX)\n",
        "testNX=np.array(std_testX)"
      ],
      "execution_count": 61,
      "outputs": []
    },
    {
      "cell_type": "code",
      "metadata": {
        "id": "p-Uh1L8Qs1po"
      },
      "source": [
        "trainNY=np.array(trainY)\n",
        "testNY=np.array(testy)"
      ],
      "execution_count": 62,
      "outputs": []
    },
    {
      "cell_type": "code",
      "metadata": {
        "id": "1p3MuaukvJ8S",
        "outputId": "a4dc87e1-c0f1-4f14-d01a-2dc80d9c5403",
        "colab": {
          "base_uri": "https://localhost:8080/"
        }
      },
      "source": [
        "type(testNX)"
      ],
      "execution_count": 31,
      "outputs": [
        {
          "output_type": "execute_result",
          "data": {
            "text/plain": [
              "numpy.ndarray"
            ]
          },
          "metadata": {
            "tags": []
          },
          "execution_count": 31
        }
      ]
    },
    {
      "cell_type": "code",
      "metadata": {
        "id": "hU_SFKezvOkk",
        "outputId": "aec5d6f6-9ac2-42ed-aaa9-1b6b9c0ba0cc",
        "colab": {
          "base_uri": "https://localhost:8080/"
        }
      },
      "source": [
        "type(testNY)"
      ],
      "execution_count": 32,
      "outputs": [
        {
          "output_type": "execute_result",
          "data": {
            "text/plain": [
              "numpy.ndarray"
            ]
          },
          "metadata": {
            "tags": []
          },
          "execution_count": 32
        }
      ]
    },
    {
      "cell_type": "markdown",
      "metadata": {
        "id": "wmXUGc2oTspa"
      },
      "source": [
        "## Question 7"
      ]
    },
    {
      "cell_type": "markdown",
      "metadata": {
        "id": "cl2M9whFh6mh"
      },
      "source": [
        "### Define Model\n",
        "- Initialize a Sequential model\n",
        "- Add a Flatten layer\n",
        "- Add a Dense layer with one neuron as output\n",
        "  - add 'linear' as activation function\n"
      ]
    },
    {
      "cell_type": "code",
      "metadata": {
        "id": "TkiBpORmiegL"
      },
      "source": [
        "model1 = tf.keras.models.Sequential()\n",
        "#model = tf.keras.models.Sequential()\n",
        "model1.add(tf.keras.layers.Flatten())\n",
        "model1.add(tf.keras.layers.Dense(1,activation='linear'))  "
      ],
      "execution_count": 67,
      "outputs": []
    },
    {
      "cell_type": "markdown",
      "metadata": {
        "id": "8a0wr94aTyjg"
      },
      "source": [
        "## Question 8"
      ]
    },
    {
      "cell_type": "markdown",
      "metadata": {
        "id": "BNZPb5lKioX0"
      },
      "source": [
        "### Compile the model\n",
        "- Compile the model\n",
        "- Use \"sgd\" optimizer\n",
        "- for calculating loss, use mean squared error"
      ]
    },
    {
      "cell_type": "code",
      "metadata": {
        "id": "ZEQUP3VaiuT2"
      },
      "source": [
        "model1.compile(optimizer='sgd', loss='mse', metrics=['accuracy'])"
      ],
      "execution_count": 68,
      "outputs": []
    },
    {
      "cell_type": "markdown",
      "metadata": {
        "id": "ZbBpnOtfT0wd"
      },
      "source": [
        "## Question 9"
      ]
    },
    {
      "cell_type": "markdown",
      "metadata": {
        "id": "n9o45OHdjDhA"
      },
      "source": [
        "### Fit the model\n",
        "- epochs: 50\n",
        "- batch size: 128\n",
        "- specify validation data"
      ]
    },
    {
      "cell_type": "code",
      "metadata": {
        "id": "-Y6tA30XjOH2",
        "outputId": "7b9d4271-b1ca-498c-8bcb-5973df2f32f5",
        "colab": {
          "base_uri": "https://localhost:8080/"
        }
      },
      "source": [
        "model1.fit(trainNX, trainNY, \n",
        "         # validation_data=(testNX, testNY),\n",
        "          epochs=50,batch_size=128)"
      ],
      "execution_count": 69,
      "outputs": [
        {
          "output_type": "stream",
          "text": [
            "Epoch 1/50\n",
            "4656/4656 [==============================] - 5s 1ms/step - loss: 41.3705 - accuracy: 1.6782e-06 - val_loss: 0.9643 - val_accuracy: 7.8315e-06\n",
            "Epoch 2/50\n",
            "4656/4656 [==============================] - 5s 1ms/step - loss: 0.9858 - accuracy: 1.6782e-06 - val_loss: 0.9512 - val_accuracy: 7.8315e-06\n",
            "Epoch 3/50\n",
            "4656/4656 [==============================] - 5s 1ms/step - loss: 0.9797 - accuracy: 1.6782e-06 - val_loss: 0.9391 - val_accuracy: 7.8315e-06\n",
            "Epoch 4/50\n",
            "4656/4656 [==============================] - 5s 1ms/step - loss: 0.9699 - accuracy: 1.6782e-06 - val_loss: 0.9349 - val_accuracy: 7.8315e-06\n",
            "Epoch 5/50\n",
            "4656/4656 [==============================] - 5s 1ms/step - loss: 0.9642 - accuracy: 1.6782e-06 - val_loss: 0.9357 - val_accuracy: 7.8315e-06\n",
            "Epoch 6/50\n",
            "4656/4656 [==============================] - 5s 1ms/step - loss: 0.9580 - accuracy: 1.6782e-06 - val_loss: 0.9594 - val_accuracy: 7.8315e-06\n",
            "Epoch 7/50\n",
            "4656/4656 [==============================] - 5s 1ms/step - loss: 0.9520 - accuracy: 1.6782e-06 - val_loss: 0.9208 - val_accuracy: 7.8315e-06\n",
            "Epoch 8/50\n",
            "4656/4656 [==============================] - 5s 1ms/step - loss: 0.9460 - accuracy: 1.6782e-06 - val_loss: 0.9225 - val_accuracy: 7.8315e-06\n",
            "Epoch 9/50\n",
            "4656/4656 [==============================] - 5s 1ms/step - loss: 0.9398 - accuracy: 1.6782e-06 - val_loss: 0.9037 - val_accuracy: 7.8315e-06\n",
            "Epoch 10/50\n",
            "4656/4656 [==============================] - 5s 1ms/step - loss: 0.9328 - accuracy: 1.6782e-06 - val_loss: 0.8976 - val_accuracy: 7.8315e-06\n",
            "Epoch 11/50\n",
            "4656/4656 [==============================] - 5s 1ms/step - loss: 0.9265 - accuracy: 1.6782e-06 - val_loss: 0.8937 - val_accuracy: 7.8315e-06\n",
            "Epoch 12/50\n",
            "4656/4656 [==============================] - 5s 1ms/step - loss: 0.9199 - accuracy: 1.6782e-06 - val_loss: 0.9240 - val_accuracy: 7.8315e-06\n",
            "Epoch 13/50\n",
            "4656/4656 [==============================] - 5s 1ms/step - loss: 0.9138 - accuracy: 1.6782e-06 - val_loss: 0.8769 - val_accuracy: 7.8315e-06\n",
            "Epoch 14/50\n",
            "4656/4656 [==============================] - 5s 1ms/step - loss: 0.9073 - accuracy: 1.6782e-06 - val_loss: 0.9262 - val_accuracy: 7.8315e-06\n",
            "Epoch 15/50\n",
            "4656/4656 [==============================] - 5s 1ms/step - loss: 0.9025 - accuracy: 1.6782e-06 - val_loss: 0.8686 - val_accuracy: 7.8315e-06\n",
            "Epoch 16/50\n",
            "4656/4656 [==============================] - 5s 1ms/step - loss: 0.8955 - accuracy: 1.6782e-06 - val_loss: 0.8599 - val_accuracy: 7.8315e-06\n",
            "Epoch 17/50\n",
            "4656/4656 [==============================] - 5s 1ms/step - loss: 0.8898 - accuracy: 1.6782e-06 - val_loss: 0.8546 - val_accuracy: 7.8315e-06\n",
            "Epoch 18/50\n",
            "4656/4656 [==============================] - 5s 1ms/step - loss: 0.8842 - accuracy: 1.6782e-06 - val_loss: 0.8519 - val_accuracy: 7.8315e-06\n",
            "Epoch 19/50\n",
            "4656/4656 [==============================] - 5s 1ms/step - loss: 0.8776 - accuracy: 1.6782e-06 - val_loss: 0.8434 - val_accuracy: 7.8315e-06\n",
            "Epoch 20/50\n",
            "4656/4656 [==============================] - 5s 1ms/step - loss: 0.8726 - accuracy: 1.6782e-06 - val_loss: 0.8486 - val_accuracy: 7.8315e-06\n",
            "Epoch 21/50\n",
            "4656/4656 [==============================] - 5s 1ms/step - loss: 0.8670 - accuracy: 1.6782e-06 - val_loss: 0.8353 - val_accuracy: 7.8315e-06\n",
            "Epoch 22/50\n",
            "4656/4656 [==============================] - 5s 1ms/step - loss: 0.8632 - accuracy: 1.6782e-06 - val_loss: 0.8435 - val_accuracy: 7.8315e-06\n",
            "Epoch 23/50\n",
            "4656/4656 [==============================] - 5s 1ms/step - loss: 0.8548 - accuracy: 1.6782e-06 - val_loss: 0.8344 - val_accuracy: 7.8315e-06\n",
            "Epoch 24/50\n",
            "4656/4656 [==============================] - 6s 1ms/step - loss: 0.8510 - accuracy: 1.6782e-06 - val_loss: 0.8399 - val_accuracy: 7.8315e-06\n",
            "Epoch 25/50\n",
            "4656/4656 [==============================] - 5s 1ms/step - loss: 0.8459 - accuracy: 1.6782e-06 - val_loss: 0.8120 - val_accuracy: 7.8315e-06\n",
            "Epoch 26/50\n",
            "4656/4656 [==============================] - 4s 950us/step - loss: 0.8404 - accuracy: 1.6782e-06 - val_loss: 0.8107 - val_accuracy: 7.8315e-06\n",
            "Epoch 27/50\n",
            "4656/4656 [==============================] - 4s 947us/step - loss: 0.8360 - accuracy: 1.6782e-06 - val_loss: 0.8018 - val_accuracy: 7.8315e-06\n",
            "Epoch 28/50\n",
            "4656/4656 [==============================] - 4s 952us/step - loss: 0.8275 - accuracy: 1.6782e-06 - val_loss: 0.8268 - val_accuracy: 7.8315e-06\n",
            "Epoch 29/50\n",
            "4656/4656 [==============================] - 4s 946us/step - loss: 0.8242 - accuracy: 1.6782e-06 - val_loss: 0.8074 - val_accuracy: 7.8315e-06\n",
            "Epoch 30/50\n",
            "4656/4656 [==============================] - 4s 961us/step - loss: 0.8202 - accuracy: 1.6782e-06 - val_loss: 0.7872 - val_accuracy: 7.8315e-06\n",
            "Epoch 31/50\n",
            "4656/4656 [==============================] - 4s 965us/step - loss: 0.8147 - accuracy: 1.6782e-06 - val_loss: 0.7830 - val_accuracy: 7.8315e-06\n",
            "Epoch 32/50\n",
            "4656/4656 [==============================] - 5s 969us/step - loss: 0.8079 - accuracy: 1.6782e-06 - val_loss: 0.7793 - val_accuracy: 7.8315e-06\n",
            "Epoch 33/50\n",
            "4656/4656 [==============================] - 4s 960us/step - loss: 0.8055 - accuracy: 1.6782e-06 - val_loss: 0.7893 - val_accuracy: 7.8315e-06\n",
            "Epoch 34/50\n",
            "4656/4656 [==============================] - 5s 969us/step - loss: 0.7995 - accuracy: 1.6782e-06 - val_loss: 0.7687 - val_accuracy: 7.8315e-06\n",
            "Epoch 35/50\n",
            "4656/4656 [==============================] - 4s 936us/step - loss: 0.7957 - accuracy: 1.6782e-06 - val_loss: 0.7662 - val_accuracy: 7.8315e-06\n",
            "Epoch 36/50\n",
            "4656/4656 [==============================] - 4s 957us/step - loss: 0.7908 - accuracy: 1.6782e-06 - val_loss: 0.7651 - val_accuracy: 7.8315e-06\n",
            "Epoch 37/50\n",
            "4656/4656 [==============================] - 4s 937us/step - loss: 0.7842 - accuracy: 1.6782e-06 - val_loss: 0.7599 - val_accuracy: 7.8315e-06\n",
            "Epoch 38/50\n",
            "4656/4656 [==============================] - 4s 945us/step - loss: 0.7815 - accuracy: 1.6782e-06 - val_loss: 0.7513 - val_accuracy: 7.8315e-06\n",
            "Epoch 39/50\n",
            "4656/4656 [==============================] - 4s 960us/step - loss: 0.7763 - accuracy: 1.6782e-06 - val_loss: 0.8222 - val_accuracy: 7.8315e-06\n",
            "Epoch 40/50\n",
            "4656/4656 [==============================] - 4s 938us/step - loss: 0.7728 - accuracy: 1.6782e-06 - val_loss: 0.7440 - val_accuracy: 7.8315e-06\n",
            "Epoch 41/50\n",
            "4656/4656 [==============================] - 4s 960us/step - loss: 0.7682 - accuracy: 1.6782e-06 - val_loss: 0.7762 - val_accuracy: 7.8315e-06\n",
            "Epoch 42/50\n",
            "4656/4656 [==============================] - 4s 945us/step - loss: 0.7652 - accuracy: 1.6782e-06 - val_loss: 0.7451 - val_accuracy: 7.8315e-06\n",
            "Epoch 43/50\n",
            "4656/4656 [==============================] - 4s 963us/step - loss: 0.7595 - accuracy: 1.6782e-06 - val_loss: 0.7438 - val_accuracy: 7.8315e-06\n",
            "Epoch 44/50\n",
            "4656/4656 [==============================] - 4s 939us/step - loss: 0.7557 - accuracy: 1.6782e-06 - val_loss: 0.7281 - val_accuracy: 7.8315e-06\n",
            "Epoch 45/50\n",
            "4656/4656 [==============================] - 4s 955us/step - loss: 0.7505 - accuracy: 1.6782e-06 - val_loss: 0.7459 - val_accuracy: 7.8315e-06\n",
            "Epoch 46/50\n",
            "4656/4656 [==============================] - 4s 954us/step - loss: 0.7472 - accuracy: 1.6782e-06 - val_loss: 0.7195 - val_accuracy: 7.8315e-06\n",
            "Epoch 47/50\n",
            "4656/4656 [==============================] - 4s 966us/step - loss: 0.7424 - accuracy: 1.6782e-06 - val_loss: 0.7240 - val_accuracy: 7.8315e-06\n",
            "Epoch 48/50\n",
            "4656/4656 [==============================] - 5s 967us/step - loss: 0.7399 - accuracy: 1.6782e-06 - val_loss: 0.7136 - val_accuracy: 7.8315e-06\n",
            "Epoch 49/50\n",
            "4656/4656 [==============================] - 4s 931us/step - loss: 0.7361 - accuracy: 1.6782e-06 - val_loss: 0.7109 - val_accuracy: 7.8315e-06\n",
            "Epoch 50/50\n",
            "4656/4656 [==============================] - 4s 965us/step - loss: 0.7322 - accuracy: 1.6782e-06 - val_loss: 0.7050 - val_accuracy: 7.8315e-06\n"
          ],
          "name": "stdout"
        },
        {
          "output_type": "execute_result",
          "data": {
            "text/plain": [
              "<tensorflow.python.keras.callbacks.History at 0x7f2b8a807c88>"
            ]
          },
          "metadata": {
            "tags": []
          },
          "execution_count": 69
        }
      ]
    },
    {
      "cell_type": "markdown",
      "metadata": {
        "id": "AW4SEP8kT2ls"
      },
      "source": [
        "## Question 10"
      ]
    },
    {
      "cell_type": "markdown",
      "metadata": {
        "id": "EJDoix_7JU61"
      },
      "source": [
        "### Evaluate the model\n",
        "- Evaluate the model on test data"
      ]
    },
    {
      "cell_type": "code",
      "metadata": {
        "id": "3G65GtWv4Au3"
      },
      "source": [
        "model1.evaluate(testNX, testNY)"
      ],
      "execution_count": null,
      "outputs": []
    },
    {
      "cell_type": "code",
      "metadata": {
        "id": "HdH8pYBIjHGL",
        "outputId": "f21ee735-7ca5-4ca5-b1f9-740d38083f19",
        "colab": {
          "base_uri": "https://localhost:8080/"
        }
      },
      "source": [
        "model1.summary()"
      ],
      "execution_count": 66,
      "outputs": [
        {
          "output_type": "stream",
          "text": [
            "Model: \"sequential_9\"\n",
            "_________________________________________________________________\n",
            "Layer (type)                 Output Shape              Param #   \n",
            "=================================================================\n",
            "flatten_2 (Flatten)          (None, 3)                 0         \n",
            "_________________________________________________________________\n",
            "dense_5 (Dense)              (None, 1)                 4         \n",
            "=================================================================\n",
            "Total params: 4\n",
            "Trainable params: 4\n",
            "Non-trainable params: 0\n",
            "_________________________________________________________________\n"
          ],
          "name": "stdout"
        }
      ]
    },
    {
      "cell_type": "markdown",
      "metadata": {
        "id": "hUpDD74Xjh01"
      },
      "source": [
        "### Manual predictions\n",
        "- Test the predictions on manual inputs\n",
        "- We have scaled out training data, so we need to transform our custom inputs using the object of the scaler\n",
        "- Example of manual input: [123.430000,\t122.30999, 116.250000]"
      ]
    },
    {
      "cell_type": "code",
      "metadata": {
        "id": "fvuH-c31lLiJ",
        "outputId": "18bea603-8dbd-4a6c-8de9-2cec174ee84b",
        "colab": {
          "base_uri": "https://localhost:8080/"
        }
      },
      "source": [
        "model.predict(std.transform([[123.430000, 122.30999, 116.250000]]))"
      ],
      "execution_count": 74,
      "outputs": [
        {
          "output_type": "execute_result",
          "data": {
            "text/plain": [
              "array([[120.08143]], dtype=float32)"
            ]
          },
          "metadata": {
            "tags": []
          },
          "execution_count": 74
        }
      ]
    },
    {
      "cell_type": "markdown",
      "metadata": {
        "id": "4WH1Pr4KQlCh"
      },
      "source": [
        "# Build a DNN"
      ]
    },
    {
      "cell_type": "markdown",
      "metadata": {
        "id": "74cQBsi5QlCw"
      },
      "source": [
        "### Collect Fashion mnist data from tf.keras.datasets "
      ]
    },
    {
      "cell_type": "code",
      "metadata": {
        "id": "wVWy0oDTr2Kj"
      },
      "source": [
        "(trainX, trainY), (testX, testY) = tf.keras.datasets.fashion_mnist.load_data()"
      ],
      "execution_count": null,
      "outputs": []
    },
    {
      "cell_type": "code",
      "metadata": {
        "id": "DfsqIEtQKYhW",
        "outputId": "949700ce-e232-4ad9-f733-e4067a62b2b6",
        "colab": {
          "base_uri": "https://localhost:8080/"
        }
      },
      "source": [
        "trainX.shape"
      ],
      "execution_count": null,
      "outputs": [
        {
          "output_type": "execute_result",
          "data": {
            "text/plain": [
              "(60000, 28, 28)"
            ]
          },
          "metadata": {
            "tags": []
          },
          "execution_count": 9
        }
      ]
    },
    {
      "cell_type": "code",
      "metadata": {
        "id": "TJoxQV3HKoSI",
        "outputId": "8883ca4b-dcd8-40a4-9175-f72f6a26b0f3",
        "colab": {
          "base_uri": "https://localhost:8080/"
        }
      },
      "source": [
        "testX.shape"
      ],
      "execution_count": null,
      "outputs": [
        {
          "output_type": "execute_result",
          "data": {
            "text/plain": [
              "(10000, 28, 28)"
            ]
          },
          "metadata": {
            "tags": []
          },
          "execution_count": 10
        }
      ]
    },
    {
      "cell_type": "markdown",
      "metadata": {
        "id": "no7aWYZyQlC1"
      },
      "source": [
        "### Change train and test labels into one-hot vectors"
      ]
    },
    {
      "cell_type": "code",
      "metadata": {
        "id": "2iIrT2CwL9dK",
        "outputId": "744ee741-5db4-4665-c479-79576829105f",
        "colab": {
          "base_uri": "https://localhost:8080/"
        }
      },
      "source": [
        "np.unique(trainY)\n",
        "#set(trainY)"
      ],
      "execution_count": null,
      "outputs": [
        {
          "output_type": "execute_result",
          "data": {
            "text/plain": [
              "array([0, 1, 2, 3, 4, 5, 6, 7, 8, 9], dtype=uint8)"
            ]
          },
          "metadata": {
            "tags": []
          },
          "execution_count": 17
        }
      ]
    },
    {
      "cell_type": "code",
      "metadata": {
        "id": "qjEPFR0CMCFX",
        "outputId": "3a0024c5-11dd-48b8-f4d2-fc5065bbb229",
        "colab": {
          "base_uri": "https://localhost:8080/"
        }
      },
      "source": [
        "np.unique(testY)"
      ],
      "execution_count": null,
      "outputs": [
        {
          "output_type": "execute_result",
          "data": {
            "text/plain": [
              "array([0, 1, 2, 3, 4, 5, 6, 7, 8, 9], dtype=uint8)"
            ]
          },
          "metadata": {
            "tags": []
          },
          "execution_count": 18
        }
      ]
    },
    {
      "cell_type": "code",
      "metadata": {
        "id": "6c0IjbtHMQxa",
        "outputId": "bf6070cb-df8c-406f-ce9d-80aaf7afb245",
        "colab": {
          "base_uri": "https://localhost:8080/",
          "height": 282
        }
      },
      "source": [
        "import matplotlib.pyplot as plt\n",
        "plt.imshow(trainX[1],cmap='gray')"
      ],
      "execution_count": null,
      "outputs": [
        {
          "output_type": "execute_result",
          "data": {
            "text/plain": [
              "<matplotlib.image.AxesImage at 0x7f337822dda0>"
            ]
          },
          "metadata": {
            "tags": []
          },
          "execution_count": 19
        },
        {
          "output_type": "display_data",
          "data": {
            "image/png": "[encoded data removed]",
            "text/plain": [
              "<Figure size 432x288 with 1 Axes>"
            ]
          },
          "metadata": {
            "tags": [],
            "needs_background": "light"
          }
        }
      ]
    },
    {
      "cell_type": "code",
      "metadata": {
        "id": "UX6otc4wQlC2"
      },
      "source": [
        "trainY = tf.keras.utils.to_categorical(trainY, num_classes=10)\n",
        "testY = tf.keras.utils.to_categorical(testY, num_classes=10) "
      ],
      "execution_count": null,
      "outputs": []
    },
    {
      "cell_type": "markdown",
      "metadata": {
        "id": "QjNrRTdoQlC5"
      },
      "source": [
        "### Build the Graph"
      ]
    },
    {
      "cell_type": "markdown",
      "metadata": {
        "id": "CDJ9DHVNQlC7"
      },
      "source": [
        "### Initialize model, reshape & normalize data"
      ]
    },
    {
      "cell_type": "code",
      "metadata": {
        "id": "pCDQs_g1QlC8"
      },
      "source": [
        "trainX = trainX.reshape(trainX.shape[0], 28, 28, 1)\n",
        "testX = testX.reshape(testX.shape[0], 28, 28, 1) # Normalizing the Data\n",
        "trainX = trainX.astype('float32')\n",
        "testX = testX.astype('float32')\n",
        "\n",
        "trainX /= 255\n",
        "testX /= 255 "
      ],
      "execution_count": null,
      "outputs": []
    },
    {
      "cell_type": "code",
      "metadata": {
        "id": "rTphB_w4T_kL"
      },
      "source": [
        "#Initialize Sequential Graph (model)\n",
        "model = tf.keras.Sequential()\n",
        "#Reshape data from 2D to 1D -> 28x28 to 784\n",
        "model.add(tf.keras.layers.Reshape((784,),input_shape=(28,28,)))"
      ],
      "execution_count": null,
      "outputs": []
    },
    {
      "cell_type": "markdown",
      "metadata": {
        "id": "kBGwTTilQlDD"
      },
      "source": [
        "### Add two fully connected layers with 200 and 100 neurons respectively with `relu` activations. Add a dropout layer with `p=0.25`"
      ]
    },
    {
      "cell_type": "code",
      "metadata": {
        "id": "IXbfpfOzQlDF"
      },
      "source": [
        "#1st hidden layer\n",
        "model.add(tf.keras.layers.Dense(200,activation='relu'))\n",
        "model.add(tf.keras.layers.BatchNormalization())\n",
        "model.add(tf.keras.layers.Dropout(0.25))\n",
        "#2nd hidden layer\n",
        "model.add(tf.keras.layers.Dense(100,activation='relu'))\n",
        "model.add(tf.keras.layers.BatchNormalization())\n",
        "model.add(tf.keras.layers.Dropout(0.25))"
      ],
      "execution_count": null,
      "outputs": []
    },
    {
      "cell_type": "markdown",
      "metadata": {
        "id": "5I8f5otcQlDJ"
      },
      "source": [
        "### Add the output layer with a fully connected layer with 10 neurons with `softmax` activation. Use `categorical_crossentropy` loss and `adam` optimizer and train the network. And, report the final validation."
      ]
    },
    {
      "cell_type": "code",
      "metadata": {
        "id": "JZkvKymSd0Sr"
      },
      "source": [
        "model.add(tf.keras.layers.Dense(10,activation='softmax'))"
      ],
      "execution_count": null,
      "outputs": []
    },
    {
      "cell_type": "code",
      "metadata": {
        "id": "cIpO_WQbHLgL"
      },
      "source": [
        "model.compile(optimizer='adam', loss='categorical_crossentropy', metrics=['accuracy'])"
      ],
      "execution_count": null,
      "outputs": []
    },
    {
      "cell_type": "code",
      "metadata": {
        "id": "WSiMhJPpk3GO",
        "outputId": "816e6648-81e2-4520-b480-cb7f63e88cb3",
        "colab": {
          "base_uri": "https://localhost:8080/"
        }
      },
      "source": [
        "model.fit(trainX, trainY, \n",
        "          validation_data=(testX, testY),\n",
        "          epochs=100,batch_size=100)"
      ],
      "execution_count": null,
      "outputs": [
        {
          "output_type": "stream",
          "text": [
            "Epoch 1/100\n",
            "600/600 [==============================] - 3s 6ms/step - loss: 0.5615 - accuracy: 0.8026 - val_loss: 0.4402 - val_accuracy: 0.8427\n",
            "Epoch 2/100\n",
            "600/600 [==============================] - 3s 5ms/step - loss: 0.4319 - accuracy: 0.8441 - val_loss: 0.4084 - val_accuracy: 0.8563\n",
            "Epoch 3/100\n",
            "600/600 [==============================] - 3s 5ms/step - loss: 0.4042 - accuracy: 0.8535 - val_loss: 0.3984 - val_accuracy: 0.8549\n",
            "Epoch 4/100\n",
            "600/600 [==============================] - 3s 5ms/step - loss: 0.3814 - accuracy: 0.8607 - val_loss: 0.4318 - val_accuracy: 0.8430\n",
            "Epoch 5/100\n",
            "600/600 [==============================] - 3s 5ms/step - loss: 0.3698 - accuracy: 0.8648 - val_loss: 0.3967 - val_accuracy: 0.8553\n",
            "Epoch 6/100\n",
            "600/600 [==============================] - 3s 6ms/step - loss: 0.3581 - accuracy: 0.8686 - val_loss: 0.3663 - val_accuracy: 0.8666\n",
            "Epoch 7/100\n",
            "600/600 [==============================] - 3s 5ms/step - loss: 0.3514 - accuracy: 0.8720 - val_loss: 0.3799 - val_accuracy: 0.8596\n",
            "Epoch 8/100\n",
            "600/600 [==============================] - 3s 5ms/step - loss: 0.3394 - accuracy: 0.8753 - val_loss: 0.3645 - val_accuracy: 0.8713\n",
            "Epoch 9/100\n",
            "600/600 [==============================] - 3s 5ms/step - loss: 0.3340 - accuracy: 0.8784 - val_loss: 0.3569 - val_accuracy: 0.8719\n",
            "Epoch 10/100\n",
            "600/600 [==============================] - 3s 5ms/step - loss: 0.3245 - accuracy: 0.8809 - val_loss: 0.3482 - val_accuracy: 0.8716\n",
            "Epoch 11/100\n",
            "600/600 [==============================] - 3s 5ms/step - loss: 0.3143 - accuracy: 0.8843 - val_loss: 0.3584 - val_accuracy: 0.8689\n",
            "Epoch 12/100\n",
            "600/600 [==============================] - 3s 5ms/step - loss: 0.3149 - accuracy: 0.8837 - val_loss: 0.3405 - val_accuracy: 0.8789\n",
            "Epoch 13/100\n",
            "600/600 [==============================] - 3s 5ms/step - loss: 0.3093 - accuracy: 0.8863 - val_loss: 0.3362 - val_accuracy: 0.8743\n",
            "Epoch 14/100\n",
            "600/600 [==============================] - 3s 5ms/step - loss: 0.3059 - accuracy: 0.8869 - val_loss: 0.3294 - val_accuracy: 0.8825\n",
            "Epoch 15/100\n",
            "600/600 [==============================] - 3s 6ms/step - loss: 0.3000 - accuracy: 0.8885 - val_loss: 0.3544 - val_accuracy: 0.8706\n",
            "Epoch 16/100\n",
            "600/600 [==============================] - 3s 5ms/step - loss: 0.3000 - accuracy: 0.8884 - val_loss: 0.3422 - val_accuracy: 0.8747\n",
            "Epoch 17/100\n",
            "600/600 [==============================] - 3s 5ms/step - loss: 0.2935 - accuracy: 0.8919 - val_loss: 0.3318 - val_accuracy: 0.8814\n",
            "Epoch 18/100\n",
            "600/600 [==============================] - 3s 5ms/step - loss: 0.2885 - accuracy: 0.8938 - val_loss: 0.3457 - val_accuracy: 0.8784\n",
            "Epoch 19/100\n",
            "600/600 [==============================] - 3s 5ms/step - loss: 0.2875 - accuracy: 0.8927 - val_loss: 0.3472 - val_accuracy: 0.8748\n",
            "Epoch 20/100\n",
            "600/600 [==============================] - 3s 5ms/step - loss: 0.2898 - accuracy: 0.8920 - val_loss: 0.3297 - val_accuracy: 0.8823\n",
            "Epoch 21/100\n",
            "600/600 [==============================] - 3s 5ms/step - loss: 0.2854 - accuracy: 0.8936 - val_loss: 0.3484 - val_accuracy: 0.8783\n",
            "Epoch 22/100\n",
            "600/600 [==============================] - 3s 5ms/step - loss: 0.2811 - accuracy: 0.8953 - val_loss: 0.3477 - val_accuracy: 0.8767\n",
            "Epoch 23/100\n",
            "600/600 [==============================] - 3s 5ms/step - loss: 0.2793 - accuracy: 0.8956 - val_loss: 0.3372 - val_accuracy: 0.8818\n",
            "Epoch 24/100\n",
            "600/600 [==============================] - 3s 5ms/step - loss: 0.2761 - accuracy: 0.8980 - val_loss: 0.3503 - val_accuracy: 0.8750\n",
            "Epoch 25/100\n",
            "600/600 [==============================] - 3s 5ms/step - loss: 0.2720 - accuracy: 0.8974 - val_loss: 0.3267 - val_accuracy: 0.8859\n",
            "Epoch 26/100\n",
            "600/600 [==============================] - 3s 5ms/step - loss: 0.2679 - accuracy: 0.9002 - val_loss: 0.3410 - val_accuracy: 0.8798\n",
            "Epoch 27/100\n",
            "600/600 [==============================] - 3s 5ms/step - loss: 0.2663 - accuracy: 0.9002 - val_loss: 0.3458 - val_accuracy: 0.8801\n",
            "Epoch 28/100\n",
            "600/600 [==============================] - 3s 5ms/step - loss: 0.2629 - accuracy: 0.9019 - val_loss: 0.3259 - val_accuracy: 0.8842\n",
            "Epoch 29/100\n",
            "600/600 [==============================] - 3s 5ms/step - loss: 0.2646 - accuracy: 0.9019 - val_loss: 0.3470 - val_accuracy: 0.8815\n",
            "Epoch 30/100\n",
            "600/600 [==============================] - 3s 5ms/step - loss: 0.2611 - accuracy: 0.9034 - val_loss: 0.3286 - val_accuracy: 0.8888\n",
            "Epoch 31/100\n",
            "600/600 [==============================] - 3s 5ms/step - loss: 0.2555 - accuracy: 0.9050 - val_loss: 0.3514 - val_accuracy: 0.8806\n",
            "Epoch 32/100\n",
            "600/600 [==============================] - 3s 5ms/step - loss: 0.2579 - accuracy: 0.9041 - val_loss: 0.3569 - val_accuracy: 0.8731\n",
            "Epoch 33/100\n",
            "600/600 [==============================] - 3s 5ms/step - loss: 0.2534 - accuracy: 0.9046 - val_loss: 0.3213 - val_accuracy: 0.8864\n",
            "Epoch 34/100\n",
            "600/600 [==============================] - 3s 5ms/step - loss: 0.2545 - accuracy: 0.9046 - val_loss: 0.3241 - val_accuracy: 0.8846\n",
            "Epoch 35/100\n",
            "600/600 [==============================] - 3s 5ms/step - loss: 0.2465 - accuracy: 0.9069 - val_loss: 0.3237 - val_accuracy: 0.8879\n",
            "Epoch 36/100\n",
            "600/600 [==============================] - 3s 5ms/step - loss: 0.2451 - accuracy: 0.9084 - val_loss: 0.3400 - val_accuracy: 0.8783\n",
            "Epoch 37/100\n",
            "600/600 [==============================] - 3s 5ms/step - loss: 0.2441 - accuracy: 0.9088 - val_loss: 0.3220 - val_accuracy: 0.8892\n",
            "Epoch 38/100\n",
            "600/600 [==============================] - 3s 5ms/step - loss: 0.2449 - accuracy: 0.9094 - val_loss: 0.3399 - val_accuracy: 0.8846\n",
            "Epoch 39/100\n",
            "600/600 [==============================] - 3s 5ms/step - loss: 0.2423 - accuracy: 0.9089 - val_loss: 0.3395 - val_accuracy: 0.8825\n",
            "Epoch 40/100\n",
            "600/600 [==============================] - 3s 5ms/step - loss: 0.2406 - accuracy: 0.9108 - val_loss: 0.3133 - val_accuracy: 0.8915\n",
            "Epoch 41/100\n",
            "600/600 [==============================] - 3s 5ms/step - loss: 0.2393 - accuracy: 0.9097 - val_loss: 0.3356 - val_accuracy: 0.8821\n",
            "Epoch 42/100\n",
            "600/600 [==============================] - 3s 5ms/step - loss: 0.2334 - accuracy: 0.9108 - val_loss: 0.3298 - val_accuracy: 0.8858\n",
            "Epoch 43/100\n",
            "600/600 [==============================] - 3s 5ms/step - loss: 0.2350 - accuracy: 0.9123 - val_loss: 0.3209 - val_accuracy: 0.8900\n",
            "Epoch 44/100\n",
            "600/600 [==============================] - 3s 5ms/step - loss: 0.2351 - accuracy: 0.9125 - val_loss: 0.3200 - val_accuracy: 0.8893\n",
            "Epoch 45/100\n",
            "600/600 [==============================] - 3s 5ms/step - loss: 0.2343 - accuracy: 0.9119 - val_loss: 0.3280 - val_accuracy: 0.8827\n",
            "Epoch 46/100\n",
            "600/600 [==============================] - 3s 5ms/step - loss: 0.2304 - accuracy: 0.9136 - val_loss: 0.3412 - val_accuracy: 0.8805\n",
            "Epoch 47/100\n",
            "600/600 [==============================] - 3s 5ms/step - loss: 0.2281 - accuracy: 0.9147 - val_loss: 0.3488 - val_accuracy: 0.8835\n",
            "Epoch 48/100\n",
            "600/600 [==============================] - 3s 5ms/step - loss: 0.2301 - accuracy: 0.9144 - val_loss: 0.3341 - val_accuracy: 0.8880\n",
            "Epoch 49/100\n",
            "600/600 [==============================] - 3s 5ms/step - loss: 0.2251 - accuracy: 0.9157 - val_loss: 0.3250 - val_accuracy: 0.8883\n",
            "Epoch 50/100\n",
            "600/600 [==============================] - 3s 5ms/step - loss: 0.2253 - accuracy: 0.9158 - val_loss: 0.3332 - val_accuracy: 0.8836\n",
            "Epoch 51/100\n",
            "600/600 [==============================] - 3s 5ms/step - loss: 0.2222 - accuracy: 0.9169 - val_loss: 0.3131 - val_accuracy: 0.8926\n",
            "Epoch 52/100\n",
            "600/600 [==============================] - 3s 5ms/step - loss: 0.2232 - accuracy: 0.9153 - val_loss: 0.3274 - val_accuracy: 0.8893\n",
            "Epoch 53/100\n",
            "600/600 [==============================] - 3s 5ms/step - loss: 0.2263 - accuracy: 0.9152 - val_loss: 0.3138 - val_accuracy: 0.8924\n",
            "Epoch 54/100\n",
            "600/600 [==============================] - 3s 5ms/step - loss: 0.2211 - accuracy: 0.9160 - val_loss: 0.3295 - val_accuracy: 0.8914\n",
            "Epoch 55/100\n",
            "600/600 [==============================] - 3s 5ms/step - loss: 0.2193 - accuracy: 0.9169 - val_loss: 0.3141 - val_accuracy: 0.8945\n",
            "Epoch 56/100\n",
            "600/600 [==============================] - 3s 5ms/step - loss: 0.2188 - accuracy: 0.9181 - val_loss: 0.3357 - val_accuracy: 0.8867\n",
            "Epoch 57/100\n",
            "600/600 [==============================] - 3s 5ms/step - loss: 0.2165 - accuracy: 0.9198 - val_loss: 0.3390 - val_accuracy: 0.8879\n",
            "Epoch 58/100\n",
            "600/600 [==============================] - 3s 5ms/step - loss: 0.2164 - accuracy: 0.9182 - val_loss: 0.3298 - val_accuracy: 0.8904\n",
            "Epoch 59/100\n",
            "600/600 [==============================] - 3s 5ms/step - loss: 0.2115 - accuracy: 0.9211 - val_loss: 0.3311 - val_accuracy: 0.8897\n",
            "Epoch 60/100\n",
            "600/600 [==============================] - 3s 5ms/step - loss: 0.2151 - accuracy: 0.9198 - val_loss: 0.3251 - val_accuracy: 0.8926\n",
            "Epoch 61/100\n",
            "600/600 [==============================] - 3s 5ms/step - loss: 0.2129 - accuracy: 0.9204 - val_loss: 0.3317 - val_accuracy: 0.8896\n",
            "Epoch 62/100\n",
            "600/600 [==============================] - 3s 5ms/step - loss: 0.2097 - accuracy: 0.9219 - val_loss: 0.3308 - val_accuracy: 0.8878\n",
            "Epoch 63/100\n",
            "600/600 [==============================] - 3s 5ms/step - loss: 0.2101 - accuracy: 0.9219 - val_loss: 0.3316 - val_accuracy: 0.8929\n",
            "Epoch 64/100\n",
            "600/600 [==============================] - 3s 5ms/step - loss: 0.2076 - accuracy: 0.9223 - val_loss: 0.3405 - val_accuracy: 0.8898\n",
            "Epoch 65/100\n",
            "600/600 [==============================] - 3s 5ms/step - loss: 0.2082 - accuracy: 0.9220 - val_loss: 0.3342 - val_accuracy: 0.8889\n",
            "Epoch 66/100\n",
            "600/600 [==============================] - 3s 5ms/step - loss: 0.2074 - accuracy: 0.9223 - val_loss: 0.3480 - val_accuracy: 0.8862\n",
            "Epoch 67/100\n",
            "600/600 [==============================] - 3s 6ms/step - loss: 0.2100 - accuracy: 0.9212 - val_loss: 0.3259 - val_accuracy: 0.8891\n",
            "Epoch 68/100\n",
            "600/600 [==============================] - 3s 5ms/step - loss: 0.2077 - accuracy: 0.9220 - val_loss: 0.3210 - val_accuracy: 0.8911\n",
            "Epoch 69/100\n",
            "600/600 [==============================] - 3s 5ms/step - loss: 0.2063 - accuracy: 0.9225 - val_loss: 0.3298 - val_accuracy: 0.8938\n",
            "Epoch 70/100\n",
            "600/600 [==============================] - 3s 5ms/step - loss: 0.2057 - accuracy: 0.9231 - val_loss: 0.3264 - val_accuracy: 0.8947\n",
            "Epoch 71/100\n",
            "600/600 [==============================] - 3s 6ms/step - loss: 0.2028 - accuracy: 0.9241 - val_loss: 0.3228 - val_accuracy: 0.8916\n",
            "Epoch 72/100\n",
            "600/600 [==============================] - 3s 5ms/step - loss: 0.2005 - accuracy: 0.9239 - val_loss: 0.3168 - val_accuracy: 0.8942\n",
            "Epoch 73/100\n",
            "600/600 [==============================] - 3s 5ms/step - loss: 0.1969 - accuracy: 0.9255 - val_loss: 0.3284 - val_accuracy: 0.8886\n",
            "Epoch 74/100\n",
            "600/600 [==============================] - 3s 6ms/step - loss: 0.2006 - accuracy: 0.9251 - val_loss: 0.3275 - val_accuracy: 0.8958\n",
            "Epoch 75/100\n",
            "600/600 [==============================] - 3s 6ms/step - loss: 0.2054 - accuracy: 0.9232 - val_loss: 0.3277 - val_accuracy: 0.8945\n",
            "Epoch 76/100\n",
            "600/600 [==============================] - 4s 6ms/step - loss: 0.2076 - accuracy: 0.9214 - val_loss: 0.3530 - val_accuracy: 0.8881\n",
            "Epoch 77/100\n",
            "600/600 [==============================] - 4s 6ms/step - loss: 0.2003 - accuracy: 0.9244 - val_loss: 0.3353 - val_accuracy: 0.8905\n",
            "Epoch 78/100\n",
            "600/600 [==============================] - 4s 6ms/step - loss: 0.2014 - accuracy: 0.9239 - val_loss: 0.3376 - val_accuracy: 0.8857\n",
            "Epoch 79/100\n",
            "600/600 [==============================] - 3s 5ms/step - loss: 0.2003 - accuracy: 0.9247 - val_loss: 0.3383 - val_accuracy: 0.8870\n",
            "Epoch 80/100\n",
            "600/600 [==============================] - 3s 5ms/step - loss: 0.1990 - accuracy: 0.9259 - val_loss: 0.3285 - val_accuracy: 0.8865\n",
            "Epoch 81/100\n",
            "600/600 [==============================] - 3s 5ms/step - loss: 0.1943 - accuracy: 0.9277 - val_loss: 0.3459 - val_accuracy: 0.8882\n",
            "Epoch 82/100\n",
            "600/600 [==============================] - 3s 5ms/step - loss: 0.1974 - accuracy: 0.9260 - val_loss: 0.3291 - val_accuracy: 0.8938\n",
            "Epoch 83/100\n",
            "600/600 [==============================] - 3s 5ms/step - loss: 0.1932 - accuracy: 0.9265 - val_loss: 0.3330 - val_accuracy: 0.8864\n",
            "Epoch 84/100\n",
            "600/600 [==============================] - 3s 5ms/step - loss: 0.1948 - accuracy: 0.9262 - val_loss: 0.3267 - val_accuracy: 0.8912\n",
            "Epoch 85/100\n",
            "600/600 [==============================] - 3s 5ms/step - loss: 0.1930 - accuracy: 0.9265 - val_loss: 0.3294 - val_accuracy: 0.8910\n",
            "Epoch 86/100\n",
            "600/600 [==============================] - 3s 5ms/step - loss: 0.1975 - accuracy: 0.9250 - val_loss: 0.3283 - val_accuracy: 0.8907\n",
            "Epoch 87/100\n",
            "600/600 [==============================] - 3s 5ms/step - loss: 0.1928 - accuracy: 0.9279 - val_loss: 0.3478 - val_accuracy: 0.8871\n",
            "Epoch 88/100\n",
            "600/600 [==============================] - 3s 5ms/step - loss: 0.1921 - accuracy: 0.9288 - val_loss: 0.3416 - val_accuracy: 0.8911\n",
            "Epoch 89/100\n",
            "600/600 [==============================] - 3s 5ms/step - loss: 0.1902 - accuracy: 0.9286 - val_loss: 0.3551 - val_accuracy: 0.8863\n",
            "Epoch 90/100\n",
            "600/600 [==============================] - 3s 5ms/step - loss: 0.1885 - accuracy: 0.9291 - val_loss: 0.3280 - val_accuracy: 0.8941\n",
            "Epoch 91/100\n",
            "600/600 [==============================] - 3s 5ms/step - loss: 0.1873 - accuracy: 0.9297 - val_loss: 0.3372 - val_accuracy: 0.8925\n",
            "Epoch 92/100\n",
            "600/600 [==============================] - 4s 6ms/step - loss: 0.1873 - accuracy: 0.9293 - val_loss: 0.3308 - val_accuracy: 0.8917\n",
            "Epoch 93/100\n",
            "600/600 [==============================] - 4s 6ms/step - loss: 0.1856 - accuracy: 0.9301 - val_loss: 0.3339 - val_accuracy: 0.8910\n",
            "Epoch 94/100\n",
            "600/600 [==============================] - 3s 5ms/step - loss: 0.1830 - accuracy: 0.9313 - val_loss: 0.3307 - val_accuracy: 0.8973\n",
            "Epoch 95/100\n",
            "600/600 [==============================] - 3s 5ms/step - loss: 0.1849 - accuracy: 0.9307 - val_loss: 0.3340 - val_accuracy: 0.8895\n",
            "Epoch 96/100\n",
            "600/600 [==============================] - 3s 5ms/step - loss: 0.1856 - accuracy: 0.9310 - val_loss: 0.3316 - val_accuracy: 0.8910\n",
            "Epoch 97/100\n",
            "600/600 [==============================] - 3s 5ms/step - loss: 0.1871 - accuracy: 0.9295 - val_loss: 0.3539 - val_accuracy: 0.8849\n",
            "Epoch 98/100\n",
            "600/600 [==============================] - 3s 5ms/step - loss: 0.1857 - accuracy: 0.9295 - val_loss: 0.3336 - val_accuracy: 0.8951\n",
            "Epoch 99/100\n",
            "600/600 [==============================] - 3s 5ms/step - loss: 0.1840 - accuracy: 0.9313 - val_loss: 0.3456 - val_accuracy: 0.8911\n",
            "Epoch 100/100\n",
            "600/600 [==============================] - 3s 5ms/step - loss: 0.1842 - accuracy: 0.9306 - val_loss: 0.3459 - val_accuracy: 0.8846\n"
          ],
          "name": "stdout"
        },
        {
          "output_type": "execute_result",
          "data": {
            "text/plain": [
              "<tensorflow.python.keras.callbacks.History at 0x7f336b7d2828>"
            ]
          },
          "metadata": {
            "tags": []
          },
          "execution_count": 63
        }
      ]
    },
    {
      "cell_type": "code",
      "metadata": {
        "id": "5gmT3IIzeNRV",
        "outputId": "9e41b01b-f078-417e-8394-3dcfc62df9bd",
        "colab": {
          "base_uri": "https://localhost:8080/"
        }
      },
      "source": [
        "model.summary()"
      ],
      "execution_count": null,
      "outputs": [
        {
          "output_type": "stream",
          "text": [
            "Model: \"sequential_9\"\n",
            "_________________________________________________________________\n",
            "Layer (type)                 Output Shape              Param #   \n",
            "=================================================================\n",
            "reshape_8 (Reshape)          (None, 784)               0         \n",
            "_________________________________________________________________\n",
            "dense_19 (Dense)             (None, 200)               157000    \n",
            "_________________________________________________________________\n",
            "batch_normalization_12 (Batc (None, 200)               800       \n",
            "_________________________________________________________________\n",
            "dropout_12 (Dropout)         (None, 200)               0         \n",
            "_________________________________________________________________\n",
            "dense_20 (Dense)             (None, 100)               20100     \n",
            "_________________________________________________________________\n",
            "batch_normalization_13 (Batc (None, 100)               400       \n",
            "_________________________________________________________________\n",
            "dropout_13 (Dropout)         (None, 100)               0         \n",
            "_________________________________________________________________\n",
            "dense_21 (Dense)             (None, 10)                1010      \n",
            "=================================================================\n",
            "Total params: 179,310\n",
            "Trainable params: 178,710\n",
            "Non-trainable params: 600\n",
            "_________________________________________________________________\n"
          ],
          "name": "stdout"
        }
      ]
    }
  ]
}