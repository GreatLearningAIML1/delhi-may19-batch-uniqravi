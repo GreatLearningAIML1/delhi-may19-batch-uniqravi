{
  "nbformat": 4,
  "nbformat_minor": 0,
  "metadata": {
    "colab": {
      "name": "Project-2_Sale.ipynb",
      "version": "0.3.2",
      "provenance": [],
      "collapsed_sections": []
    },
    "kernelspec": {
      "name": "python3",
      "display_name": "Python 3"
    }
  },
  "cells": [
    {
      "cell_type": "code",
      "metadata": {
        "id": "d2fla5K4HG3z",
        "colab_type": "code",
        "colab": {}
      },
      "source": [
        "import numpy as np\n",
        "import pandas as pd\n",
        "import matplotlib.pyplot as plt\n"
      ],
      "execution_count": 0,
      "outputs": []
    },
    {
      "cell_type": "code",
      "metadata": {
        "id": "SOLVRTyKHabc",
        "colab_type": "code",
        "outputId": "3cd42639-ec14-449b-af3f-6938b90c847f",
        "colab": {
          "base_uri": "https://localhost:8080/",
          "height": 990
        }
      },
      "source": [
        "sale_data={'SalesPerson':[1,2,3,4,5,6,7,8,9,10,11,12,13,14,15,16,17,18,19,20,21,22,23,24,25,26,27,28,29,30],\n",
        "            'OldScheme':[57,103,59,75,84,73,35,110,44,82,67,64,78,53,41,39,80,87,73,65,28,62,49,84,63,77,67,101,91,50],\n",
        "            'NewScheme':[62,122,54,82,84,86,32,104,38,107,84,85,99,39,34,58,73,53,66,78,41,71,38,95,81,58,75,94,100,68]\n",
        "          }\n",
        "sale_pd = pd.DataFrame(sale_data)\n",
        "sale_pd"
      ],
      "execution_count": 0,
      "outputs": [
        {
          "output_type": "execute_result",
          "data": {
            "text/html": [
              "<div>\n",
              "<style scoped>\n",
              "    .dataframe tbody tr th:only-of-type {\n",
              "        vertical-align: middle;\n",
              "    }\n",
              "\n",
              "    .dataframe tbody tr th {\n",
              "        vertical-align: top;\n",
              "    }\n",
              "\n",
              "    .dataframe thead th {\n",
              "        text-align: right;\n",
              "    }\n",
              "</style>\n",
              "<table border=\"1\" class=\"dataframe\">\n",
              "  <thead>\n",
              "    <tr style=\"text-align: right;\">\n",
              "      <th></th>\n",
              "      <th>SalesPerson</th>\n",
              "      <th>OldScheme</th>\n",
              "      <th>NewScheme</th>\n",
              "    </tr>\n",
              "  </thead>\n",
              "  <tbody>\n",
              "    <tr>\n",
              "      <th>0</th>\n",
              "      <td>1</td>\n",
              "      <td>57</td>\n",
              "      <td>62</td>\n",
              "    </tr>\n",
              "    <tr>\n",
              "      <th>1</th>\n",
              "      <td>2</td>\n",
              "      <td>103</td>\n",
              "      <td>122</td>\n",
              "    </tr>\n",
              "    <tr>\n",
              "      <th>2</th>\n",
              "      <td>3</td>\n",
              "      <td>59</td>\n",
              "      <td>54</td>\n",
              "    </tr>\n",
              "    <tr>\n",
              "      <th>3</th>\n",
              "      <td>4</td>\n",
              "      <td>75</td>\n",
              "      <td>82</td>\n",
              "    </tr>\n",
              "    <tr>\n",
              "      <th>4</th>\n",
              "      <td>5</td>\n",
              "      <td>84</td>\n",
              "      <td>84</td>\n",
              "    </tr>\n",
              "    <tr>\n",
              "      <th>5</th>\n",
              "      <td>6</td>\n",
              "      <td>73</td>\n",
              "      <td>86</td>\n",
              "    </tr>\n",
              "    <tr>\n",
              "      <th>6</th>\n",
              "      <td>7</td>\n",
              "      <td>35</td>\n",
              "      <td>32</td>\n",
              "    </tr>\n",
              "    <tr>\n",
              "      <th>7</th>\n",
              "      <td>8</td>\n",
              "      <td>110</td>\n",
              "      <td>104</td>\n",
              "    </tr>\n",
              "    <tr>\n",
              "      <th>8</th>\n",
              "      <td>9</td>\n",
              "      <td>44</td>\n",
              "      <td>38</td>\n",
              "    </tr>\n",
              "    <tr>\n",
              "      <th>9</th>\n",
              "      <td>10</td>\n",
              "      <td>82</td>\n",
              "      <td>107</td>\n",
              "    </tr>\n",
              "    <tr>\n",
              "      <th>10</th>\n",
              "      <td>11</td>\n",
              "      <td>67</td>\n",
              "      <td>84</td>\n",
              "    </tr>\n",
              "    <tr>\n",
              "      <th>11</th>\n",
              "      <td>12</td>\n",
              "      <td>64</td>\n",
              "      <td>85</td>\n",
              "    </tr>\n",
              "    <tr>\n",
              "      <th>12</th>\n",
              "      <td>13</td>\n",
              "      <td>78</td>\n",
              "      <td>99</td>\n",
              "    </tr>\n",
              "    <tr>\n",
              "      <th>13</th>\n",
              "      <td>14</td>\n",
              "      <td>53</td>\n",
              "      <td>39</td>\n",
              "    </tr>\n",
              "    <tr>\n",
              "      <th>14</th>\n",
              "      <td>15</td>\n",
              "      <td>41</td>\n",
              "      <td>34</td>\n",
              "    </tr>\n",
              "    <tr>\n",
              "      <th>15</th>\n",
              "      <td>16</td>\n",
              "      <td>39</td>\n",
              "      <td>58</td>\n",
              "    </tr>\n",
              "    <tr>\n",
              "      <th>16</th>\n",
              "      <td>17</td>\n",
              "      <td>80</td>\n",
              "      <td>73</td>\n",
              "    </tr>\n",
              "    <tr>\n",
              "      <th>17</th>\n",
              "      <td>18</td>\n",
              "      <td>87</td>\n",
              "      <td>53</td>\n",
              "    </tr>\n",
              "    <tr>\n",
              "      <th>18</th>\n",
              "      <td>19</td>\n",
              "      <td>73</td>\n",
              "      <td>66</td>\n",
              "    </tr>\n",
              "    <tr>\n",
              "      <th>19</th>\n",
              "      <td>20</td>\n",
              "      <td>65</td>\n",
              "      <td>78</td>\n",
              "    </tr>\n",
              "    <tr>\n",
              "      <th>20</th>\n",
              "      <td>21</td>\n",
              "      <td>28</td>\n",
              "      <td>41</td>\n",
              "    </tr>\n",
              "    <tr>\n",
              "      <th>21</th>\n",
              "      <td>22</td>\n",
              "      <td>62</td>\n",
              "      <td>71</td>\n",
              "    </tr>\n",
              "    <tr>\n",
              "      <th>22</th>\n",
              "      <td>23</td>\n",
              "      <td>49</td>\n",
              "      <td>38</td>\n",
              "    </tr>\n",
              "    <tr>\n",
              "      <th>23</th>\n",
              "      <td>24</td>\n",
              "      <td>84</td>\n",
              "      <td>95</td>\n",
              "    </tr>\n",
              "    <tr>\n",
              "      <th>24</th>\n",
              "      <td>25</td>\n",
              "      <td>63</td>\n",
              "      <td>81</td>\n",
              "    </tr>\n",
              "    <tr>\n",
              "      <th>25</th>\n",
              "      <td>26</td>\n",
              "      <td>77</td>\n",
              "      <td>58</td>\n",
              "    </tr>\n",
              "    <tr>\n",
              "      <th>26</th>\n",
              "      <td>27</td>\n",
              "      <td>67</td>\n",
              "      <td>75</td>\n",
              "    </tr>\n",
              "    <tr>\n",
              "      <th>27</th>\n",
              "      <td>28</td>\n",
              "      <td>101</td>\n",
              "      <td>94</td>\n",
              "    </tr>\n",
              "    <tr>\n",
              "      <th>28</th>\n",
              "      <td>29</td>\n",
              "      <td>91</td>\n",
              "      <td>100</td>\n",
              "    </tr>\n",
              "    <tr>\n",
              "      <th>29</th>\n",
              "      <td>30</td>\n",
              "      <td>50</td>\n",
              "      <td>68</td>\n",
              "    </tr>\n",
              "  </tbody>\n",
              "</table>\n",
              "</div>"
            ],
            "text/plain": [
              "    SalesPerson  OldScheme  NewScheme\n",
              "0             1         57         62\n",
              "1             2        103        122\n",
              "2             3         59         54\n",
              "3             4         75         82\n",
              "4             5         84         84\n",
              "5             6         73         86\n",
              "6             7         35         32\n",
              "7             8        110        104\n",
              "8             9         44         38\n",
              "9            10         82        107\n",
              "10           11         67         84\n",
              "11           12         64         85\n",
              "12           13         78         99\n",
              "13           14         53         39\n",
              "14           15         41         34\n",
              "15           16         39         58\n",
              "16           17         80         73\n",
              "17           18         87         53\n",
              "18           19         73         66\n",
              "19           20         65         78\n",
              "20           21         28         41\n",
              "21           22         62         71\n",
              "22           23         49         38\n",
              "23           24         84         95\n",
              "24           25         63         81\n",
              "25           26         77         58\n",
              "26           27         67         75\n",
              "27           28        101         94\n",
              "28           29         91        100\n",
              "29           30         50         68"
            ]
          },
          "metadata": {
            "tags": []
          },
          "execution_count": 3
        }
      ]
    },
    {
      "cell_type": "code",
      "metadata": {
        "id": "epo50M3rNw6H",
        "colab_type": "code",
        "outputId": "098df1d8-01c2-4e1e-c62e-3b114385035d",
        "colab": {
          "base_uri": "https://localhost:8080/",
          "height": 990
        }
      },
      "source": [
        "#set index with person id and drop column\n",
        "sale_pd.set_index(sale_pd.SalesPerson)\n",
        "sale_pd=sale_pd.drop(columns='SalesPerson')\n",
        "sale_pd"
      ],
      "execution_count": 0,
      "outputs": [
        {
          "output_type": "execute_result",
          "data": {
            "text/html": [
              "<div>\n",
              "<style scoped>\n",
              "    .dataframe tbody tr th:only-of-type {\n",
              "        vertical-align: middle;\n",
              "    }\n",
              "\n",
              "    .dataframe tbody tr th {\n",
              "        vertical-align: top;\n",
              "    }\n",
              "\n",
              "    .dataframe thead th {\n",
              "        text-align: right;\n",
              "    }\n",
              "</style>\n",
              "<table border=\"1\" class=\"dataframe\">\n",
              "  <thead>\n",
              "    <tr style=\"text-align: right;\">\n",
              "      <th></th>\n",
              "      <th>OldScheme</th>\n",
              "      <th>NewScheme</th>\n",
              "    </tr>\n",
              "  </thead>\n",
              "  <tbody>\n",
              "    <tr>\n",
              "      <th>0</th>\n",
              "      <td>57</td>\n",
              "      <td>62</td>\n",
              "    </tr>\n",
              "    <tr>\n",
              "      <th>1</th>\n",
              "      <td>103</td>\n",
              "      <td>122</td>\n",
              "    </tr>\n",
              "    <tr>\n",
              "      <th>2</th>\n",
              "      <td>59</td>\n",
              "      <td>54</td>\n",
              "    </tr>\n",
              "    <tr>\n",
              "      <th>3</th>\n",
              "      <td>75</td>\n",
              "      <td>82</td>\n",
              "    </tr>\n",
              "    <tr>\n",
              "      <th>4</th>\n",
              "      <td>84</td>\n",
              "      <td>84</td>\n",
              "    </tr>\n",
              "    <tr>\n",
              "      <th>5</th>\n",
              "      <td>73</td>\n",
              "      <td>86</td>\n",
              "    </tr>\n",
              "    <tr>\n",
              "      <th>6</th>\n",
              "      <td>35</td>\n",
              "      <td>32</td>\n",
              "    </tr>\n",
              "    <tr>\n",
              "      <th>7</th>\n",
              "      <td>110</td>\n",
              "      <td>104</td>\n",
              "    </tr>\n",
              "    <tr>\n",
              "      <th>8</th>\n",
              "      <td>44</td>\n",
              "      <td>38</td>\n",
              "    </tr>\n",
              "    <tr>\n",
              "      <th>9</th>\n",
              "      <td>82</td>\n",
              "      <td>107</td>\n",
              "    </tr>\n",
              "    <tr>\n",
              "      <th>10</th>\n",
              "      <td>67</td>\n",
              "      <td>84</td>\n",
              "    </tr>\n",
              "    <tr>\n",
              "      <th>11</th>\n",
              "      <td>64</td>\n",
              "      <td>85</td>\n",
              "    </tr>\n",
              "    <tr>\n",
              "      <th>12</th>\n",
              "      <td>78</td>\n",
              "      <td>99</td>\n",
              "    </tr>\n",
              "    <tr>\n",
              "      <th>13</th>\n",
              "      <td>53</td>\n",
              "      <td>39</td>\n",
              "    </tr>\n",
              "    <tr>\n",
              "      <th>14</th>\n",
              "      <td>41</td>\n",
              "      <td>34</td>\n",
              "    </tr>\n",
              "    <tr>\n",
              "      <th>15</th>\n",
              "      <td>39</td>\n",
              "      <td>58</td>\n",
              "    </tr>\n",
              "    <tr>\n",
              "      <th>16</th>\n",
              "      <td>80</td>\n",
              "      <td>73</td>\n",
              "    </tr>\n",
              "    <tr>\n",
              "      <th>17</th>\n",
              "      <td>87</td>\n",
              "      <td>53</td>\n",
              "    </tr>\n",
              "    <tr>\n",
              "      <th>18</th>\n",
              "      <td>73</td>\n",
              "      <td>66</td>\n",
              "    </tr>\n",
              "    <tr>\n",
              "      <th>19</th>\n",
              "      <td>65</td>\n",
              "      <td>78</td>\n",
              "    </tr>\n",
              "    <tr>\n",
              "      <th>20</th>\n",
              "      <td>28</td>\n",
              "      <td>41</td>\n",
              "    </tr>\n",
              "    <tr>\n",
              "      <th>21</th>\n",
              "      <td>62</td>\n",
              "      <td>71</td>\n",
              "    </tr>\n",
              "    <tr>\n",
              "      <th>22</th>\n",
              "      <td>49</td>\n",
              "      <td>38</td>\n",
              "    </tr>\n",
              "    <tr>\n",
              "      <th>23</th>\n",
              "      <td>84</td>\n",
              "      <td>95</td>\n",
              "    </tr>\n",
              "    <tr>\n",
              "      <th>24</th>\n",
              "      <td>63</td>\n",
              "      <td>81</td>\n",
              "    </tr>\n",
              "    <tr>\n",
              "      <th>25</th>\n",
              "      <td>77</td>\n",
              "      <td>58</td>\n",
              "    </tr>\n",
              "    <tr>\n",
              "      <th>26</th>\n",
              "      <td>67</td>\n",
              "      <td>75</td>\n",
              "    </tr>\n",
              "    <tr>\n",
              "      <th>27</th>\n",
              "      <td>101</td>\n",
              "      <td>94</td>\n",
              "    </tr>\n",
              "    <tr>\n",
              "      <th>28</th>\n",
              "      <td>91</td>\n",
              "      <td>100</td>\n",
              "    </tr>\n",
              "    <tr>\n",
              "      <th>29</th>\n",
              "      <td>50</td>\n",
              "      <td>68</td>\n",
              "    </tr>\n",
              "  </tbody>\n",
              "</table>\n",
              "</div>"
            ],
            "text/plain": [
              "    OldScheme  NewScheme\n",
              "0          57         62\n",
              "1         103        122\n",
              "2          59         54\n",
              "3          75         82\n",
              "4          84         84\n",
              "5          73         86\n",
              "6          35         32\n",
              "7         110        104\n",
              "8          44         38\n",
              "9          82        107\n",
              "10         67         84\n",
              "11         64         85\n",
              "12         78         99\n",
              "13         53         39\n",
              "14         41         34\n",
              "15         39         58\n",
              "16         80         73\n",
              "17         87         53\n",
              "18         73         66\n",
              "19         65         78\n",
              "20         28         41\n",
              "21         62         71\n",
              "22         49         38\n",
              "23         84         95\n",
              "24         63         81\n",
              "25         77         58\n",
              "26         67         75\n",
              "27        101         94\n",
              "28         91        100\n",
              "29         50         68"
            ]
          },
          "metadata": {
            "tags": []
          },
          "execution_count": 4
        }
      ]
    },
    {
      "cell_type": "code",
      "metadata": {
        "id": "O-qxCvohRzfm",
        "colab_type": "code",
        "outputId": "fbb9c09a-18c0-483e-c228-9042916a0337",
        "colab": {
          "base_uri": "https://localhost:8080/",
          "height": 300
        }
      },
      "source": [
        "#using describe function to see spreading data,mean max,range ,Quartile\n",
        "sale_pd.describe()"
      ],
      "execution_count": 0,
      "outputs": [
        {
          "output_type": "execute_result",
          "data": {
            "text/html": [
              "<div>\n",
              "<style scoped>\n",
              "    .dataframe tbody tr th:only-of-type {\n",
              "        vertical-align: middle;\n",
              "    }\n",
              "\n",
              "    .dataframe tbody tr th {\n",
              "        vertical-align: top;\n",
              "    }\n",
              "\n",
              "    .dataframe thead th {\n",
              "        text-align: right;\n",
              "    }\n",
              "</style>\n",
              "<table border=\"1\" class=\"dataframe\">\n",
              "  <thead>\n",
              "    <tr style=\"text-align: right;\">\n",
              "      <th></th>\n",
              "      <th>OldScheme</th>\n",
              "      <th>NewScheme</th>\n",
              "    </tr>\n",
              "  </thead>\n",
              "  <tbody>\n",
              "    <tr>\n",
              "      <th>count</th>\n",
              "      <td>30.000000</td>\n",
              "      <td>30.000000</td>\n",
              "    </tr>\n",
              "    <tr>\n",
              "      <th>mean</th>\n",
              "      <td>68.033333</td>\n",
              "      <td>72.033333</td>\n",
              "    </tr>\n",
              "    <tr>\n",
              "      <th>std</th>\n",
              "      <td>20.455980</td>\n",
              "      <td>24.062395</td>\n",
              "    </tr>\n",
              "    <tr>\n",
              "      <th>min</th>\n",
              "      <td>28.000000</td>\n",
              "      <td>32.000000</td>\n",
              "    </tr>\n",
              "    <tr>\n",
              "      <th>25%</th>\n",
              "      <td>54.000000</td>\n",
              "      <td>55.000000</td>\n",
              "    </tr>\n",
              "    <tr>\n",
              "      <th>50%</th>\n",
              "      <td>67.000000</td>\n",
              "      <td>74.000000</td>\n",
              "    </tr>\n",
              "    <tr>\n",
              "      <th>75%</th>\n",
              "      <td>81.500000</td>\n",
              "      <td>85.750000</td>\n",
              "    </tr>\n",
              "    <tr>\n",
              "      <th>max</th>\n",
              "      <td>110.000000</td>\n",
              "      <td>122.000000</td>\n",
              "    </tr>\n",
              "  </tbody>\n",
              "</table>\n",
              "</div>"
            ],
            "text/plain": [
              "        OldScheme   NewScheme\n",
              "count   30.000000   30.000000\n",
              "mean    68.033333   72.033333\n",
              "std     20.455980   24.062395\n",
              "min     28.000000   32.000000\n",
              "25%     54.000000   55.000000\n",
              "50%     67.000000   74.000000\n",
              "75%     81.500000   85.750000\n",
              "max    110.000000  122.000000"
            ]
          },
          "metadata": {
            "tags": []
          },
          "execution_count": 5
        }
      ]
    },
    {
      "cell_type": "markdown",
      "metadata": {
        "id": "I0lLGAVSt97I",
        "colab_type": "text"
      },
      "source": [
        "initial analysis : Mean of  OldScheme and NewScheme is 68.03 and 72.03 respectively and median is 67 and 74 meaning mean of New Scheme has move to slightly lower side from median implies that have some Outlier at lower side and also min and max get increased at lower \n",
        "\n",
        "Gap-margin between Q2 and Q3 become lower than gap between Q1 and Q2 it mean some sellers does increase selling but not seeing higher marginal growth in sellings.\n"
      ]
    },
    {
      "cell_type": "code",
      "metadata": {
        "id": "cIZrgFTN307k",
        "colab_type": "code",
        "outputId": "1cdd1e76-882e-4a86-ad3d-7830fa7f1ed1",
        "colab": {
          "base_uri": "https://localhost:8080/",
          "height": 35
        }
      },
      "source": [
        "#analysis five percent significance test\n",
        "new_mean = sale_pd.NewScheme.mean()\n",
        "new_mean"
      ],
      "execution_count": 0,
      "outputs": [
        {
          "output_type": "execute_result",
          "data": {
            "text/plain": [
              "72.03333333333333"
            ]
          },
          "metadata": {
            "tags": []
          },
          "execution_count": 6
        }
      ]
    },
    {
      "cell_type": "code",
      "metadata": {
        "id": "Mrgez8a56out",
        "colab_type": "code",
        "outputId": "43b463b0-f0bc-4998-8658-8bb75169d8d7",
        "colab": {
          "base_uri": "https://localhost:8080/",
          "height": 35
        }
      },
      "source": [
        "old_mean = sale_pd.OldScheme.mean()\n",
        "old_mean"
      ],
      "execution_count": 0,
      "outputs": [
        {
          "output_type": "execute_result",
          "data": {
            "text/plain": [
              "68.03333333333333"
            ]
          },
          "metadata": {
            "tags": []
          },
          "execution_count": 7
        }
      ]
    },
    {
      "cell_type": "code",
      "metadata": {
        "id": "NBMoaa-aAExU",
        "colab_type": "code",
        "colab": {}
      },
      "source": [
        "#draw normal distribution curve \n"
      ],
      "execution_count": 0,
      "outputs": []
    },
    {
      "cell_type": "markdown",
      "metadata": {
        "id": "MmQnzRUT7Lwm",
        "colab_type": "text"
      },
      "source": [
        "Problem : 2 \n",
        "Consinder there is no difference between sample mean before scheme and after scheme sale \\\n",
        "H0 : mean_newScheme - mean_oldScheme =0 \\\n",
        "Ha : mean_newScheme > mean_oldScheme (upper tail (one tail t test))"
      ]
    },
    {
      "cell_type": "code",
      "metadata": {
        "id": "5LnnL3Q66yWD",
        "colab_type": "code",
        "colab": {}
      },
      "source": [
        "# although it is dependent two sample test\n",
        "# we need to comapare mean before event and after event\n",
        "from scipy import stats\n",
        "#t_stats,p_value=stats.ttest_rel(sale_pd.OldScheme,sale_pd.NewScheme)\n",
        "t_stats,p_value=stats.ttest_rel(sale_pd.NewScheme,sale_pd.OldScheme)"
      ],
      "execution_count": 0,
      "outputs": []
    },
    {
      "cell_type": "code",
      "metadata": {
        "id": "k-GG3AB-8ePp",
        "colab_type": "code",
        "outputId": "c2b15506-6e07-4d68-c0f0-63ca6f821735",
        "colab": {
          "base_uri": "https://localhost:8080/",
          "height": 35
        }
      },
      "source": [
        "# as per reading API document ttest_rel returns two sided tail p_value\n",
        "# we need to devide by 2 \n",
        "p_value=p_value/2\n",
        "print(\"P-value : \",p_value)"
      ],
      "execution_count": 0,
      "outputs": [
        {
          "output_type": "stream",
          "text": [
            "P-value :  0.06528776980668831\n"
          ],
          "name": "stdout"
        }
      ]
    },
    {
      "cell_type": "code",
      "metadata": {
        "id": "5TGAM3mBRhrt",
        "colab_type": "code",
        "outputId": "d54f9ff1-7a76-4e09-85df-ac55a19376e4",
        "colab": {
          "base_uri": "https://localhost:8080/",
          "height": 35
        }
      },
      "source": [
        "print(\"T-stat : \",t_stats)"
      ],
      "execution_count": 0,
      "outputs": [
        {
          "output_type": "stream",
          "text": [
            "T-stat :  1.5559143823544377\n"
          ],
          "name": "stdout"
        }
      ]
    },
    {
      "cell_type": "markdown",
      "metadata": {
        "id": "TdxruDRHMcIg",
        "colab_type": "text"
      },
      "source": [
        "Problem : 3  Since P value is 0.065 which is greater than alpha significant value 0.05 thats mean accepting null hypothesis or rejects alternate hypothesis which results new scheme does not raised output significantly."
      ]
    },
    {
      "cell_type": "markdown",
      "metadata": {
        "id": "XNrvM0SYr8O0",
        "colab_type": "text"
      },
      "source": [
        "Problem : 4a\n",
        "a ) Type I error occurs when a significance test results in the rejection of a true null hypothesis so rejection falls in 0.05 region in null hypothesis.Probability of type 1 error is 0.05 \\"
      ]
    },
    {
      "cell_type": "markdown",
      "metadata": {
        "id": "LzoFRaUjss3_",
        "colab_type": "text"
      },
      "source": [
        "Problem : 4b  "
      ]
    },
    {
      "cell_type": "markdown",
      "metadata": {
        "id": "eetllxgd1Y92",
        "colab_type": "text"
      },
      "source": [
        "      value of difference of mean at significant level which is critical value at which null hypothesis is going to accepted or rejected.\n",
        "    t value at 0.05 significant level of alpha is 1.699 for degree of freedom 29 (here sample size is 30 then DF = 30-1=29)\n",
        "    though we know t_statics = (X-mean)/standard_Error \n",
        "    here difference at center is zero of two group then equation become X = t_statics*standard_error\n",
        "    SE = meanDifference/t_statics ==> here mean_difference of two scheme is 4000 and t_statics value is 1.5559143823544377\n",
        "    then critical value = (t value at 0.05) "
      ]
    },
    {
      "cell_type": "code",
      "metadata": {
        "id": "v4Sc9dF_OIUo",
        "colab_type": "code",
        "outputId": "8c163bc8-c711-409e-85c3-042c3d248227",
        "colab": {
          "base_uri": "https://localhost:8080/",
          "height": 35
        }
      },
      "source": [
        "SE = 4000/t_stats\n",
        "Difference_of_mean_at_CV = (stats.t.ppf(1-0.05,29))*SE # (1-0.05) for upper tail\n",
        "Difference_of_mean_at_CV"
      ],
      "execution_count": 0,
      "outputs": [
        {
          "output_type": "execute_result",
          "data": {
            "text/plain": [
              "4368.176156228718"
            ]
          },
          "metadata": {
            "tags": []
          },
          "execution_count": 11
        }
      ]
    },
    {
      "cell_type": "code",
      "metadata": {
        "id": "mbqi1rRH0aIq",
        "colab_type": "code",
        "colab": {}
      },
      "source": [
        "# now calculation of t_statics value at point where difference is 5000\n",
        "t_stat_at_5000 = 5000/SE"
      ],
      "execution_count": 0,
      "outputs": []
    },
    {
      "cell_type": "code",
      "metadata": {
        "id": "kEDmBuLK0pdU",
        "colab_type": "code",
        "outputId": "1e78a829-eaa9-486f-9eb3-a55efcfd9c84",
        "colab": {
          "base_uri": "https://localhost:8080/",
          "height": 35
        }
      },
      "source": [
        "# probability to difference is going to greater than 5000 is \n",
        "p_value_at_greaterfrom5000 =(1-stats.t.cdf(t_stat_at_5000,29))\n",
        "p_value_at_greaterfrom5000"
      ],
      "execution_count": 0,
      "outputs": [
        {
          "output_type": "execute_result",
          "data": {
            "text/plain": [
              "0.030771084315083463"
            ]
          },
          "metadata": {
            "tags": []
          },
          "execution_count": 18
        }
      ]
    },
    {
      "cell_type": "markdown",
      "metadata": {
        "id": "8qaVFaD12vUT",
        "colab_type": "text"
      },
      "source": [
        "Problem 4c : Power of test"
      ]
    },
    {
      "cell_type": "code",
      "metadata": {
        "id": "f6kXM0cO2yKL",
        "colab_type": "code",
        "outputId": "0c983187-ea19-4b23-8985-9f0a77199916",
        "colab": {
          "base_uri": "https://localhost:8080/",
          "height": 35
        }
      },
      "source": [
        "# power of test is not occuring Type-2 error if B is type-2 error then power of test is (1-B)\n",
        "# when alternate hyposthesis is true and mean difference is 5000\n",
        "ud=5000\n",
        "x=Difference_of_mean_at_CV #(alpha critical value)\n",
        "t = (4368.176-5000)/SE\n",
        "t"
      ],
      "execution_count": 0,
      "outputs": [
        {
          "output_type": "execute_result",
          "data": {
            "text/plain": [
              "-0.24576601217917743"
            ]
          },
          "metadata": {
            "tags": []
          },
          "execution_count": 29
        }
      ]
    },
    {
      "cell_type": "code",
      "metadata": {
        "id": "CAJcXmg7_a82",
        "colab_type": "code",
        "outputId": "174734aa-4f9e-49e0-8cb0-fdd77de519e0",
        "colab": {
          "base_uri": "https://localhost:8080/",
          "height": 35
        }
      },
      "source": [
        "# Beta calculation\n",
        "beta = stats.t.cdf(t,29)\n",
        "beta"
      ],
      "execution_count": 0,
      "outputs": [
        {
          "output_type": "execute_result",
          "data": {
            "text/plain": [
              "0.4037972291824633"
            ]
          },
          "metadata": {
            "tags": []
          },
          "execution_count": 30
        }
      ]
    },
    {
      "cell_type": "code",
      "metadata": {
        "id": "Z36qliEpEowA",
        "colab_type": "code",
        "outputId": "1d7afd21-2d2a-417e-f079-fa59c0c3c169",
        "colab": {
          "base_uri": "https://localhost:8080/",
          "height": 35
        }
      },
      "source": [
        "#power of test\n",
        "power_test = 1-beta\n",
        "power_test"
      ],
      "execution_count": 0,
      "outputs": [
        {
          "output_type": "execute_result",
          "data": {
            "text/plain": [
              "0.5962027708175367"
            ]
          },
          "metadata": {
            "tags": []
          },
          "execution_count": 31
        }
      ]
    },
    {
      "cell_type": "markdown",
      "metadata": {
        "id": "QBwzHFzrr6JA",
        "colab_type": "text"
      },
      "source": [
        ""
      ]
    }
  ]
}